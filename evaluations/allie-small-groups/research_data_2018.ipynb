{
 "cells": [
  {
   "cell_type": "markdown",
   "metadata": {},
   "source": [
    "# Survey Answers After Wednesday Class\n",
    "\n",
    "Answer choices were:\n",
    "0. Strongly agree\n",
    "1. Somewhat agree\n",
    "2. Neither agree nor disagree\n",
    "3. Somewhat disagree\n",
    "4. Strongly disagree"
   ]
  },
  {
   "cell_type": "code",
   "execution_count": 1,
   "metadata": {},
   "outputs": [],
   "source": [
    "import matplotlib.pyplot as plt\n",
    "import random\n",
    "import scipy.stats as st\n",
    "import pandas as pd\n",
    "import csv\n",
    "import numpy as np\n",
    "from math import sqrt\n",
    "from numpy import mean, std"
   ]
  },
  {
   "cell_type": "code",
   "execution_count": 92,
   "metadata": {},
   "outputs": [],
   "source": [
    "def findResults(a_list):\n",
    "    results = []\n",
    "    strongPositive = 0\n",
    "    positive = 0\n",
    "    neutral = 0\n",
    "    negative = 0\n",
    "    strongNegative = 0\n",
    "    for x in a_list:\n",
    "        if (x == 'Strongly agree'):\n",
    "            strongPositive = strongPositive + 1\n",
    "        elif (x == 'Somewhat agree'):\n",
    "            positive = positive + 1\n",
    "        elif (x == 'Neither agree nor disagree'):\n",
    "            neutral = neutral + 1\n",
    "        elif (x == 'Somewhat disagree'):\n",
    "            negative = negative + 1\n",
    "        elif (x == 'Strongly disagree'):\n",
    "            strongNegative = strongNegative + 1\n",
    "        else:\n",
    "            raise Exception(x)\n",
    "    return [strongPositive, positive, neutral, negative, strongNegative] \n",
    "map_result = {'Strongly agree': 2, 'Somewhat agree': 1,\n",
    "            'Neither agree nor disagree': 0,\n",
    "            'Somewhat disagree': -1, 'Strongly disagree': -2}\n",
    "rmap = {v:k for k,v in map_result.items()}\n",
    "def make_percentage(results):\n",
    "    total = sum(results)\n",
    "    results = [100*r/total for r in results]\n",
    "    return results\n",
    "def expand_frequencies(a_list):\n",
    "    return [i for i,x in enumerate(a_list)\n",
    "           for r in range(x)]\n",
    "def classify_pvalue(pvalue):\n",
    "    if pvalue < .01:\n",
    "        return \"Significant\"\n",
    "    else:\n",
    "        return \"Not significant\"\n",
    "def cohen_d(x,y):\n",
    "    cohens_d = (mean(x) - mean(y)) / sqrt((std(x, ddof=1) ** 2 + std(y, ddof=1) ** 2) / 2.0)\n",
    "    direction = \"negative\" if cohens_d < 0 else \"positive\"\n",
    "    if abs(cohens_d) <= .2:\n",
    "        return \"Small \"+direction\n",
    "    elif abs(cohens_d) <= .5:\n",
    "        return \"Medium \"+direction\n",
    "    elif abs(cohens_d) <= .8:\n",
    "        return \"Large \"+direction\n",
    "    else:\n",
    "        return \"Very large \"+direction"
   ]
  },
  {
   "cell_type": "code",
   "execution_count": 52,
   "metadata": {},
   "outputs": [],
   "source": [
    "LIKERT_SCALE = [\"Strongly Disagree\", \"Somewhat Disagree\",\n",
    "                \"Neither Agree nor Disagree\",\n",
    "                \"Somewhat Agree\",\"Strongly Agree\", ]\n",
    "LIKERT_COLORS = ['white', 'red', 'pink', 'gainsboro',\n",
    "                 'blue', 'darkblue']\n"
   ]
  },
  {
   "cell_type": "code",
   "execution_count": 19,
   "metadata": {},
   "outputs": [],
   "source": [
    "wed_df = pd.read_csv('s18-Wednesday Post-class Survey-anon.csv')\n",
    "responses = wed_df.iloc[:,7]\n",
    "responses = responses.str.split(',', expand = True)\n",
    "wed1 = responses.iloc[:,0].values\n",
    "wed2 = responses.iloc[:,1].values\n",
    "wed3 = responses.iloc[:,2].values\n",
    "wed4 = responses.iloc[:,3].values\n",
    "wed5 = responses.iloc[:,4].values\n",
    "\n",
    "final_df = pd.read_csv('f17-Survey_ Final Survey-anon.csv')\n",
    "final_responses = final_df.iloc[:,10]\n",
    "final_responses = final_responses.str.split(',', expand = True)\n",
    "final1 = final_responses.iloc[:,0].values\n",
    "final2 = final_responses.iloc[:,1].values\n",
    "final3 = final_responses.iloc[:,2].values\n",
    "final4 = final_responses.iloc[:,3].values\n",
    "final5 = final_responses.iloc[:,4].values"
   ]
  },
  {
   "cell_type": "code",
   "execution_count": 107,
   "metadata": {},
   "outputs": [],
   "source": [
    "stacked = pd.DataFrame([make_percentage(wed), \n",
    "                            make_percentage(final)], \n",
    "                           columns=LIKERT_SCALE,\n",
    "                          index=[\"Treatment\", \"Baseline\"])"
   ]
  },
  {
   "cell_type": "code",
   "execution_count": 113,
   "metadata": {},
   "outputs": [
    {
     "name": "stdout",
     "output_type": "stream",
     "text": [
      "True\n",
      "I had the opportunity to work with others (peers and TAs) to enhance my learning.: Large negative 0.46 1.18\n",
      "False\n",
      "Working with others during class helped me feel more prepared to start my project.: Small positive 0.91 0.7\n",
      "False\n",
      "othersUnderstanding: Medium positive 0.9 0.68\n",
      "False\n",
      "othersTools: Small negative 0.35 0.58\n",
      "True\n",
      "findAnswers: Large negative 0.34 0.98\n"
     ]
    },
    {
     "data": {
      "image/png": "[encoded data removed]",
      "text/plain": [
       "<matplotlib.figure.Figure at 0x19ef62059b0>"
      ]
     },
     "metadata": {},
     "output_type": "display_data"
    },
    {
     "data": {
      "image/png": "[encoded data removed]",
      "text/plain": [
       "<matplotlib.figure.Figure at 0x19ef64b9588>"
      ]
     },
     "metadata": {},
     "output_type": "display_data"
    },
    {
     "data": {
      "image/png": "[encoded data removed]",
      "text/plain": [
       "<matplotlib.figure.Figure at 0x19ef4ae1438>"
      ]
     },
     "metadata": {},
     "output_type": "display_data"
    },
    {
     "data": {
      "image/png": "[encoded data removed]",
      "text/plain": [
       "<matplotlib.figure.Figure at 0x19ef6239860>"
      ]
     },
     "metadata": {},
     "output_type": "display_data"
    },
    {
     "data": {
      "image/png": "[encoded data removed]",
      "text/plain": [
       "<matplotlib.figure.Figure at 0x19ef6508d30>"
      ]
     },
     "metadata": {},
     "output_type": "display_data"
    }
   ],
   "source": [
    "data = [('I had the opportunity to work with others (peers and TAs) to enhance my learning.', wed1, final1),\n",
    "        ('Working with others during class helped me feel more prepared to start my project.', wed2, final2),\n",
    "        ('othersUnderstanding', wed3, final3),\n",
    "        ('othersTools', wed4, final4),\n",
    "        ('findAnswers', wed5, final5)\n",
    "       ]\n",
    "for (question, wed, final) in data:\n",
    "    expanded_wed = pd.Series(wed).map(map_result)\n",
    "    expanded_final = pd.Series(final).map(map_result)\n",
    "    wed = expanded_wed.value_counts().sort_index()\n",
    "    final = expanded_final.value_counts().sort_index()\n",
    "    # Statistical Test\n",
    "    s, p = st.mannwhitneyu(expanded_wed, expanded_final)\n",
    "    effect_size = cohen_d(expanded_final, expanded_wed)\n",
    "    print(p < .01)\n",
    "    print(question+\":\", effect_size, round(expanded_final.mean(), 2), round(expanded_wed.mean(),2))\n",
    "    # Construct data\n",
    "    stacked = pd.DataFrame([make_percentage(wed), \n",
    "                            make_percentage(final)], \n",
    "                           columns=LIKERT_SCALE,\n",
    "                          index=[\"Treatment\", \"Baseline\"])\n",
    "    # Calculate offset\n",
    "    middles = stacked[LIKERT_SCALE[:2]].sum(axis=1) + stacked[LIKERT_SCALE[2]]*.5\n",
    "    stacked.insert(0, '', (middles - 100).abs())\n",
    "    # Make Bar Graph\n",
    "    stacked.plot.barh(stacked=True, color=LIKERT_COLORS,\n",
    "                     figsize=(8, 2))\n",
    "    # Make vertical bar\n",
    "    z = plt.axvline(100, linestyle='--', color='black', alpha=.5)\n",
    "    z.set_zorder(-1)\n",
    "    # Add annotations\n",
    "    l = plt.legend(loc=(1.1, .5))\n",
    "    l.remove()\n",
    "    plt.title(question)\n",
    "    #plt.title(classify_pvalue(p) + \" (\"+ effect_size+\")\")\n",
    "    # Fix x-axis labeling\n",
    "    plt.xlim(50, 200)\n",
    "    xvalues = np.arange(50,201,25)\n",
    "    xlabels = [str(round(x-100))+\"%\" for x in xvalues]\n",
    "    plt.xticks(xvalues, xlabels)\n",
    "    # Show graph\n",
    "    #plt.show()\n",
    "    plt.savefig(question+'.png', dpi=300)\n",
    "\n",
    "    "
   ]
  },
  {
   "cell_type": "code",
   "execution_count": 7,
   "metadata": {},
   "outputs": [
    {
     "name": "stdout",
     "output_type": "stream",
     "text": [
      "SpearmanrResult(correlation=0.4126581059708655, pvalue=2.2575028216896629e-10)\n"
     ]
    },
    {
     "data": {
      "image/png": "[encoded data removed]",
      "text/plain": [
       "<matplotlib.figure.Figure at 0x19ef45b9320>"
      ]
     },
     "metadata": {},
     "output_type": "display_data"
    }
   ],
   "source": [
    "# Statistical Test\n",
    "f1 = [map_result[f] for f in wed1]#+[map_result[f] for f in final1]\n",
    "f2 = [map_result[f] for f in wed2]#+[map_result[f] for f in final2]\n",
    "print(st.spearmanr(f1, f2))\n",
    "plt.hist2d(f1, f2)\n",
    "plt.show()"
   ]
  },
  {
   "cell_type": "code",
   "execution_count": null,
   "metadata": {},
   "outputs": [],
   "source": []
  }
 ],
 "metadata": {
  "kernelspec": {
   "display_name": "Python [default]",
   "language": "python",
   "name": "python3"
  },
  "language_info": {
   "codemirror_mode": {
    "name": "ipython",
    "version": 3
   },
   "file_extension": ".py",
   "mimetype": "text/x-python",
   "name": "python",
   "nbconvert_exporter": "python",
   "pygments_lexer": "ipython3",
   "version": "3.5.4"
  }
 },
 "nbformat": 4,
 "nbformat_minor": 2
}
