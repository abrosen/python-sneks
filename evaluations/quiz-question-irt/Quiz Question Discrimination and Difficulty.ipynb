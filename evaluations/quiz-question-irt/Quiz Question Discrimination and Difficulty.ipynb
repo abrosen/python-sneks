{
 "cells": [
  {
   "cell_type": "code",
   "execution_count": 2,
   "metadata": {},
   "outputs": [
    {
     "data": {
      "image/png": "[encoded data removed]",
      "text/plain": [
       "<matplotlib.figure.Figure at 0x2c8f25ef9e8>"
      ]
     },
     "metadata": {},
     "output_type": "display_data"
    },
    {
     "data": {
      "image/png": "[encoded data removed]",
      "text/plain": [
       "<matplotlib.figure.Figure at 0x2c8f2646128>"
      ]
     },
     "metadata": {},
     "output_type": "display_data"
    }
   ],
   "source": [
    "import pandas as pd\n",
    "import matplotlib.pyplot as plt\n",
    "import scipy.stats as st\n",
    "from pandas.io.json import json_normalize\n",
    "import json\n",
    "from natsort import natsorted, index_natsorted, order_by_index\n",
    "\n",
    "with open('combined.json') as data_file:    \n",
    "    data = json.load(data_file)  \n",
    "\n",
    "df = json_normalize(data)\n",
    "\n",
    "#df[~df.path.str.contains('survey', case=False)].count()\n",
    "df = df[~df.path.str.contains('survey', case=False)]\n",
    "df = df[~df.path.str.contains('exam', case=False)]\n",
    "#plt.scatter(df['discrimination.course'], df['discrimination.quiz'])\n",
    "#df['discrimination.course'].plot.hist()\n",
    "df['difficulty.initial'].plot.hist(figsize=(6,1.5))\n",
    "plt.axvline(.86, linestyle='--', color='black', linewidth=1)\n",
    "plt.axvline(.71, linestyle='--', color='black', linewidth=1)\n",
    "plt.axvline(.3, linestyle='--', color='black', linewidth=1)\n",
    "plt.axvline(.15, linestyle='--', color='black', linewidth=1)\n",
    "plt.xlim(0, 1)\n",
    "plt.xticks([0.075, .225, .5, .8, .95], \n",
    "           ['Very\\nDifficult', 'Difficult', 'Moderate', 'Easy', 'Very\\nEasy'])\n",
    "plt.title(\"Difficulty of Quiz Questions on First Attempt\")\n",
    "#plt.xlabel(\"Difficulty\")\n",
    "plt.ylabel(\"Problems\")\n",
    "plt.show()\n",
    "\n",
    "df['discrimination.quiz'].plot.hist(bins=10, figsize=(6,1.5))\n",
    "plt.axvline(.86, linestyle='--', color='black', linewidth=1)\n",
    "plt.axvline(.71, linestyle='--', color='black', linewidth=1)\n",
    "plt.axvline(.3, linestyle='--', color='black', linewidth=1)\n",
    "plt.axvline(.15, linestyle='--', color='black', linewidth=1)\n",
    "plt.xticks([0.075, .225, .5, .8, .95], \n",
    "           ['Very\\nLow', 'Okay', 'Very\\nGood', 'Okay', 'Very\\nLow'])\n",
    "plt.xlim(0, 1)\n",
    "plt.title(\"Discrimination of Quiz Questions for Entire Quiz\")\n",
    "#plt.xlabel(\"Discrimination\")\n",
    "plt.ylabel(\"Problems\")\n",
    "plt.show()"
   ]
  },
  {
   "cell_type": "code",
   "execution_count": 3,
   "metadata": {},
   "outputs": [
    {
     "data": {
      "text/html": [
       "<div>\n",
       "<style scoped>\n",
       "    .dataframe tbody tr th:only-of-type {\n",
       "        vertical-align: middle;\n",
       "    }\n",
       "\n",
       "    .dataframe tbody tr th {\n",
       "        vertical-align: top;\n",
       "    }\n",
       "\n",
       "    .dataframe thead th {\n",
       "        text-align: right;\n",
       "    }\n",
       "</style>\n",
       "<table border=\"1\" class=\"dataframe\">\n",
       "  <thead>\n",
       "    <tr style=\"text-align: right;\">\n",
       "      <th></th>\n",
       "      <th>anonymous</th>\n",
       "      <th>difficulty.final</th>\n",
       "      <th>difficulty.initial</th>\n",
       "      <th>difficulty.overall</th>\n",
       "      <th>discrimination.course</th>\n",
       "      <th>discrimination.quiz</th>\n",
       "      <th>name</th>\n",
       "      <th>path</th>\n",
       "      <th>points_possible</th>\n",
       "      <th>question_name</th>\n",
       "      <th>text</th>\n",
       "    </tr>\n",
       "  </thead>\n",
       "  <tbody>\n",
       "    <tr>\n",
       "      <th>266</th>\n",
       "      <td>False</td>\n",
       "      <td>0.888529</td>\n",
       "      <td>0.899317</td>\n",
       "      <td>0.803780</td>\n",
       "      <td>0.339942</td>\n",
       "      <td>0.721249</td>\n",
       "      <td>Matching Question</td>\n",
       "      <td>quizzes/s18_python/39 Quiz Dictionaries Quiz S...</td>\n",
       "      <td>4.5</td>\n",
       "      <td>DictionariesParts</td>\n",
       "      <td>\\n&lt;p&gt;Identify each of the components of the Di...</td>\n",
       "    </tr>\n",
       "    <tr>\n",
       "      <th>273</th>\n",
       "      <td>False</td>\n",
       "      <td>0.873786</td>\n",
       "      <td>0.877023</td>\n",
       "      <td>0.780728</td>\n",
       "      <td>0.317141</td>\n",
       "      <td>0.600079</td>\n",
       "      <td>Multiple Choice Question</td>\n",
       "      <td>quizzes/s18_python/39 Quiz Dictionaries Quiz S...</td>\n",
       "      <td>1.0</td>\n",
       "      <td>LookupSyntax</td>\n",
       "      <td>Which of the following demonstrates proper syn...</td>\n",
       "    </tr>\n",
       "    <tr>\n",
       "      <th>274</th>\n",
       "      <td>False</td>\n",
       "      <td>0.855987</td>\n",
       "      <td>0.576052</td>\n",
       "      <td>0.637414</td>\n",
       "      <td>0.306644</td>\n",
       "      <td>0.854650</td>\n",
       "      <td>Multiple Answers Question</td>\n",
       "      <td>quizzes/s18_python/39 Quiz Dictionaries Quiz S...</td>\n",
       "      <td>5.0</td>\n",
       "      <td>ValidLookups</td>\n",
       "      <td>\\n&lt;p&gt;Given the following code,&lt;/p&gt;\\n&lt;pre&gt;dict ...</td>\n",
       "    </tr>\n",
       "    <tr>\n",
       "      <th>255</th>\n",
       "      <td>False</td>\n",
       "      <td>0.907166</td>\n",
       "      <td>0.574919</td>\n",
       "      <td>0.617742</td>\n",
       "      <td>0.305896</td>\n",
       "      <td>0.526424</td>\n",
       "      <td>Multiple Answers Question</td>\n",
       "      <td>quizzes/s18_python/37 Quiz List Comprehensions...</td>\n",
       "      <td>1.0</td>\n",
       "      <td>ComprehensionVsLoop</td>\n",
       "      <td>Which of the following code snippets are equiv...</td>\n",
       "    </tr>\n",
       "    <tr>\n",
       "      <th>272</th>\n",
       "      <td>False</td>\n",
       "      <td>0.877832</td>\n",
       "      <td>0.868123</td>\n",
       "      <td>0.782203</td>\n",
       "      <td>0.288753</td>\n",
       "      <td>0.624535</td>\n",
       "      <td>Matching Question</td>\n",
       "      <td>quizzes/s18_python/39 Quiz Dictionaries Quiz S...</td>\n",
       "      <td>2.0</td>\n",
       "      <td>KeyValueTypes</td>\n",
       "      <td>\\n&lt;p&gt;Given this dictionary...&lt;/p&gt;\\n&lt;pre&gt;animal...</td>\n",
       "    </tr>\n",
       "    <tr>\n",
       "      <th>226</th>\n",
       "      <td>False</td>\n",
       "      <td>0.688811</td>\n",
       "      <td>0.725087</td>\n",
       "      <td>0.588428</td>\n",
       "      <td>0.286177</td>\n",
       "      <td>0.904874</td>\n",
       "      <td>Fill in Multiple Blanks</td>\n",
       "      <td>quizzes/s18_python/32 Quiz For Loops Quiz Stud...</td>\n",
       "      <td>11.0</td>\n",
       "      <td>Loop Tracing</td>\n",
       "      <td>\\n&lt;p&gt;Trace the values of this code. If a varia...</td>\n",
       "    </tr>\n",
       "    <tr>\n",
       "      <th>146</th>\n",
       "      <td>False</td>\n",
       "      <td>0.796326</td>\n",
       "      <td>0.898562</td>\n",
       "      <td>0.880119</td>\n",
       "      <td>0.284847</td>\n",
       "      <td>0.552623</td>\n",
       "      <td>Fill in Multiple Blanks</td>\n",
       "      <td>quizzes/s18_python/24 Quiz Documenting Quiz St...</td>\n",
       "      <td>2.0</td>\n",
       "      <td>DocumentationIntepret</td>\n",
       "      <td>&lt;p&gt;Interpret the documentation below to fill i...</td>\n",
       "    </tr>\n",
       "    <tr>\n",
       "      <th>39</th>\n",
       "      <td>False</td>\n",
       "      <td>0.919614</td>\n",
       "      <td>0.646550</td>\n",
       "      <td>0.719457</td>\n",
       "      <td>0.264632</td>\n",
       "      <td>0.918365</td>\n",
       "      <td>Fill in Multiple Blanks</td>\n",
       "      <td>quizzes/s18_python/12 Quiz Tracing Quiz Studen...</td>\n",
       "      <td>6.5</td>\n",
       "      <td>Sequential Tracing</td>\n",
       "      <td>&lt;p&gt;Trace the value of the three variables abov...</td>\n",
       "    </tr>\n",
       "    <tr>\n",
       "      <th>247</th>\n",
       "      <td>False</td>\n",
       "      <td>0.811688</td>\n",
       "      <td>0.863636</td>\n",
       "      <td>0.846658</td>\n",
       "      <td>0.258120</td>\n",
       "      <td>0.532487</td>\n",
       "      <td>Multiple Choice Question</td>\n",
       "      <td>quizzes/s18_python/36 Quiz Lists and Indexes Q...</td>\n",
       "      <td>1.0</td>\n",
       "      <td>Best Way to Iterate</td>\n",
       "      <td>&lt;p&gt;Which of the following is the best way to p...</td>\n",
       "    </tr>\n",
       "    <tr>\n",
       "      <th>275</th>\n",
       "      <td>False</td>\n",
       "      <td>0.870550</td>\n",
       "      <td>0.784250</td>\n",
       "      <td>0.756801</td>\n",
       "      <td>0.257839</td>\n",
       "      <td>0.611876</td>\n",
       "      <td>Fill in Multiple Blanks</td>\n",
       "      <td>quizzes/s18_python/39 Quiz Dictionaries Quiz S...</td>\n",
       "      <td>1.5</td>\n",
       "      <td>LookupCalculation</td>\n",
       "      <td>\\n&lt;p&gt;Given the following dictionary,&lt;/p&gt;\\n&lt;pre...</td>\n",
       "    </tr>\n",
       "  </tbody>\n",
       "</table>\n",
       "</div>"
      ],
      "text/plain": [
       "     anonymous  difficulty.final  difficulty.initial  difficulty.overall  \\\n",
       "266      False          0.888529            0.899317            0.803780   \n",
       "273      False          0.873786            0.877023            0.780728   \n",
       "274      False          0.855987            0.576052            0.637414   \n",
       "255      False          0.907166            0.574919            0.617742   \n",
       "272      False          0.877832            0.868123            0.782203   \n",
       "226      False          0.688811            0.725087            0.588428   \n",
       "146      False          0.796326            0.898562            0.880119   \n",
       "39       False          0.919614            0.646550            0.719457   \n",
       "247      False          0.811688            0.863636            0.846658   \n",
       "275      False          0.870550            0.784250            0.756801   \n",
       "\n",
       "     discrimination.course  discrimination.quiz                       name  \\\n",
       "266               0.339942             0.721249          Matching Question   \n",
       "273               0.317141             0.600079   Multiple Choice Question   \n",
       "274               0.306644             0.854650  Multiple Answers Question   \n",
       "255               0.305896             0.526424  Multiple Answers Question   \n",
       "272               0.288753             0.624535          Matching Question   \n",
       "226               0.286177             0.904874    Fill in Multiple Blanks   \n",
       "146               0.284847             0.552623    Fill in Multiple Blanks   \n",
       "39                0.264632             0.918365    Fill in Multiple Blanks   \n",
       "247               0.258120             0.532487   Multiple Choice Question   \n",
       "275               0.257839             0.611876    Fill in Multiple Blanks   \n",
       "\n",
       "                                                  path  points_possible  \\\n",
       "266  quizzes/s18_python/39 Quiz Dictionaries Quiz S...              4.5   \n",
       "273  quizzes/s18_python/39 Quiz Dictionaries Quiz S...              1.0   \n",
       "274  quizzes/s18_python/39 Quiz Dictionaries Quiz S...              5.0   \n",
       "255  quizzes/s18_python/37 Quiz List Comprehensions...              1.0   \n",
       "272  quizzes/s18_python/39 Quiz Dictionaries Quiz S...              2.0   \n",
       "226  quizzes/s18_python/32 Quiz For Loops Quiz Stud...             11.0   \n",
       "146  quizzes/s18_python/24 Quiz Documenting Quiz St...              2.0   \n",
       "39   quizzes/s18_python/12 Quiz Tracing Quiz Studen...              6.5   \n",
       "247  quizzes/s18_python/36 Quiz Lists and Indexes Q...              1.0   \n",
       "275  quizzes/s18_python/39 Quiz Dictionaries Quiz S...              1.5   \n",
       "\n",
       "             question_name                                               text  \n",
       "266      DictionariesParts  \\n<p>Identify each of the components of the Di...  \n",
       "273           LookupSyntax  Which of the following demonstrates proper syn...  \n",
       "274           ValidLookups  \\n<p>Given the following code,</p>\\n<pre>dict ...  \n",
       "255    ComprehensionVsLoop  Which of the following code snippets are equiv...  \n",
       "272          KeyValueTypes  \\n<p>Given this dictionary...</p>\\n<pre>animal...  \n",
       "226           Loop Tracing  \\n<p>Trace the values of this code. If a varia...  \n",
       "146  DocumentationIntepret  <p>Interpret the documentation below to fill i...  \n",
       "39      Sequential Tracing  <p>Trace the value of the three variables abov...  \n",
       "247    Best Way to Iterate  <p>Which of the following is the best way to p...  \n",
       "275      LookupCalculation  \\n<p>Given the following dictionary,</p>\\n<pre...  "
      ]
     },
     "execution_count": 3,
     "metadata": {},
     "output_type": "execute_result"
    }
   ],
   "source": [
    "#print(df.ix[df['discrimination.course'].idxmax()])\n",
    "df.sort_values('discrimination.course', ascending=False).head(10)"
   ]
  },
  {
   "cell_type": "code",
   "execution_count": null,
   "metadata": {},
   "outputs": [],
   "source": []
  },
  {
   "cell_type": "code",
   "execution_count": 21,
   "metadata": {},
   "outputs": [
    {
     "data": {
      "text/html": [
       "\n",
       "    <h3>Define Programming</h3>\n",
       "    <super>Multiple Answers Question</super>\n",
       "    <div>Difficult: 0.87</div>\n",
       "    <div>Discrimination: 0.08</div>\n",
       "    <div>Which of the following are TRUE?</div>\n",
       "    <hr>\n",
       "    "
      ],
      "text/plain": [
       "<IPython.core.display.HTML object>"
      ]
     },
     "metadata": {},
     "output_type": "display_data"
    },
    {
     "data": {
      "text/html": [
       "\n",
       "    <h3>Program Phases</h3>\n",
       "    <super>Multiple Drop-Down Question</super>\n",
       "    <div>Difficult: 0.88</div>\n",
       "    <div>Discrimination: 0.15</div>\n",
       "    <div>\n",
       "<p>Put these three phases of programs into order:</p>\n",
       "<p>1) [first]</p>\n",
       "<p>2) [second]</p>\n",
       "<p>3) [third]</p>\n",
       "</div>\n",
       "    <hr>\n",
       "    "
      ],
      "text/plain": [
       "<IPython.core.display.HTML object>"
      ]
     },
     "metadata": {},
     "output_type": "display_data"
    },
    {
     "data": {
      "text/html": [
       "\n",
       "    <h3>Synonyms</h3>\n",
       "    <super>Multiple Answers Question</super>\n",
       "    <div>Difficult: 0.88</div>\n",
       "    <div>Discrimination: 0.13</div>\n",
       "    <div>Select all of the following that are common synonyms for the term \"program\":</div>\n",
       "    <hr>\n",
       "    "
      ],
      "text/plain": [
       "<IPython.core.display.HTML object>"
      ]
     },
     "metadata": {},
     "output_type": "display_data"
    },
    {
     "data": {
      "text/html": [
       "\n",
       "    <h3>Discovered</h3>\n",
       "    <super>True/False Questions</super>\n",
       "    <div>Difficult: 0.9</div>\n",
       "    <div>Discrimination: 0.2</div>\n",
       "    <div>Humans discovered programming languages in the 1940s and have been decoding them ever since</div>\n",
       "    <hr>\n",
       "    "
      ],
      "text/plain": [
       "<IPython.core.display.HTML object>"
      ]
     },
     "metadata": {},
     "output_type": "display_data"
    },
    {
     "data": {
      "text/html": [
       "\n",
       "    <h3>Rules</h3>\n",
       "    <super>True/False Questions</super>\n",
       "    <div>Difficult: 0.9</div>\n",
       "    <div>Discrimination: nan</div>\n",
       "    <div>Programming languages, like regular languages, have rules.</div>\n",
       "    <hr>\n",
       "    "
      ],
      "text/plain": [
       "<IPython.core.display.HTML object>"
      ]
     },
     "metadata": {},
     "output_type": "display_data"
    },
    {
     "data": {
      "text/html": [
       "\n",
       "    <h3>Instructions</h3>\n",
       "    <super>True/False Questions</super>\n",
       "    <div>Difficult: 0.9</div>\n",
       "    <div>Discrimination: 0.14</div>\n",
       "    <div>Programming languages are good for writing instructions.</div>\n",
       "    <hr>\n",
       "    "
      ],
      "text/plain": [
       "<IPython.core.display.HTML object>"
      ]
     },
     "metadata": {},
     "output_type": "display_data"
    },
    {
     "data": {
      "text/html": [
       "\n",
       "    <h3>Good Language</h3>\n",
       "    <super>Multiple Answers Question</super>\n",
       "    <div>Difficult: 0.9</div>\n",
       "    <div>Discrimination: 0.18</div>\n",
       "    <div>Which of the following are reasons why Python is a good language to learn?</div>\n",
       "    <hr>\n",
       "    "
      ],
      "text/plain": [
       "<IPython.core.display.HTML object>"
      ]
     },
     "metadata": {},
     "output_type": "display_data"
    },
    {
     "data": {
      "text/html": [
       "\n",
       "    <h3>Uses</h3>\n",
       "    <super>Multiple Answers Question</super>\n",
       "    <div>Difficult: 0.89</div>\n",
       "    <div>Discrimination: 0.02</div>\n",
       "    <div>What are some common uses of Python?</div>\n",
       "    <hr>\n",
       "    "
      ],
      "text/plain": [
       "<IPython.core.display.HTML object>"
      ]
     },
     "metadata": {},
     "output_type": "display_data"
    },
    {
     "data": {
      "text/html": [
       "\n",
       "    <h3>Errors</h3>\n",
       "    <super>Matching Question</super>\n",
       "    <div>Difficult: 0.9</div>\n",
       "    <div>Discrimination: 0.06</div>\n",
       "    <div>Match the error with the sentence.</div>\n",
       "    <hr>\n",
       "    "
      ],
      "text/plain": [
       "<IPython.core.display.HTML object>"
      ]
     },
     "metadata": {},
     "output_type": "display_data"
    },
    {
     "data": {
      "text/html": [
       "\n",
       "    <h3>Python Facts</h3>\n",
       "    <super>Multiple Answers Question</super>\n",
       "    <div>Difficult: 0.86</div>\n",
       "    <div>Discrimination: 0.24</div>\n",
       "    <div>Which of the following are TRUE statements about Python?</div>\n",
       "    <hr>\n",
       "    "
      ],
      "text/plain": [
       "<IPython.core.display.HTML object>"
      ]
     },
     "metadata": {},
     "output_type": "display_data"
    },
    {
     "data": {
      "text/html": [
       "\n",
       "    <h3>RunningSynonyms</h3>\n",
       "    <super>Multiple Answers Question</super>\n",
       "    <div>Difficult: 0.86</div>\n",
       "    <div>Discrimination: -0.01</div>\n",
       "    <div>Which of the following are equivalent to the phrase \"Ran a program\"?</div>\n",
       "    <hr>\n",
       "    "
      ],
      "text/plain": [
       "<IPython.core.display.HTML object>"
      ]
     },
     "metadata": {},
     "output_type": "display_data"
    },
    {
     "data": {
      "text/html": [
       "\n",
       "    <h3>LineByLineExecution</h3>\n",
       "    <super>True/False Questions</super>\n",
       "    <div>Difficult: 0.86</div>\n",
       "    <div>Discrimination: -0.03</div>\n",
       "    <div>When a program is being executed, each line of the program is executed at the same time.</div>\n",
       "    <hr>\n",
       "    "
      ],
      "text/plain": [
       "<IPython.core.display.HTML object>"
      ]
     },
     "metadata": {},
     "output_type": "display_data"
    },
    {
     "data": {
      "text/html": [
       "\n",
       "    <h3>GenderDifference</h3>\n",
       "    <super>True/False Questions</super>\n",
       "    <div>Difficult: 0.13</div>\n",
       "    <div>Discrimination: -0.06</div>\n",
       "    <div>Men are better than women at programming.</div>\n",
       "    <hr>\n",
       "    "
      ],
      "text/plain": [
       "<IPython.core.display.HTML object>"
      ]
     },
     "metadata": {},
     "output_type": "display_data"
    },
    {
     "data": {
      "text/html": [
       "\n",
       "    <h3>AttitudeDifference</h3>\n",
       "    <super>True/False Questions</super>\n",
       "    <div>Difficult: 0.13</div>\n",
       "    <div>Discrimination: 0.07</div>\n",
       "    <div>Your attitude has no impact on your ability to learn to program.</div>\n",
       "    <hr>\n",
       "    "
      ],
      "text/plain": [
       "<IPython.core.display.HTML object>"
      ]
     },
     "metadata": {},
     "output_type": "display_data"
    },
    {
     "data": {
      "text/html": [
       "\n",
       "    <h3>GritDifference</h3>\n",
       "    <super>True/False Questions</super>\n",
       "    <div>Difficult: 0.13</div>\n",
       "    <div>Discrimination: nan</div>\n",
       "    <div>If at first you don't succeed, then you should give up.</div>\n",
       "    <hr>\n",
       "    "
      ],
      "text/plain": [
       "<IPython.core.display.HTML object>"
      ]
     },
     "metadata": {},
     "output_type": "display_data"
    },
    {
     "data": {
      "text/html": [
       "\n",
       "    <h3>MasteryCourse</h3>\n",
       "    <super>True/False Questions</super>\n",
       "    <div>Difficult: 0.13</div>\n",
       "    <div>Discrimination: 0.06</div>\n",
       "    <div>You only get one attempt at most assignments in this course.</div>\n",
       "    <hr>\n",
       "    "
      ],
      "text/plain": [
       "<IPython.core.display.HTML object>"
      ]
     },
     "metadata": {},
     "output_type": "display_data"
    },
    {
     "data": {
      "text/html": [
       "\n",
       "    <h3>EarlyOftenDifference</h3>\n",
       "    <super>True/False Questions</super>\n",
       "    <div>Difficult: 0.13</div>\n",
       "    <div>Discrimination: 0.07</div>\n",
       "    <div>Getting started on an assignment immediately and working in frequent short bursts is a good way to succeed.</div>\n",
       "    <hr>\n",
       "    "
      ],
      "text/plain": [
       "<IPython.core.display.HTML object>"
      ]
     },
     "metadata": {},
     "output_type": "display_data"
    },
    {
     "data": {
      "text/html": [
       "\n",
       "    <h3>GettingHelpDifference</h3>\n",
       "    <super>True/False Questions</super>\n",
       "    <div>Difficult: 0.13</div>\n",
       "    <div>Discrimination: 0.07</div>\n",
       "    <div>Avoid getting help for as long as possible, so that you don't bother anyone.</div>\n",
       "    <hr>\n",
       "    "
      ],
      "text/plain": [
       "<IPython.core.display.HTML object>"
      ]
     },
     "metadata": {},
     "output_type": "display_data"
    },
    {
     "data": {
      "text/html": [
       "\n",
       "    <h3>StartingEarlyDifference</h3>\n",
       "    <super>True/False Questions</super>\n",
       "    <div>Difficult: 0.13</div>\n",
       "    <div>Discrimination: 0.1</div>\n",
       "    <div>If you're smart, it doesn't matter when you get started on an assignment - you'll probably do about as well as you would if you started earlier.</div>\n",
       "    <hr>\n",
       "    "
      ],
      "text/plain": [
       "<IPython.core.display.HTML object>"
      ]
     },
     "metadata": {},
     "output_type": "display_data"
    },
    {
     "data": {
      "text/html": [
       "\n",
       "    <h3>LearningToProgramIsHard</h3>\n",
       "    <super>True/False Questions</super>\n",
       "    <div>Difficult: 0.13</div>\n",
       "    <div>Discrimination: 0.04</div>\n",
       "    <div>Learning to program can be hard for some people.</div>\n",
       "    <hr>\n",
       "    "
      ],
      "text/plain": [
       "<IPython.core.display.HTML object>"
      ]
     },
     "metadata": {},
     "output_type": "display_data"
    },
    {
     "data": {
      "text/html": [
       "\n",
       "    <h3>GoodEmailTitles</h3>\n",
       "    <super>Multiple Answers Question</super>\n",
       "    <div>Difficult: 0.81</div>\n",
       "    <div>Discrimination: 0.14</div>\n",
       "    <div>Mark each of the following email titles if they are GOOD titles.</div>\n",
       "    <hr>\n",
       "    "
      ],
      "text/plain": [
       "<IPython.core.display.HTML object>"
      ]
     },
     "metadata": {},
     "output_type": "display_data"
    },
    {
     "data": {
      "text/html": [
       "\n",
       "    <h3>ErrorMessagesInEmails</h3>\n",
       "    <super>True/False Questions</super>\n",
       "    <div>Difficult: 0.81</div>\n",
       "    <div>Discrimination: 0.03</div>\n",
       "    <div>You should not put error messages into help seeking emails because it can clutter up the email.</div>\n",
       "    <hr>\n",
       "    "
      ],
      "text/plain": [
       "<IPython.core.display.HTML object>"
      ]
     },
     "metadata": {},
     "output_type": "display_data"
    },
    {
     "data": {
      "text/html": [
       "\n",
       "    <h3>ExpertsNeedHelp</h3>\n",
       "    <super>True/False Questions</super>\n",
       "    <div>Difficult: 0.81</div>\n",
       "    <div>Discrimination: 0.13</div>\n",
       "    <div>One of the differences between a novice and an expert is that experts don't need help.</div>\n",
       "    <hr>\n",
       "    "
      ],
      "text/plain": [
       "<IPython.core.display.HTML object>"
      ]
     },
     "metadata": {},
     "output_type": "display_data"
    },
    {
     "data": {
      "text/html": [
       "\n",
       "    <h3>SendingCode</h3>\n",
       "    <super>Multiple Answers Question</super>\n",
       "    <div>Difficult: 0.81</div>\n",
       "    <div>Discrimination: 0.2</div>\n",
       "    <div>Which of the following examples is an appropriate way to send code?</div>\n",
       "    <hr>\n",
       "    "
      ],
      "text/plain": [
       "<IPython.core.display.HTML object>"
      ]
     },
     "metadata": {},
     "output_type": "display_data"
    },
    {
     "data": {
      "text/html": [
       "\n",
       "    <h3>EvaluateConditional</h3>\n",
       "    <super>Matching Question</super>\n",
       "    <div>Difficult: 0.94</div>\n",
       "    <div>Discrimination: 0.19</div>\n",
       "    <div>Identify whether each of these are True or False.</div>\n",
       "    <hr>\n",
       "    "
      ],
      "text/plain": [
       "<IPython.core.display.HTML object>"
      ]
     },
     "metadata": {},
     "output_type": "display_data"
    },
    {
     "data": {
      "text/html": [
       "\n",
       "    <h3>ConditionalOperatorArity</h3>\n",
       "    <super>Matching Question</super>\n",
       "    <div>Difficult: 0.93</div>\n",
       "    <div>Discrimination: 0.16</div>\n",
       "    <div>How many values can each of these operators take?</div>\n",
       "    <hr>\n",
       "    "
      ],
      "text/plain": [
       "<IPython.core.display.HTML object>"
      ]
     },
     "metadata": {},
     "output_type": "display_data"
    },
    {
     "data": {
      "text/html": [
       "\n",
       "    <h3>ValidPythonNames</h3>\n",
       "    <super>Multiple Answers Question</super>\n",
       "    <div>Difficult: 0.89</div>\n",
       "    <div>Discrimination: 0.18</div>\n",
       "    <div><span>Choose which of the following are valid Python variable names. Note that they do not have to be <em>good</em> variable names, just valid.</span></div>\n",
       "    <hr>\n",
       "    "
      ],
      "text/plain": [
       "<IPython.core.display.HTML object>"
      ]
     },
     "metadata": {},
     "output_type": "display_data"
    },
    {
     "data": {
      "text/html": [
       "\n",
       "    <h3>GoodPythonNames</h3>\n",
       "    <super>Multiple Answers Question</super>\n",
       "    <div>Difficult: 0.89</div>\n",
       "    <div>Discrimination: 0.1</div>\n",
       "    <div><span>You have a variable that represents your allowance, measured in dollars. Which of the following are <em>good</em> variable names? In this case, \"good\" means that they are not too long, not too short, and the intent of the variable is unambiguous.</span></div>\n",
       "    <hr>\n",
       "    "
      ],
      "text/plain": [
       "<IPython.core.display.HTML object>"
      ]
     },
     "metadata": {},
     "output_type": "display_data"
    },
    {
     "data": {
      "text/html": [
       "\n",
       "    <h3>VariableSolvingUnknown</h3>\n",
       "    <super>True/False Questions</super>\n",
       "    <div>Difficult: 0.89</div>\n",
       "    <div>Discrimination: 0.02</div>\n",
       "    <div><span>A variable is useful because it allows to solve for an unknown value.</span></div>\n",
       "    <hr>\n",
       "    "
      ],
      "text/plain": [
       "<IPython.core.display.HTML object>"
      ]
     },
     "metadata": {},
     "output_type": "display_data"
    },
    {
     "data": {
      "text/html": [
       "\n",
       "    <h3>ComputersUnderstandVariabelNames</h3>\n",
       "    <super>True/False Questions</super>\n",
       "    <div>Difficult: 0.89</div>\n",
       "    <div>Discrimination: -0.04</div>\n",
       "    <div><span>Variable names are important because computers understand the meaning of names and change their value accordingly.</span></div>\n",
       "    <hr>\n",
       "    "
      ],
      "text/plain": [
       "<IPython.core.display.HTML object>"
      ]
     },
     "metadata": {},
     "output_type": "display_data"
    },
    {
     "data": {
      "text/html": [
       "\n",
       "    <h3>Variables Change Value over Program</h3>\n",
       "    <super>True/False Questions</super>\n",
       "    <div>Difficult: 0.96</div>\n",
       "    <div>Discrimination: 0.06</div>\n",
       "    <div>Variables change their value over time according to the instructions in a program.</div>\n",
       "    <hr>\n",
       "    "
      ],
      "text/plain": [
       "<IPython.core.display.HTML object>"
      ]
     },
     "metadata": {},
     "output_type": "display_data"
    },
    {
     "data": {
      "text/html": [
       "\n",
       "    <h3>Sequential Tracing</h3>\n",
       "    <super>Fill in Multiple Blanks</super>\n",
       "    <div>Difficult: 0.92</div>\n",
       "    <div>Discrimination: 0.26</div>\n",
       "    <div><p>Trace the value of the three variables above by filling out the table below. If a value has not been assigned to a variable, write \"X\" in the box (without quotation marks).</p>\n",
       "<pre>salary = 10\n",
       "taxes = .1\n",
       "adjusted = salary * taxes\n",
       "salary = 100\n",
       "taxes = 0\n",
       "adjusted = salary - taxes</pre>\n",
       "<table border=\"1\">\n",
       "<tbody>\n",
       "<tr>\n",
       "<td>step</td>\n",
       "<td>salary</td>\n",
       "<td>taxes</td>\n",
       "<td>adjusted</td>\n",
       "</tr>\n",
       "<tr>\n",
       "<td>1</td>\n",
       "<td>10</td>\n",
       "<td>X</td>\n",
       "<td>X</td>\n",
       "</tr>\n",
       "<tr>\n",
       "<td>2</td>\n",
       "<td>[salary2]</td>\n",
       "<td>[taxes2]</td>\n",
       "<td>[adjusted2]</td>\n",
       "</tr>\n",
       "<tr>\n",
       "<td>3</td>\n",
       "<td>[salary3]</td>\n",
       "<td>[taxes3]</td>\n",
       "<td>[adjusted3]</td>\n",
       "</tr>\n",
       "<tr>\n",
       "<td>4</td>\n",
       "<td>[salary4]</td>\n",
       "<td>.1</td>\n",
       "<td>[adjusted4]</td>\n",
       "</tr>\n",
       "<tr>\n",
       "<td>5</td>\n",
       "<td>[salary5]</td>\n",
       "<td>[taxes5]</td>\n",
       "<td>[adjusted5]</td>\n",
       "</tr>\n",
       "<tr>\n",
       "<td>6</td>\n",
       "<td>100</td>\n",
       "<td>[taxes6]</td>\n",
       "<td>[adjusted6]</td>\n",
       "</tr>\n",
       "</tbody>\n",
       "</table></div>\n",
       "    <hr>\n",
       "    "
      ],
      "text/plain": [
       "<IPython.core.display.HTML object>"
      ]
     },
     "metadata": {},
     "output_type": "display_data"
    },
    {
     "data": {
      "text/html": [
       "\n",
       "    <h3>ReadWriteVariable</h3>\n",
       "    <super>Matching Question</super>\n",
       "    <div>Difficult: 0.94</div>\n",
       "    <div>Discrimination: 0.1</div>\n",
       "    <div>Label each of the following as either a \"Read\", a \"Write\", or a \"Read and Write\" for the variable \"x\".</div>\n",
       "    <hr>\n",
       "    "
      ],
      "text/plain": [
       "<IPython.core.display.HTML object>"
      ]
     },
     "metadata": {},
     "output_type": "display_data"
    },
    {
     "data": {
      "text/html": [
       "\n",
       "    <h3>VariableUsageSynonyms</h3>\n",
       "    <super>Matching Question</super>\n",
       "    <div>Difficult: 0.9</div>\n",
       "    <div>Discrimination: 0.18</div>\n",
       "    <div><p><span>For each word, choose the best synonym:</span></p></div>\n",
       "    <hr>\n",
       "    "
      ],
      "text/plain": [
       "<IPython.core.display.HTML object>"
      ]
     },
     "metadata": {},
     "output_type": "display_data"
    },
    {
     "data": {
      "text/html": [
       "\n",
       "    <h3>SequentialStatements</h3>\n",
       "    <super>True/False Questions</super>\n",
       "    <div>Difficult: 0.91</div>\n",
       "    <div>Discrimination: -0.04</div>\n",
       "    <div>Normally, statements are executed from top to bottom.</div>\n",
       "    <hr>\n",
       "    "
      ],
      "text/plain": [
       "<IPython.core.display.HTML object>"
      ]
     },
     "metadata": {},
     "output_type": "display_data"
    },
    {
     "data": {
      "text/html": [
       "\n",
       "    <h3>LeftToRightExpressions</h3>\n",
       "    <super>True/False Questions</super>\n",
       "    <div>Difficult: 0.91</div>\n",
       "    <div>Discrimination: -0.03</div>\n",
       "    <div>Expressions are evaluated from left to right</div>\n",
       "    <hr>\n",
       "    "
      ],
      "text/plain": [
       "<IPython.core.display.HTML object>"
      ]
     },
     "metadata": {},
     "output_type": "display_data"
    },
    {
     "data": {
      "text/html": [
       "\n",
       "    <h3>StepByStepExecution</h3>\n",
       "    <super>True/False Questions</super>\n",
       "    <div>Difficult: 0.91</div>\n",
       "    <div>Discrimination: 0.18</div>\n",
       "    <div>Programs may execute very quickly in computers, but they always happen one step at a time.</div>\n",
       "    <hr>\n",
       "    "
      ],
      "text/plain": [
       "<IPython.core.display.HTML object>"
      ]
     },
     "metadata": {},
     "output_type": "display_data"
    },
    {
     "data": {
      "text/html": [
       "\n",
       "    <h3>ExpressionComponents</h3>\n",
       "    <super>Multiple Answers Question</super>\n",
       "    <div>Difficult: 0.91</div>\n",
       "    <div>Discrimination: 0.12</div>\n",
       "    <div>Which of the following can be involved in an expression?</div>\n",
       "    <hr>\n",
       "    "
      ],
      "text/plain": [
       "<IPython.core.display.HTML object>"
      ]
     },
     "metadata": {},
     "output_type": "display_data"
    },
    {
     "data": {
      "text/html": [
       "\n",
       "    <h3>ExpressionType</h3>\n",
       "    <super>Matching Question</super>\n",
       "    <div>Difficult: 0.9</div>\n",
       "    <div>Discrimination: 0.1</div>\n",
       "    <div>Evaluate each of the following expressions and identify the type of the result.</div>\n",
       "    <hr>\n",
       "    "
      ],
      "text/plain": [
       "<IPython.core.display.HTML object>"
      ]
     },
     "metadata": {},
     "output_type": "display_data"
    },
    {
     "data": {
      "text/html": [
       "\n",
       "    <h3>PrintDefinition</h3>\n",
       "    <super>True/False Questions</super>\n",
       "    <div>Difficult: 0.5</div>\n",
       "    <div>Discrimination: 0.08</div>\n",
       "    <div>Print is an instruction to the computer to retrieve input from the user.</div>\n",
       "    <hr>\n",
       "    "
      ],
      "text/plain": [
       "<IPython.core.display.HTML object>"
      ]
     },
     "metadata": {},
     "output_type": "display_data"
    },
    {
     "data": {
      "text/html": [
       "\n",
       "    <h3>ConsoleDefinition</h3>\n",
       "    <super>True/False Questions</super>\n",
       "    <div>Difficult: 0.5</div>\n",
       "    <div>Discrimination: 0.07</div>\n",
       "    <div>The console is like a chat box that you can type instructions into.</div>\n",
       "    <hr>\n",
       "    "
      ],
      "text/plain": [
       "<IPython.core.display.HTML object>"
      ]
     },
     "metadata": {},
     "output_type": "display_data"
    },
    {
     "data": {
      "text/html": [
       "\n",
       "    <h3>InputVsOutput</h3>\n",
       "    <super>Matching Question</super>\n",
       "    <div>Difficult: 0.5</div>\n",
       "    <div>Discrimination: 0.19</div>\n",
       "    <div>Classify each of these as either \"Input\" or \"Output\".</div>\n",
       "    <hr>\n",
       "    "
      ],
      "text/plain": [
       "<IPython.core.display.HTML object>"
      ]
     },
     "metadata": {},
     "output_type": "display_data"
    },
    {
     "data": {
      "text/html": [
       "\n",
       "    <h3>PrintOutput</h3>\n",
       "    <super>Short Answer Question</super>\n",
       "    <div>Difficult: 0.5</div>\n",
       "    <div>Discrimination: 0.13</div>\n",
       "    <div>\n",
       "<p>Write exactly what will be printed by running the following command:</p>\n",
       "<pre>print(\"Hello World!\")</pre>\n",
       "</div>\n",
       "    <hr>\n",
       "    "
      ],
      "text/plain": [
       "<IPython.core.display.HTML object>"
      ]
     },
     "metadata": {},
     "output_type": "display_data"
    },
    {
     "data": {
      "text/html": [
       "\n",
       "    <h3>Purpose of Value</h3>\n",
       "    <super>True/False Questions</super>\n",
       "    <div>Difficult: 0.83</div>\n",
       "    <div>Discrimination: 0.14</div>\n",
       "    <div>The purpose of a value is to represent data from the real world.</div>\n",
       "    <hr>\n",
       "    "
      ],
      "text/plain": [
       "<IPython.core.display.HTML object>"
      ]
     },
     "metadata": {},
     "output_type": "display_data"
    },
    {
     "data": {
      "text/html": [
       "\n",
       "    <h3>OnlyPrintLiterals</h3>\n",
       "    <super>True/False Questions</super>\n",
       "    <div>Difficult: 0.83</div>\n",
       "    <div>Discrimination: 0.23</div>\n",
       "    <div>The \"print\" instruction can only print literal values.</div>\n",
       "    <hr>\n",
       "    "
      ],
      "text/plain": [
       "<IPython.core.display.HTML object>"
      ]
     },
     "metadata": {},
     "output_type": "display_data"
    },
    {
     "data": {
      "text/html": [
       "\n",
       "    <h3>LiteralValueDefinition</h3>\n",
       "    <super>True/False Questions</super>\n",
       "    <div>Difficult: 0.83</div>\n",
       "    <div>Discrimination: -0.01</div>\n",
       "    <div>Literal values are specific values written in the source code.</div>\n",
       "    <hr>\n",
       "    "
      ],
      "text/plain": [
       "<IPython.core.display.HTML object>"
      ]
     },
     "metadata": {},
     "output_type": "display_data"
    },
    {
     "data": {
      "text/html": [
       "\n",
       "    <h3>ValueRepresentation</h3>\n",
       "    <super>Multiple Choice Question</super>\n",
       "    <div>Difficult: 0.83</div>\n",
       "    <div>Discrimination: -0.05</div>\n",
       "    <div>\n",
       "<p>What does the following value specifically represent?</p>\n",
       "<pre>24</pre>\n",
       "</div>\n",
       "    <hr>\n",
       "    "
      ],
      "text/plain": [
       "<IPython.core.display.HTML object>"
      ]
     },
     "metadata": {},
     "output_type": "display_data"
    },
    {
     "data": {
      "text/html": [
       "\n",
       "    <h3>WhatCanValuesRepresent</h3>\n",
       "    <super>Multiple Answers Question</super>\n",
       "    <div>Difficult: 0.83</div>\n",
       "    <div>Discrimination: 0.03</div>\n",
       "    <div>Which of the following could be represented with a value?</div>\n",
       "    <hr>\n",
       "    "
      ],
      "text/plain": [
       "<IPython.core.display.HTML object>"
      ]
     },
     "metadata": {},
     "output_type": "display_data"
    },
    {
     "data": {
      "text/html": [
       "\n",
       "    <h3>LiteralType</h3>\n",
       "    <super>Matching Question</super>\n",
       "    <div>Difficult: 0.77</div>\n",
       "    <div>Discrimination: 0.1</div>\n",
       "    <div>Identify the type of each literal value.</div>\n",
       "    <hr>\n",
       "    "
      ],
      "text/plain": [
       "<IPython.core.display.HTML object>"
      ]
     },
     "metadata": {},
     "output_type": "display_data"
    },
    {
     "data": {
      "text/html": [
       "\n",
       "    <h3>PrimitiveTypeDescriptions</h3>\n",
       "    <super>Matching Question</super>\n",
       "    <div>Difficult: 0.78</div>\n",
       "    <div>Discrimination: 0.11</div>\n",
       "    <div>Match each type to its description.</div>\n",
       "    <hr>\n",
       "    "
      ],
      "text/plain": [
       "<IPython.core.display.HTML object>"
      ]
     },
     "metadata": {},
     "output_type": "display_data"
    },
    {
     "data": {
      "text/html": [
       "\n",
       "    <h3>IntegerLiterals</h3>\n",
       "    <super>Multiple Answers Question</super>\n",
       "    <div>Difficult: 0.77</div>\n",
       "    <div>Discrimination: 0.17</div>\n",
       "    <div>Which of the following are Integers, in Python?</div>\n",
       "    <hr>\n",
       "    "
      ],
      "text/plain": [
       "<IPython.core.display.HTML object>"
      ]
     },
     "metadata": {},
     "output_type": "display_data"
    },
    {
     "data": {
      "text/html": [
       "\n",
       "    <h3>PrintStringOutput</h3>\n",
       "    <super>Short Answer Question</super>\n",
       "    <div>Difficult: 0.78</div>\n",
       "    <div>Discrimination: -0.01</div>\n",
       "    <div>\n",
       "<p>Write the output of the print statement:</p>\n",
       "<pre>print(\"5\")</pre>\n",
       "</div>\n",
       "    <hr>\n",
       "    "
      ],
      "text/plain": [
       "<IPython.core.display.HTML object>"
      ]
     },
     "metadata": {},
     "output_type": "display_data"
    },
    {
     "data": {
      "text/html": [
       "\n",
       "    <h3>NumberOfValuesPerTypes</h3>\n",
       "    <super>Matching Question</super>\n",
       "    <div>Difficult: 0.77</div>\n",
       "    <div>Discrimination: 0.05</div>\n",
       "    <div>How many possible values are there for each type?</div>\n",
       "    <hr>\n",
       "    "
      ],
      "text/plain": [
       "<IPython.core.display.HTML object>"
      ]
     },
     "metadata": {},
     "output_type": "display_data"
    },
    {
     "data": {
      "text/html": [
       "\n",
       "    <h3>TypeAbbreviations</h3>\n",
       "    <super>Matching Question</super>\n",
       "    <div>Difficult: 0.77</div>\n",
       "    <div>Discrimination: 0.05</div>\n",
       "    <div>Match each type to its abbreviation in Python:</div>\n",
       "    <hr>\n",
       "    "
      ],
      "text/plain": [
       "<IPython.core.display.HTML object>"
      ]
     },
     "metadata": {},
     "output_type": "display_data"
    },
    {
     "data": {
      "text/html": [
       "\n",
       "    <h3>ArithmeticOperatorPrecedence</h3>\n",
       "    <super>Matching Question</super>\n",
       "    <div>Difficult: 0.97</div>\n",
       "    <div>Discrimination: 0.02</div>\n",
       "    <div>Put these operators in order of their precedence (what order they are evaluated):</div>\n",
       "    <hr>\n",
       "    "
      ],
      "text/plain": [
       "<IPython.core.display.HTML object>"
      ]
     },
     "metadata": {},
     "output_type": "display_data"
    },
    {
     "data": {
      "text/html": [
       "\n",
       "    <h3>Question</h3>\n",
       "    <super>Short Answer Question</super>\n",
       "    <div>Difficult: 0.97</div>\n",
       "    <div>Discrimination: -0.01</div>\n",
       "    <div>\n",
       "<p>Predict the result of this expression:</p>\n",
       "<pre>4 + 5 * 2</pre>\n",
       "</div>\n",
       "    <hr>\n",
       "    "
      ],
      "text/plain": [
       "<IPython.core.display.HTML object>"
      ]
     },
     "metadata": {},
     "output_type": "display_data"
    },
    {
     "data": {
      "text/html": [
       "\n",
       "    <h3>IntegerDivisionConversion</h3>\n",
       "    <super>Short Answer Question</super>\n",
       "    <div>Difficult: 0.96</div>\n",
       "    <div>Discrimination: 0.11</div>\n",
       "    <div>\n",
       "<p>Predict the result of this expression:</p>\n",
       "<pre>10 / 5 - 1</pre>\n",
       "</div>\n",
       "    <hr>\n",
       "    "
      ],
      "text/plain": [
       "<IPython.core.display.HTML object>"
      ]
     },
     "metadata": {},
     "output_type": "display_data"
    },
    {
     "data": {
      "text/html": [
       "\n",
       "    <h3>ModuloOperator</h3>\n",
       "    <super>Short Answer Question</super>\n",
       "    <div>Difficult: 0.97</div>\n",
       "    <div>Discrimination: -0.01</div>\n",
       "    <div>\n",
       "<p>Predict the result of this expression:</p>\n",
       "<pre>(10+8) % 12</pre>\n",
       "</div>\n",
       "    <hr>\n",
       "    "
      ],
      "text/plain": [
       "<IPython.core.display.HTML object>"
      ]
     },
     "metadata": {},
     "output_type": "display_data"
    },
    {
     "data": {
      "text/html": [
       "\n",
       "    <h3>AdditionOperatorArity</h3>\n",
       "    <super>Multiple Choice Question</super>\n",
       "    <div>Difficult: 0.97</div>\n",
       "    <div>Discrimination: 0.05</div>\n",
       "    <div>How many things can be added at once with the \"+\" operator?</div>\n",
       "    <hr>\n",
       "    "
      ],
      "text/plain": [
       "<IPython.core.display.HTML object>"
      ]
     },
     "metadata": {},
     "output_type": "display_data"
    },
    {
     "data": {
      "text/html": [
       "\n",
       "    <h3>StringPlusInt</h3>\n",
       "    <super>Multiple Choice Question</super>\n",
       "    <div>Difficult: 0.97</div>\n",
       "    <div>Discrimination: 0.04</div>\n",
       "    <div>\n",
       "<p>What is the result if you ask Python to perform the following computation?</p>\n",
       "<pre>\"2\"+2</pre>\n",
       "</div>\n",
       "    <hr>\n",
       "    "
      ],
      "text/plain": [
       "<IPython.core.display.HTML object>"
      ]
     },
     "metadata": {},
     "output_type": "display_data"
    },
    {
     "data": {
      "text/html": [
       "\n",
       "    <h3>TracebackLine</h3>\n",
       "    <super>Short Answer Question</super>\n",
       "    <div>Difficult: 0.66</div>\n",
       "    <div>Discrimination: 0.07</div>\n",
       "    <div>\n",
       "<p>According to the following error message, what line of code did the error occur on?</p>\n",
       "<pre><span class=\"gt\">Traceback (most recent call last):</span><span>\n",
       "  File </span><span class=\"nb\">\"my_code.py\"</span><span>, line </span><span class=\"m\">32</span><span>, in </span><span class=\"n\">&lt;module&gt;<br></span>    45 + \"NameError\"\n",
       "TypeError: unsupported operand type(s) for +: 'int' and 'str'</pre>\n",
       "</div>\n",
       "    <hr>\n",
       "    "
      ],
      "text/plain": [
       "<IPython.core.display.HTML object>"
      ]
     },
     "metadata": {},
     "output_type": "display_data"
    },
    {
     "data": {
      "text/html": [
       "\n",
       "    <h3>TracebackType</h3>\n",
       "    <super>Multiple Choice Question</super>\n",
       "    <div>Difficult: 0.67</div>\n",
       "    <div>Discrimination: 0.15</div>\n",
       "    <div>\n",
       "<p>According to the following error message, what type of error occurred?</p>\n",
       "<pre><span class=\"gt\">Traceback (most recent call last):</span><span>\n",
       "  File </span><span class=\"nb\">\"my_code.py\"</span><span>, line </span><span class=\"m\">32</span><span>, in </span><span class=\"n\">&lt;module&gt;<br></span>    45 + \"NameError\"\n",
       "TypeError: unsupported operand type(s) for +: 'int' and 'str'</pre>\n",
       "</div>\n",
       "    <hr>\n",
       "    "
      ],
      "text/plain": [
       "<IPython.core.display.HTML object>"
      ]
     },
     "metadata": {},
     "output_type": "display_data"
    },
    {
     "data": {
      "text/html": [
       "\n",
       "    <h3>ErrorHandling</h3>\n",
       "    <super>Multiple Choice Question</super>\n",
       "    <div>Difficult: 0.67</div>\n",
       "    <div>Discrimination: 0.2</div>\n",
       "    <div>When your program has an error, the first thing you should do is:</div>\n",
       "    <hr>\n",
       "    "
      ],
      "text/plain": [
       "<IPython.core.display.HTML object>"
      ]
     },
     "metadata": {},
     "output_type": "display_data"
    },
    {
     "data": {
      "text/html": [
       "\n",
       "    <h3>ErrorDescriptions</h3>\n",
       "    <super>Matching Question</super>\n",
       "    <div>Difficult: 0.67</div>\n",
       "    <div>Discrimination: 0.17</div>\n",
       "    <div>Match each of the following common errors with its description.</div>\n",
       "    <hr>\n",
       "    "
      ],
      "text/plain": [
       "<IPython.core.display.HTML object>"
      ]
     },
     "metadata": {},
     "output_type": "display_data"
    },
    {
     "data": {
      "text/html": [
       "\n",
       "    <h3>LiteralStringValues</h3>\n",
       "    <super>Multiple Answers Question</super>\n",
       "    <div>Difficult: 0.96</div>\n",
       "    <div>Discrimination: 0.03</div>\n",
       "    <div>Select any of the following that are string literal values.</div>\n",
       "    <hr>\n",
       "    "
      ],
      "text/plain": [
       "<IPython.core.display.HTML object>"
      ]
     },
     "metadata": {},
     "output_type": "display_data"
    },
    {
     "data": {
      "text/html": [
       "\n",
       "    <h3>StringsHaveNumbers</h3>\n",
       "    <super>True/False Questions</super>\n",
       "    <div>Difficult: 0.96</div>\n",
       "    <div>Discrimination: -0.03</div>\n",
       "    <div>True or False: Strings are composed of only letters and symbols.</div>\n",
       "    <hr>\n",
       "    "
      ],
      "text/plain": [
       "<IPython.core.display.HTML object>"
      ]
     },
     "metadata": {},
     "output_type": "display_data"
    },
    {
     "data": {
      "text/html": [
       "\n",
       "    <h3>AddingStrings</h3>\n",
       "    <super>True/False Questions</super>\n",
       "    <div>Difficult: 0.96</div>\n",
       "    <div>Discrimination: 0.03</div>\n",
       "    <div>\"1\" + \"1\" = \"2\"</div>\n",
       "    <hr>\n",
       "    "
      ],
      "text/plain": [
       "<IPython.core.display.HTML object>"
      ]
     },
     "metadata": {},
     "output_type": "display_data"
    },
    {
     "data": {
      "text/html": [
       "\n",
       "    <h3>WritingStringLiterals</h3>\n",
       "    <super>Fill in Multiple Blanks</super>\n",
       "    <div>Difficult: 0.94</div>\n",
       "    <div>Discrimination: 0.13</div>\n",
       "    <div>\n",
       "<p>How do you write each of the following as string literals?</p>\n",
       "<p> </p>\n",
       "<p>The first letter of the alphabet, lower case: [lettera]<br>A tab character: [tab]<br>A new line: [newline]<br>A double quote: [doublequote]<br>A single quote: [singlequote]<br>The empty string: [empty]</p>\n",
       "<p> </p>\n",
       "</div>\n",
       "    <hr>\n",
       "    "
      ],
      "text/plain": [
       "<IPython.core.display.HTML object>"
      ]
     },
     "metadata": {},
     "output_type": "display_data"
    },
    {
     "data": {
      "text/html": [
       "\n",
       "    <h3>EvaluateStringConditionals</h3>\n",
       "    <super>Multiple Answers Question</super>\n",
       "    <div>Difficult: 0.91</div>\n",
       "    <div>Discrimination: 0.18</div>\n",
       "    <div>\n",
       "<p>Mark each of the following expressions if they evaluate to True. Assume that the following code is executed first:</p>\n",
       "<pre>title = \"Harry Potter\"</pre>\n",
       "</div>\n",
       "    <hr>\n",
       "    "
      ],
      "text/plain": [
       "<IPython.core.display.HTML object>"
      ]
     },
     "metadata": {},
     "output_type": "display_data"
    },
    {
     "data": {
      "text/html": [
       "\n",
       "    <h3>StringIndexingZero</h3>\n",
       "    <super>Short Answer Question</super>\n",
       "    <div>Difficult: 0.95</div>\n",
       "    <div>Discrimination: 0.03</div>\n",
       "    <div>\n",
       "<p>Predict the output of the following code:</p>\n",
       "<pre>name = \"Hermione\"<br>print(name[0])</pre>\n",
       "</div>\n",
       "    <hr>\n",
       "    "
      ],
      "text/plain": [
       "<IPython.core.display.HTML object>"
      ]
     },
     "metadata": {},
     "output_type": "display_data"
    },
    {
     "data": {
      "text/html": [
       "\n",
       "    <h3>StringIndexingPositive</h3>\n",
       "    <super>Short Answer Question</super>\n",
       "    <div>Difficult: 0.95</div>\n",
       "    <div>Discrimination: 0.19</div>\n",
       "    <div>\n",
       "<p>Predict the output of the following code:</p>\n",
       "<pre>name = \"Hermione\"<br>print(name[4])</pre>\n",
       "</div>\n",
       "    <hr>\n",
       "    "
      ],
      "text/plain": [
       "<IPython.core.display.HTML object>"
      ]
     },
     "metadata": {},
     "output_type": "display_data"
    },
    {
     "data": {
      "text/html": [
       "\n",
       "    <h3>StringIndexingNegative</h3>\n",
       "    <super>Short Answer Question</super>\n",
       "    <div>Difficult: 0.95</div>\n",
       "    <div>Discrimination: 0.11</div>\n",
       "    <div>\n",
       "<p>Predict the output of the following code:</p>\n",
       "<pre>name = \"Hermione\"<br>print(name[-2])</pre>\n",
       "</div>\n",
       "    <hr>\n",
       "    "
      ],
      "text/plain": [
       "<IPython.core.display.HTML object>"
      ]
     },
     "metadata": {},
     "output_type": "display_data"
    },
    {
     "data": {
      "text/html": [
       "\n",
       "    <h3>StringSubscriptRight</h3>\n",
       "    <super>Short Answer Question</super>\n",
       "    <div>Difficult: 0.94</div>\n",
       "    <div>Discrimination: 0.02</div>\n",
       "    <div>\n",
       "<p>Predict the output of the following code:</p>\n",
       "<pre>name = \"Hermione\"<br>print(name[:2])</pre>\n",
       "</div>\n",
       "    <hr>\n",
       "    "
      ],
      "text/plain": [
       "<IPython.core.display.HTML object>"
      ]
     },
     "metadata": {},
     "output_type": "display_data"
    },
    {
     "data": {
      "text/html": [
       "\n",
       "    <h3>StringSubscriptPositives</h3>\n",
       "    <super>Short Answer Question</super>\n",
       "    <div>Difficult: 0.92</div>\n",
       "    <div>Discrimination: 0.07</div>\n",
       "    <div>\n",
       "<p>Predict the output of the following code:</p>\n",
       "<pre>name = \"Hermione\"<br>print(name[4:7])</pre>\n",
       "</div>\n",
       "    <hr>\n",
       "    "
      ],
      "text/plain": [
       "<IPython.core.display.HTML object>"
      ]
     },
     "metadata": {},
     "output_type": "display_data"
    },
    {
     "data": {
      "text/html": [
       "\n",
       "    <h3>StringSubscriptLeftNegative</h3>\n",
       "    <super>Short Answer Question</super>\n",
       "    <div>Difficult: 0.94</div>\n",
       "    <div>Discrimination: 0.1</div>\n",
       "    <div>\n",
       "<p>Predict the output of the following code:</p>\n",
       "<pre>name = \"Hermione\"<br>print(name[-3:])</pre>\n",
       "</div>\n",
       "    <hr>\n",
       "    "
      ],
      "text/plain": [
       "<IPython.core.display.HTML object>"
      ]
     },
     "metadata": {},
     "output_type": "display_data"
    },
    {
     "data": {
      "text/html": [
       "\n",
       "    <h3>ValidCall</h3>\n",
       "    <super>Multiple Answers Question</super>\n",
       "    <div>Difficult: 0.94</div>\n",
       "    <div>Discrimination: 0.18</div>\n",
       "    <div>Mark all of the following that are valid function or method calls. Do not worry if a variable exists, only determine whether 1) this is a function or method call, and 2) the syntax is valid.</div>\n",
       "    <hr>\n",
       "    "
      ],
      "text/plain": [
       "<IPython.core.display.HTML object>"
      ]
     },
     "metadata": {},
     "output_type": "display_data"
    },
    {
     "data": {
      "text/html": [
       "\n",
       "    <h3>MethodOrFunction</h3>\n",
       "    <super>Matching Question</super>\n",
       "    <div>Difficult: 0.93</div>\n",
       "    <div>Discrimination: 0.08</div>\n",
       "    <div>Identify whether the following is a method call or a function call.</div>\n",
       "    <hr>\n",
       "    "
      ],
      "text/plain": [
       "<IPython.core.display.HTML object>"
      ]
     },
     "metadata": {},
     "output_type": "display_data"
    },
    {
     "data": {
      "text/html": [
       "\n",
       "    <h3>CallingFunction</h3>\n",
       "    <super>Short Answer Question</super>\n",
       "    <div>Difficult: 0.93</div>\n",
       "    <div>Discrimination: 0.08</div>\n",
       "    <div>How would you call a function named <code>openDoor</code>? Assume it takes no arguments.</div>\n",
       "    <hr>\n",
       "    "
      ],
      "text/plain": [
       "<IPython.core.display.HTML object>"
      ]
     },
     "metadata": {},
     "output_type": "display_data"
    },
    {
     "data": {
      "text/html": [
       "\n",
       "    <h3>StringCallWithOperator</h3>\n",
       "    <super>Short Answer Question</super>\n",
       "    <div>Difficult: 0.89</div>\n",
       "    <div>Discrimination: 0.13</div>\n",
       "    <div>\n",
       "<p>The function <code>makeCat</code> below returns the string \"Cat\". What value will the variable <code>x</code> hold after the line is executed?</p>\n",
       "<pre>x = makeCat() + makeCat() + makeCat()</pre>\n",
       "</div>\n",
       "    <hr>\n",
       "    "
      ],
      "text/plain": [
       "<IPython.core.display.HTML object>"
      ]
     },
     "metadata": {},
     "output_type": "display_data"
    },
    {
     "data": {
      "text/html": [
       "\n",
       "    <h3>IntegerCallWithOperators</h3>\n",
       "    <super>Short Answer Question</super>\n",
       "    <div>Difficult: 0.9</div>\n",
       "    <div>Discrimination: 0.15</div>\n",
       "    <div>\n",
       "<p>The function <code>add5</code> below returns the number 5 added to the argument. What value will the variable \"x\" hold after the line is executed?</p>\n",
       "<pre>x = add5(10) * add5(2)</pre>\n",
       "</div>\n",
       "    <hr>\n",
       "    "
      ],
      "text/plain": [
       "<IPython.core.display.HTML object>"
      ]
     },
     "metadata": {},
     "output_type": "display_data"
    },
    {
     "data": {
      "text/html": [
       "\n",
       "    <h3>FunctionDefintion</h3>\n",
       "    <super>True/False Questions</super>\n",
       "    <div>Difficult: 0.94</div>\n",
       "    <div>Discrimination: 0.08</div>\n",
       "    <div>Functions are reusable chunks of code that have inputs and outputs.</div>\n",
       "    <hr>\n",
       "    "
      ],
      "text/plain": [
       "<IPython.core.display.HTML object>"
      ]
     },
     "metadata": {},
     "output_type": "display_data"
    },
    {
     "data": {
      "text/html": [
       "\n",
       "    <h3>InputReturn</h3>\n",
       "    <super>True/False Questions</super>\n",
       "    <div>Difficult: 0.9</div>\n",
       "    <div>Discrimination: 0.05</div>\n",
       "    <div>The input() function returns a string.</div>\n",
       "    <hr>\n",
       "    "
      ],
      "text/plain": [
       "<IPython.core.display.HTML object>"
      ]
     },
     "metadata": {},
     "output_type": "display_data"
    },
    {
     "data": {
      "text/html": [
       "\n",
       "    <h3>PrintReturn</h3>\n",
       "    <super>True/False Questions</super>\n",
       "    <div>Difficult: 0.9</div>\n",
       "    <div>Discrimination: 0.12</div>\n",
       "    <div>The print() function returns a string.</div>\n",
       "    <hr>\n",
       "    "
      ],
      "text/plain": [
       "<IPython.core.display.HTML object>"
      ]
     },
     "metadata": {},
     "output_type": "display_data"
    },
    {
     "data": {
      "text/html": [
       "\n",
       "    <h3>StringCountReturn</h3>\n",
       "    <super>Short Answer Question</super>\n",
       "    <div>Difficult: 0.9</div>\n",
       "    <div>Discrimination: -0.01</div>\n",
       "    <div>According to the linked documentation, what <em>type</em> of value does the <a href=\"https://vt.instructure.com/courses/66476/pages/reference-strings#count\" data-api-endpoint=\"https://vt.instructure.com/api/v1/courses/66476/pages/reference-strings%23count\" data-api-returntype=\"Page\">string.count()</a> function return?</div>\n",
       "    <hr>\n",
       "    "
      ],
      "text/plain": [
       "<IPython.core.display.HTML object>"
      ]
     },
     "metadata": {},
     "output_type": "display_data"
    },
    {
     "data": {
      "text/html": [
       "\n",
       "    <h3>StringSplitParameters</h3>\n",
       "    <super>Short Answer Question</super>\n",
       "    <div>Difficult: 0.9</div>\n",
       "    <div>Discrimination: -0.05</div>\n",
       "    <div>According to the linked documentation, how many parameters does the <a href=\"https://vt.instructure.com/courses/66476/pages/reference-strings#split\" data-api-endpoint=\"https://vt.instructure.com/api/v1/courses/66476/pages/reference-strings%23split\" data-api-returntype=\"Page\">string.split()</a> function take?</div>\n",
       "    <hr>\n",
       "    "
      ],
      "text/plain": [
       "<IPython.core.display.HTML object>"
      ]
     },
     "metadata": {},
     "output_type": "display_data"
    },
    {
     "data": {
      "text/html": [
       "\n",
       "    <h3>MethodCallResults</h3>\n",
       "    <super>Fill in Multiple Blanks</super>\n",
       "    <div>Difficult: 0.87</div>\n",
       "    <div>Discrimination: 0.06</div>\n",
       "    <div>\n",
       "<p>According to <a href=\"https://vt.instructure.com/courses/66476/pages/reference-strings\" data-api-endpoint=\"https://vt.instructure.com/api/v1/courses/66476/pages/reference-strings\" data-api-returntype=\"Page\">the linked documentation</a>, what is the result of each of the following expression involving a method call?</p>\n",
       "<pre>&gt; \"To be Or not to be, that is the question.\".count(\"o\")<br>[count]</pre>\n",
       "<pre>&gt; \"You should remember how to use subscripts\"[5:10].count(\"o\")<br>[countsubscripts]</pre>\n",
       "<pre>&gt; \"Where's waldo?\".find(\"w\")<br>[findw]<br><br>&gt; \"To be or not to be, that is the question.\".upper().count(\"TO\")<br>[countupper]<br><br>&gt; \"eeeeee\".replace(\"ee\", \"e\").count(\"e\")<br>[doublee]</pre>\n",
       "</div>\n",
       "    <hr>\n",
       "    "
      ],
      "text/plain": [
       "<IPython.core.display.HTML object>"
      ]
     },
     "metadata": {},
     "output_type": "display_data"
    },
    {
     "data": {
      "text/html": [
       "\n",
       "    <h3>MethodComponents</h3>\n",
       "    <super>Matching Question</super>\n",
       "    <div>Difficult: 0.85</div>\n",
       "    <div>Discrimination: 0.06</div>\n",
       "    <div>\n",
       "<p>Given the method call below, identify each component.</p>\n",
       "<p>\"Open the pod bay doors, Hal!\".replace(\"Open\", \"Close\")</p>\n",
       "</div>\n",
       "    <hr>\n",
       "    "
      ],
      "text/plain": [
       "<IPython.core.display.HTML object>"
      ]
     },
     "metadata": {},
     "output_type": "display_data"
    },
    {
     "data": {
      "text/html": [
       "\n",
       "    <h3>OrderDebuggingStrategies</h3>\n",
       "    <super>Matching Question</super>\n",
       "    <div>Difficult: 0.16</div>\n",
       "    <div>Discrimination: 0.01</div>\n",
       "    <div><span>Put the following steps into the correct order.</span></div>\n",
       "    <hr>\n",
       "    "
      ],
      "text/plain": [
       "<IPython.core.display.HTML object>"
      ]
     },
     "metadata": {},
     "output_type": "display_data"
    },
    {
     "data": {
      "text/html": [
       "\n",
       "    <h3>DescribeDebuggingStrategies</h3>\n",
       "    <super>Matching Question</super>\n",
       "    <div>Difficult: 0.16</div>\n",
       "    <div>Discrimination: 0.09</div>\n",
       "    <div><span>Match each debugging strategy to its description.</span></div>\n",
       "    <hr>\n",
       "    "
      ],
      "text/plain": [
       "<IPython.core.display.HTML object>"
      ]
     },
     "metadata": {},
     "output_type": "display_data"
    },
    {
     "data": {
      "text/html": [
       "\n",
       "    <h3>FunctionLabeling</h3>\n",
       "    <super>Matching Question</super>\n",
       "    <div>Difficult: 0.87</div>\n",
       "    <div>Discrimination: 0.14</div>\n",
       "    <div>\n",
       "<p>Identify each part of the function (parameter, return, define, name, colon, body, call):</p>\n",
       "<p> </p>\n",
       "<p><img src=\"https://vt.instructure.com/files/4444670/download?verifier=jdE75zdV85CnLq9GZ6RqMXjDizyD9JLbP81Vw20q&amp;wrap=1\" alt=\"13-2-quiz-function_parts.png\"></p>\n",
       "</div>\n",
       "    <hr>\n",
       "    "
      ],
      "text/plain": [
       "<IPython.core.display.HTML object>"
      ]
     },
     "metadata": {},
     "output_type": "display_data"
    },
    {
     "data": {
      "text/html": [
       "\n",
       "    <h3>ParameterScope</h3>\n",
       "    <super>Short Answer Question</super>\n",
       "    <div>Difficult: 0.87</div>\n",
       "    <div>Discrimination: -0.09</div>\n",
       "    <div>\n",
       "<p>What is printed after the code below is executed?</p>\n",
       "<p> </p>\n",
       "<pre>def change_value(a_variable):\n",
       "    a_variable = 5\n",
       "    return a_variable\n",
       "\n",
       "a = 0\n",
       "change_value(a)\n",
       "print(a)</pre>\n",
       "</div>\n",
       "    <hr>\n",
       "    "
      ],
      "text/plain": [
       "<IPython.core.display.HTML object>"
      ]
     },
     "metadata": {},
     "output_type": "display_data"
    },
    {
     "data": {
      "text/html": [
       "\n",
       "    <h3>FunctionHeaderColon</h3>\n",
       "    <super>Short Answer Question</super>\n",
       "    <div>Difficult: 0.87</div>\n",
       "    <div>Discrimination: 0.07</div>\n",
       "    <div>Type the symbol that goes at the end of the function definition's header.</div>\n",
       "    <hr>\n",
       "    "
      ],
      "text/plain": [
       "<IPython.core.display.HTML object>"
      ]
     },
     "metadata": {},
     "output_type": "display_data"
    },
    {
     "data": {
      "text/html": [
       "\n",
       "    <h3>PassStatement</h3>\n",
       "    <super>Multiple Choice Question</super>\n",
       "    <div>Difficult: 0.87</div>\n",
       "    <div>Discrimination: 0.02</div>\n",
       "    <div>What does the <code>pass</code> statement do?</div>\n",
       "    <hr>\n",
       "    "
      ],
      "text/plain": [
       "<IPython.core.display.HTML object>"
      ]
     },
     "metadata": {},
     "output_type": "display_data"
    },
    {
     "data": {
      "text/html": [
       "\n",
       "    <h3>AdvantagesOfFunctions</h3>\n",
       "    <super>Multiple Answers Question</super>\n",
       "    <div>Difficult: 0.87</div>\n",
       "    <div>Discrimination: 0.17</div>\n",
       "    <div>Mark all of the following that ARE advantages of functions.</div>\n",
       "    <hr>\n",
       "    "
      ],
      "text/plain": [
       "<IPython.core.display.HTML object>"
      ]
     },
     "metadata": {},
     "output_type": "display_data"
    },
    {
     "data": {
      "text/html": [
       "\n",
       "    <h3>IdentifyFunctionName</h3>\n",
       "    <super>Short Answer Question</super>\n",
       "    <div>Difficult: 0.87</div>\n",
       "    <div>Discrimination: 0.02</div>\n",
       "    <div>\n",
       "<p>Given the function definition below, what is the name of the function?</p>\n",
       "<pre>def get_area(width, height):\n",
       "    return width*height</pre>\n",
       "</div>\n",
       "    <hr>\n",
       "    "
      ],
      "text/plain": [
       "<IPython.core.display.HTML object>"
      ]
     },
     "metadata": {},
     "output_type": "display_data"
    },
    {
     "data": {
      "text/html": [
       "\n",
       "    <h3>IdentifyFunctionReturnType</h3>\n",
       "    <super>Multiple Choice Question</super>\n",
       "    <div>Difficult: 0.87</div>\n",
       "    <div>Discrimination: -0.02</div>\n",
       "    <div>\n",
       "<p>What type of thing is returned from the function below?</p>\n",
       "<pre>def is_on_fire():\n",
       "    return True</pre>\n",
       "</div>\n",
       "    <hr>\n",
       "    "
      ],
      "text/plain": [
       "<IPython.core.display.HTML object>"
      ]
     },
     "metadata": {},
     "output_type": "display_data"
    },
    {
     "data": {
      "text/html": [
       "\n",
       "    <h3>PrintingSameAsReturning</h3>\n",
       "    <super>True/False Questions</super>\n",
       "    <div>Difficult: 0.87</div>\n",
       "    <div>Discrimination: 0.16</div>\n",
       "    <div>Printing is the same thing as returning.</div>\n",
       "    <hr>\n",
       "    "
      ],
      "text/plain": [
       "<IPython.core.display.HTML object>"
      ]
     },
     "metadata": {},
     "output_type": "display_data"
    },
    {
     "data": {
      "text/html": [
       "\n",
       "    <h3>IdentifyPrintFunctionReturn</h3>\n",
       "    <super>Multiple Choice Question</super>\n",
       "    <div>Difficult: 0.87</div>\n",
       "    <div>Discrimination: 0.1</div>\n",
       "    <div>\n",
       "<p><span>What type of thing is returned from the function below?</span></p>\n",
       "<pre>def get_name():\n",
       "    print(\"Harry Potter\")</pre>\n",
       "</div>\n",
       "    <hr>\n",
       "    "
      ],
      "text/plain": [
       "<IPython.core.display.HTML object>"
      ]
     },
     "metadata": {},
     "output_type": "display_data"
    },
    {
     "data": {
      "text/html": [
       "\n",
       "    <h3>FunctionPossibleReturnTypes</h3>\n",
       "    <super>True/False Questions</super>\n",
       "    <div>Difficult: 0.87</div>\n",
       "    <div>Discrimination: 0.08</div>\n",
       "    <div>Every function must return an integer or string.</div>\n",
       "    <hr>\n",
       "    "
      ],
      "text/plain": [
       "<IPython.core.display.HTML object>"
      ]
     },
     "metadata": {},
     "output_type": "display_data"
    },
    {
     "data": {
      "text/html": [
       "\n",
       "    <h3>FunctionRequiresParameters</h3>\n",
       "    <super>True/False Questions</super>\n",
       "    <div>Difficult: 0.87</div>\n",
       "    <div>Discrimination: 0.07</div>\n",
       "    <div>Every function created with the \"def\" keyword must have AT LEAST ONE parameter.</div>\n",
       "    <hr>\n",
       "    "
      ],
      "text/plain": [
       "<IPython.core.display.HTML object>"
      ]
     },
     "metadata": {},
     "output_type": "display_data"
    },
    {
     "data": {
      "text/html": [
       "\n",
       "    <h3>FunctionRequiresNames</h3>\n",
       "    <super>True/False Questions</super>\n",
       "    <div>Difficult: 0.87</div>\n",
       "    <div>Discrimination: 0.05</div>\n",
       "    <div>Every function defined with the \"def\" keyword MUST have a name.</div>\n",
       "    <hr>\n",
       "    "
      ],
      "text/plain": [
       "<IPython.core.display.HTML object>"
      ]
     },
     "metadata": {},
     "output_type": "display_data"
    },
    {
     "data": {
      "text/html": [
       "\n",
       "    <h3>MeaningOfDefKeyword</h3>\n",
       "    <super>True/False Questions</super>\n",
       "    <div>Difficult: 0.87</div>\n",
       "    <div>Discrimination: 0.13</div>\n",
       "    <div>The keyword \"def\" is short for \"define\". </div>\n",
       "    <hr>\n",
       "    "
      ],
      "text/plain": [
       "<IPython.core.display.HTML object>"
      ]
     },
     "metadata": {},
     "output_type": "display_data"
    },
    {
     "data": {
      "text/html": [
       "\n",
       "    <h3>PrintingReturnsNone</h3>\n",
       "    <super>Multiple Choice Question</super>\n",
       "    <div>Difficult: 0.85</div>\n",
       "    <div>Discrimination: 0.08</div>\n",
       "    <div>\n",
       "<p>When the following code is executed, what will be the value of the variable named \"tripled\"?</p>\n",
       "<p> </p>\n",
       "<pre>def triple(a_number):\n",
       "    print(a_number * 3)\n",
       "\n",
       "tripled = triple(2)</pre>\n",
       "</div>\n",
       "    <hr>\n",
       "    "
      ],
      "text/plain": [
       "<IPython.core.display.HTML object>"
      ]
     },
     "metadata": {},
     "output_type": "display_data"
    },
    {
     "data": {
      "text/html": [
       "\n",
       "    <h3>UnitTestDefinition</h3>\n",
       "    <super>Multiple Choice Question</super>\n",
       "    <div>Difficult: 0.76</div>\n",
       "    <div>Discrimination: 0.16</div>\n",
       "    <div><p>A unit test is:</p></div>\n",
       "    <hr>\n",
       "    "
      ],
      "text/plain": [
       "<IPython.core.display.HTML object>"
      ]
     },
     "metadata": {},
     "output_type": "display_data"
    },
    {
     "data": {
      "text/html": [
       "\n",
       "    <h3>UnitTestIdentification</h3>\n",
       "    <super>Multiple Answers Question</super>\n",
       "    <div>Difficult: 0.75</div>\n",
       "    <div>Discrimination: -0.09</div>\n",
       "    <div><p>Given this function, which of the following are correct unit tests?</p>\n",
       "<pre>def simple_formula(x):\n",
       "    return 3 * x + 4</pre></div>\n",
       "    <hr>\n",
       "    "
      ],
      "text/plain": [
       "<IPython.core.display.HTML object>"
      ]
     },
     "metadata": {},
     "output_type": "display_data"
    },
    {
     "data": {
      "text/html": [
       "\n",
       "    <h3>UnitTestAdvantages</h3>\n",
       "    <super>Multiple Answers Question</super>\n",
       "    <div>Difficult: 0.75</div>\n",
       "    <div>Discrimination: 0.1</div>\n",
       "    <div><p>Which of the following are advantages of unit tests?</p></div>\n",
       "    <hr>\n",
       "    "
      ],
      "text/plain": [
       "<IPython.core.display.HTML object>"
      ]
     },
     "metadata": {},
     "output_type": "display_data"
    },
    {
     "data": {
      "text/html": [
       "\n",
       "    <h3>UnitTestBasics</h3>\n",
       "    <super>Multiple Choice Question</super>\n",
       "    <div>Difficult: 0.76</div>\n",
       "    <div>Discrimination: 0.02</div>\n",
       "    <div><p>When someone says, \"My program looks correct, but it says it fails the unit tests.\"</p></div>\n",
       "    <hr>\n",
       "    "
      ],
      "text/plain": [
       "<IPython.core.display.HTML object>"
      ]
     },
     "metadata": {},
     "output_type": "display_data"
    },
    {
     "data": {
      "text/html": [
       "\n",
       "    <h3>UnitTestQuantity</h3>\n",
       "    <super>Multiple Choice Question</super>\n",
       "    <div>Difficult: 0.76</div>\n",
       "    <div>Discrimination: -0.01</div>\n",
       "    <div><p>How many unit tests should a program have?</p></div>\n",
       "    <hr>\n",
       "    "
      ],
      "text/plain": [
       "<IPython.core.display.HTML object>"
      ]
     },
     "metadata": {},
     "output_type": "display_data"
    },
    {
     "data": {
      "text/html": [
       "\n",
       "    <h3>UnitTestSuccessRate</h3>\n",
       "    <super>True/False Questions</super>\n",
       "    <div>Difficult: 0.76</div>\n",
       "    <div>Discrimination: 0.1</div>\n",
       "    <div><p>Unit tests are a 100% effective way of determining if your program is correct.</p></div>\n",
       "    <hr>\n",
       "    "
      ],
      "text/plain": [
       "<IPython.core.display.HTML object>"
      ]
     },
     "metadata": {},
     "output_type": "display_data"
    },
    {
     "data": {
      "text/html": [
       "\n",
       "    <h3>PrintReturnSame</h3>\n",
       "    <super>True/False Questions</super>\n",
       "    <div>Difficult: 0.92</div>\n",
       "    <div>Discrimination: 0.23</div>\n",
       "    <div><p>Printing and returning are basically the same thing</p></div>\n",
       "    <hr>\n",
       "    "
      ],
      "text/plain": [
       "<IPython.core.display.HTML object>"
      ]
     },
     "metadata": {},
     "output_type": "display_data"
    },
    {
     "data": {
      "text/html": [
       "\n",
       "    <h3>PrintXorReturn</h3>\n",
       "    <super>True/False Questions</super>\n",
       "    <div>Difficult: 0.92</div>\n",
       "    <div>Discrimination: 0.08</div>\n",
       "    <div><p>A function can either print or return, but not both.</p></div>\n",
       "    <hr>\n",
       "    "
      ],
      "text/plain": [
       "<IPython.core.display.HTML object>"
      ]
     },
     "metadata": {},
     "output_type": "display_data"
    },
    {
     "data": {
      "text/html": [
       "\n",
       "    <h3>SendingDataIdea</h3>\n",
       "    <super>Matching Question</super>\n",
       "    <div>Difficult: 0.9</div>\n",
       "    <div>Discrimination: 0.18</div>\n",
       "    <div><p>Match each to the best definition available:</p></div>\n",
       "    <hr>\n",
       "    "
      ],
      "text/plain": [
       "<IPython.core.display.HTML object>"
      ]
     },
     "metadata": {},
     "output_type": "display_data"
    },
    {
     "data": {
      "text/html": [
       "\n",
       "    <h3>PrintOneWay</h3>\n",
       "    <super>Multiple Choice Question</super>\n",
       "    <div>Difficult: 0.92</div>\n",
       "    <div>Discrimination: 0.18</div>\n",
       "    <div><p>After data is sent to the console, how do we get it back later in the program?</p></div>\n",
       "    <hr>\n",
       "    "
      ],
      "text/plain": [
       "<IPython.core.display.HTML object>"
      ]
     },
     "metadata": {},
     "output_type": "display_data"
    },
    {
     "data": {
      "text/html": [
       "\n",
       "    <h3>PrintType</h3>\n",
       "    <super>Multiple Choice Question</super>\n",
       "    <div>Difficult: 0.92</div>\n",
       "    <div>Discrimination: 0.09</div>\n",
       "    <div><p>What type of value does this function return?</p>\n",
       "<pre>def average_values(num1, num2, num3, num4):\n",
       "    print((num1+num2+num3+num4)/4)</pre></div>\n",
       "    <hr>\n",
       "    "
      ],
      "text/plain": [
       "<IPython.core.display.HTML object>"
      ]
     },
     "metadata": {},
     "output_type": "display_data"
    },
    {
     "data": {
      "text/html": [
       "\n",
       "    <h3>ReturnPrintKind</h3>\n",
       "    <super>Matching Question</super>\n",
       "    <div>Difficult: 0.9</div>\n",
       "    <div>Discrimination: 0.21</div>\n",
       "    <div><p>Match each to the kind of code construct:</p></div>\n",
       "    <hr>\n",
       "    "
      ],
      "text/plain": [
       "<IPython.core.display.HTML object>"
      ]
     },
     "metadata": {},
     "output_type": "display_data"
    },
    {
     "data": {
      "text/html": [
       "\n",
       "    <h3>PrintDoesWhat</h3>\n",
       "    <super>Multiple Answers Question</super>\n",
       "    <div>Difficult: 0.86</div>\n",
       "    <div>Discrimination: 0.06</div>\n",
       "    <div><p><code>print</code> does which of the following?</p></div>\n",
       "    <hr>\n",
       "    "
      ],
      "text/plain": [
       "<IPython.core.display.HTML object>"
      ]
     },
     "metadata": {},
     "output_type": "display_data"
    },
    {
     "data": {
      "text/html": [
       "\n",
       "    <h3>InputDoesWhat</h3>\n",
       "    <super>Multiple Answers Question</super>\n",
       "    <div>Difficult: 0.86</div>\n",
       "    <div>Discrimination: 0.03</div>\n",
       "    <div><p><code>input</code> does which of the following?</p></div>\n",
       "    <hr>\n",
       "    "
      ],
      "text/plain": [
       "<IPython.core.display.HTML object>"
      ]
     },
     "metadata": {},
     "output_type": "display_data"
    },
    {
     "data": {
      "text/html": [
       "\n",
       "    <h3>TracingFunctions</h3>\n",
       "    <super>Fill in Multiple Blanks</super>\n",
       "    <div>Difficult: 0.85</div>\n",
       "    <div>Discrimination: 0.19</div>\n",
       "    <div><p>Read the following code, and then fill in the blanks below.</p>\n",
       "<pre>1| def f(x):\n",
       "2|     x = x + 1\n",
       "3|     return x\n",
       "4| val = 0<br>5| y = f(val)\n",
       "6| print(y)</pre>\n",
       "<ul>\n",
       "<li>What line is executed first? [first]</li>\n",
       "<li>What line is executed second? [second]</li>\n",
       "<li>After line 3 is executed, what will be the next line executed? [last]</li>\n",
       "</ul></div>\n",
       "    <hr>\n",
       "    "
      ],
      "text/plain": [
       "<IPython.core.display.HTML object>"
      ]
     },
     "metadata": {},
     "output_type": "display_data"
    },
    {
     "data": {
      "text/html": [
       "\n",
       "    <h3>ScopeLifetime</h3>\n",
       "    <super>True/False Questions</super>\n",
       "    <div>Difficult: 0.9</div>\n",
       "    <div>Discrimination: 0.03</div>\n",
       "    <div><p>The scope of a variable is how long the variable is \"alive\".</p></div>\n",
       "    <hr>\n",
       "    "
      ],
      "text/plain": [
       "<IPython.core.display.HTML object>"
      ]
     },
     "metadata": {},
     "output_type": "display_data"
    },
    {
     "data": {
      "text/html": [
       "\n",
       "    <h3>ScopeQuantity</h3>\n",
       "    <super>Multiple Choice Question</super>\n",
       "    <div>Difficult: 0.88</div>\n",
       "    <div>Discrimination: 0.19</div>\n",
       "    <div><p>How many scopes are there in this program?</p>\n",
       "<pre>def print_result(value):\n",
       "    print(\"The result is\", value)\n",
       "def massage_number(a_number):\n",
       "    return a_number * 5 + 3\n",
       "start = 10\n",
       "print_result(massage_number(start))</pre></div>\n",
       "    <hr>\n",
       "    "
      ],
      "text/plain": [
       "<IPython.core.display.HTML object>"
      ]
     },
     "metadata": {},
     "output_type": "display_data"
    },
    {
     "data": {
      "text/html": [
       "\n",
       "    <h3>ScopeRulesOfThumb</h3>\n",
       "    <super>Multiple Answers Question</super>\n",
       "    <div>Difficult: 0.88</div>\n",
       "    <div>Discrimination: 0.19</div>\n",
       "    <div><p>Mark each of the following that are good rules of thumb:</p></div>\n",
       "    <hr>\n",
       "    "
      ],
      "text/plain": [
       "<IPython.core.display.HTML object>"
      ]
     },
     "metadata": {},
     "output_type": "display_data"
    },
    {
     "data": {
      "text/html": [
       "\n",
       "    <h3>ScopeIdentify</h3>\n",
       "    <super>Matching Question</super>\n",
       "    <div>Difficult: 0.89</div>\n",
       "    <div>Discrimination: 0.17</div>\n",
       "    <div><p>Identify each variable as local to the function <code>calculate_price</code> or global:</p>\n",
       "<pre>coupon = 2.99\n",
       "def calculate_price(cost):\n",
       "    tax = 1.1\n",
       "    price = cost * tax - coupon\n",
       "    return price\n",
       "original_cost = 7.99\n",
       "new_price = calculate_price(original_cost)</pre></div>\n",
       "    <hr>\n",
       "    "
      ],
      "text/plain": [
       "<IPython.core.display.HTML object>"
      ]
     },
     "metadata": {},
     "output_type": "display_data"
    },
    {
     "data": {
      "text/html": [
       "\n",
       "    <h3>ScopeReturnVariable</h3>\n",
       "    <super>True/False Questions</super>\n",
       "    <div>Difficult: 0.89</div>\n",
       "    <div>Discrimination: 0.05</div>\n",
       "    <div><p>Return can be used to return a variable so that variable is available outside a local scope.</p></div>\n",
       "    <hr>\n",
       "    "
      ],
      "text/plain": [
       "<IPython.core.display.HTML object>"
      ]
     },
     "metadata": {},
     "output_type": "display_data"
    },
    {
     "data": {
      "text/html": [
       "\n",
       "    <h3>ScopeCountUsage</h3>\n",
       "    <super>Short Answer Question</super>\n",
       "    <div>Difficult: 0.83</div>\n",
       "    <div>Discrimination: -0.03</div>\n",
       "    <div><p>Consider this program:</p>\n",
       "<pre>1 | x = 5\n",
       "2 | def do_math(x):\n",
       "3 |     return (x ** x + x)\n",
       "4 | do_math(x)</pre>\n",
       "<p>How many times is the variable <code>x</code> defined on line 1 used (i.e. either read or written) in this program (including on line 1)?</p></div>\n",
       "    <hr>\n",
       "    "
      ],
      "text/plain": [
       "<IPython.core.display.HTML object>"
      ]
     },
     "metadata": {},
     "output_type": "display_data"
    },
    {
     "data": {
      "text/html": [
       "\n",
       "    <h3>ScopeMutation</h3>\n",
       "    <super>Short Answer Question</super>\n",
       "    <div>Difficult: 0.84</div>\n",
       "    <div>Discrimination: 0.11</div>\n",
       "    <div><p>Given the following code:</p>\n",
       "<pre>y = 0\n",
       "def increase(y):\n",
       "    y = y + 1\n",
       "    return y\n",
       "increase(y)\n",
       "increase(y)\n",
       "print(y)\n",
       "</pre>\n",
       "<p>What will be printed?</p></div>\n",
       "    <hr>\n",
       "    "
      ],
      "text/plain": [
       "<IPython.core.display.HTML object>"
      ]
     },
     "metadata": {},
     "output_type": "display_data"
    },
    {
     "data": {
      "text/html": [
       "\n",
       "    <h3>ScopeBadGlobals</h3>\n",
       "    <super>Multiple Choice Question</super>\n",
       "    <div>Difficult: 0.89</div>\n",
       "    <div>Discrimination: 0.08</div>\n",
       "    <div><p>Why are global variables bad?</p></div>\n",
       "    <hr>\n",
       "    "
      ],
      "text/plain": [
       "<IPython.core.display.HTML object>"
      ]
     },
     "metadata": {},
     "output_type": "display_data"
    },
    {
     "data": {
      "text/html": [
       "\n",
       "    <h3>DocumentationSingleLineSymbol</h3>\n",
       "    <super>Short Answer Question</super>\n",
       "    <div>Difficult: 0.81</div>\n",
       "    <div>Discrimination: 0.1</div>\n",
       "    <div><p>Enter the symbol (not its name) used for single-line comments in Python:</p></div>\n",
       "    <hr>\n",
       "    "
      ],
      "text/plain": [
       "<IPython.core.display.HTML object>"
      ]
     },
     "metadata": {},
     "output_type": "display_data"
    },
    {
     "data": {
      "text/html": [
       "\n",
       "    <h3>DocumentationMultiTripleQuotes</h3>\n",
       "    <super>True/False Questions</super>\n",
       "    <div>Difficult: 0.81</div>\n",
       "    <div>Discrimination: 0.09</div>\n",
       "    <div><p>Multi-line comments in Python are actually just triple-quoted strings.</p></div>\n",
       "    <hr>\n",
       "    "
      ],
      "text/plain": [
       "<IPython.core.display.HTML object>"
      ]
     },
     "metadata": {},
     "output_type": "display_data"
    },
    {
     "data": {
      "text/html": [
       "\n",
       "    <h3>DocumentationSingleLineIgnored</h3>\n",
       "    <super>True/False Questions</super>\n",
       "    <div>Difficult: 0.81</div>\n",
       "    <div>Discrimination: 0.06</div>\n",
       "    <div><p>Single-line comments are ignored by Python, and so are only for human benefit.</p></div>\n",
       "    <hr>\n",
       "    "
      ],
      "text/plain": [
       "<IPython.core.display.HTML object>"
      ]
     },
     "metadata": {},
     "output_type": "display_data"
    },
    {
     "data": {
      "text/html": [
       "\n",
       "    <h3>DocumentationAlwaysComment</h3>\n",
       "    <super>True/False Questions</super>\n",
       "    <div>Difficult: 0.81</div>\n",
       "    <div>Discrimination: 0.12</div>\n",
       "    <div><p>You should always document every line of a program.</p></div>\n",
       "    <hr>\n",
       "    "
      ],
      "text/plain": [
       "<IPython.core.display.HTML object>"
      ]
     },
     "metadata": {},
     "output_type": "display_data"
    },
    {
     "data": {
      "text/html": [
       "\n",
       "    <h3>DocumentationIntepret</h3>\n",
       "    <super>Fill in Multiple Blanks</super>\n",
       "    <div>Difficult: 0.8</div>\n",
       "    <div>Discrimination: 0.28</div>\n",
       "    <div><p>Interpret the documentation below to fill in the blanks:</p>\n",
       "<pre>def make_time(hour, minute, second):\n",
       "    '''\n",
       "    Creates a string representation of the given hour, minute, and second.\n",
       "    Note that this takes into account Daylight Savings Time.\n",
       "    \n",
       "    Args:\n",
       "        hour (int): The number of hours past midnight (military time).\n",
       "        minute (int): The number of minutes past the hour.\n",
       "        second (float): The number of seconds past the minute, which can be a\n",
       "                        decimal number (indicating milliseconds).\n",
       "    Returns:\n",
       "        str: A string representation of the time (\"hh:mm:ss.sss\") including\n",
       "             milliseconds.\n",
       "    '''\n",
       "</pre>\n",
       "<ol>\n",
       "<li>This function takes [paramCount] parameters.</li>\n",
       "<li>The second parameter is named [secondParameter].</li>\n",
       "<li>The third parameter's type is [thirdType].</li>\n",
       "<li>The function's return type is [returnType].</li>\n",
       "</ol></div>\n",
       "    <hr>\n",
       "    "
      ],
      "text/plain": [
       "<IPython.core.display.HTML object>"
      ]
     },
     "metadata": {},
     "output_type": "display_data"
    },
    {
     "data": {
      "text/html": [
       "\n",
       "    <h3>DocumentationReasons</h3>\n",
       "    <super>Multiple Answers Question</super>\n",
       "    <div>Difficult: 0.8</div>\n",
       "    <div>Discrimination: 0.07</div>\n",
       "    <div><p>Which of the following are reasons for commenting code?</p></div>\n",
       "    <hr>\n",
       "    "
      ],
      "text/plain": [
       "<IPython.core.display.HTML object>"
      ]
     },
     "metadata": {},
     "output_type": "display_data"
    },
    {
     "data": {
      "text/html": [
       "\n",
       "    <h3>GoodValidPythonNames</h3>\n",
       "    <super>Multiple Answers Question</super>\n",
       "    <div>Difficult: 0.55</div>\n",
       "    <div>Discrimination: 0.07</div>\n",
       "    <div>You have been tasked with creating a function that opens a garage door. Which of the following are good, valid names?</div>\n",
       "    <hr>\n",
       "    "
      ],
      "text/plain": [
       "<IPython.core.display.HTML object>"
      ]
     },
     "metadata": {},
     "output_type": "display_data"
    },
    {
     "data": {
      "text/html": [
       "\n",
       "    <h3>FlowReturn</h3>\n",
       "    <super>True/False Questions</super>\n",
       "    <div>Difficult: 0.91</div>\n",
       "    <div>Discrimination: 0.23</div>\n",
       "    <div><p>You can use the <code>return</code> statement to return a variable from a function.</p></div>\n",
       "    <hr>\n",
       "    "
      ],
      "text/plain": [
       "<IPython.core.display.HTML object>"
      ]
     },
     "metadata": {},
     "output_type": "display_data"
    },
    {
     "data": {
      "text/html": [
       "\n",
       "    <h3>FlowParameters</h3>\n",
       "    <super>True/False Questions</super>\n",
       "    <div>Difficult: 0.91</div>\n",
       "    <div>Discrimination: 0.05</div>\n",
       "    <div><p>Values enter functions as arguments when the function is called, and then the arguments' values are assigned to parameters when the function's body begins executing.</p></div>\n",
       "    <hr>\n",
       "    "
      ],
      "text/plain": [
       "<IPython.core.display.HTML object>"
      ]
     },
     "metadata": {},
     "output_type": "display_data"
    },
    {
     "data": {
      "text/html": [
       "\n",
       "    <h3>FlowPrint</h3>\n",
       "    <super>True/False Questions</super>\n",
       "    <div>Difficult: 0.91</div>\n",
       "    <div>Discrimination: 0.11</div>\n",
       "    <div><p>The <code>print</code> function is necessary to call a function.</p></div>\n",
       "    <hr>\n",
       "    "
      ],
      "text/plain": [
       "<IPython.core.display.HTML object>"
      ]
     },
     "metadata": {},
     "output_type": "display_data"
    },
    {
     "data": {
      "text/html": [
       "\n",
       "    <h3>FlowShare</h3>\n",
       "    <super>True/False Questions</super>\n",
       "    <div>Difficult: 0.91</div>\n",
       "    <div>Discrimination: 0.11</div>\n",
       "    <div><p>The two functions below share a variable named <code>score</code>:</p>\n",
       "<pre>def increase(score):\n",
       "    return score+1\n",
       "def decrease(score):\n",
       "    return score-1</pre></div>\n",
       "    <hr>\n",
       "    "
      ],
      "text/plain": [
       "<IPython.core.display.HTML object>"
      ]
     },
     "metadata": {},
     "output_type": "display_data"
    },
    {
     "data": {
      "text/html": [
       "\n",
       "    <h3>FlowBetween</h3>\n",
       "    <super>Multiple Answers Question</super>\n",
       "    <div>Difficult: 0.86</div>\n",
       "    <div>Discrimination: 0.23</div>\n",
       "    <div><p>Given the program below,</p>\n",
       "<pre>name = input(\"What is your name?\")\n",
       "def fix_capitalization(name):\n",
       "    return name.title().strip()\n",
       "def print_message(name):\n",
       "    print(\"Hello\", name, \"how are you?\")</pre>\n",
       "<p>Which of the following lines of code will have the data flow correctly through both functions in order to print the message with the fixed capitalization?</p></div>\n",
       "    <hr>\n",
       "    "
      ],
      "text/plain": [
       "<IPython.core.display.HTML object>"
      ]
     },
     "metadata": {},
     "output_type": "display_data"
    },
    {
     "data": {
      "text/html": [
       "\n",
       "    <h3>FlowSubstitution</h3>\n",
       "    <super>Matching Question</super>\n",
       "    <div>Difficult: 0.87</div>\n",
       "    <div>Discrimination: 0.11</div>\n",
       "    <div><p>Given the program below:</p>\n",
       "<pre>def x(a):\n",
       "    return 6+a\n",
       "def y(a):\n",
       "    return a*2\n",
       "def z(a):\n",
       "    return a-1\n",
       "<strong>print(x(y(z(3))))</strong></pre>\n",
       "<p>Match each blank to the value that will be substituted as the last line is executed:</p></div>\n",
       "    <hr>\n",
       "    "
      ],
      "text/plain": [
       "<IPython.core.display.HTML object>"
      ]
     },
     "metadata": {},
     "output_type": "display_data"
    },
    {
     "data": {
      "text/html": [
       "\n",
       "    <h3>InsideBlock</h3>\n",
       "    <super>Multiple Choice Question</super>\n",
       "    <div>Difficult: 0.85</div>\n",
       "    <div>Discrimination: 0.06</div>\n",
       "    <div>\n",
       "<p>In the following code, the print statement is ____ the IF statement.</p>\n",
       "<pre>if conditional:\n",
       "    print(\"The conditional was true\")</pre>\n",
       "</div>\n",
       "    <hr>\n",
       "    "
      ],
      "text/plain": [
       "<IPython.core.display.HTML object>"
      ]
     },
     "metadata": {},
     "output_type": "display_data"
    },
    {
     "data": {
      "text/html": [
       "\n",
       "    <h3>CountingBranchesNoElse</h3>\n",
       "    <super>Multiple Choice Question</super>\n",
       "    <div>Difficult: 0.86</div>\n",
       "    <div>Discrimination: 0.03</div>\n",
       "    <div>\n",
       "<p>How many branches does this code have?</p>\n",
       "<pre>if conditional:\n",
       "    print(5)\n",
       "print(2)</pre>\n",
       "</div>\n",
       "    <hr>\n",
       "    "
      ],
      "text/plain": [
       "<IPython.core.display.HTML object>"
      ]
     },
     "metadata": {},
     "output_type": "display_data"
    },
    {
     "data": {
      "text/html": [
       "\n",
       "    <h3>CountingBranchesNestedIf</h3>\n",
       "    <super>Multiple Choice Question</super>\n",
       "    <div>Difficult: 0.86</div>\n",
       "    <div>Discrimination: 0.01</div>\n",
       "    <div>\n",
       "<p>How many branches does this code have?</p>\n",
       "<pre>if conditional:\n",
       "    if second_conditional:<br>        print(5)<br>    print(1)\n",
       "print(2)</pre>\n",
       "</div>\n",
       "    <hr>\n",
       "    "
      ],
      "text/plain": [
       "<IPython.core.display.HTML object>"
      ]
     },
     "metadata": {},
     "output_type": "display_data"
    },
    {
     "data": {
      "text/html": [
       "\n",
       "    <h3>CountingBranchesElse</h3>\n",
       "    <super>Multiple Choice Question</super>\n",
       "    <div>Difficult: 0.85</div>\n",
       "    <div>Discrimination: 0.17</div>\n",
       "    <div>\n",
       "<p>How many branches does this code have?</p>\n",
       "<pre>if conditional:\n",
       "    print(5)<br>else:\n",
       "    print(2)</pre>\n",
       "</div>\n",
       "    <hr>\n",
       "    "
      ],
      "text/plain": [
       "<IPython.core.display.HTML object>"
      ]
     },
     "metadata": {},
     "output_type": "display_data"
    },
    {
     "data": {
      "text/html": [
       "\n",
       "    <h3>TracingBranching</h3>\n",
       "    <super>Fill in Multiple Blanks</super>\n",
       "    <div>Difficult: 0.67</div>\n",
       "    <div>Discrimination: 0.22</div>\n",
       "    <div>\n",
       "<p>Fill out the trace table below by following the execution. If the value is not yet defined, place an \"X\".</p>\n",
       "<pre>1 | salary = 1000\n",
       "2 | if salary &gt; 100:\n",
       "3 |    taxes = .5\n",
       "4 | else:\n",
       "5 |    taxes = .1\n",
       "6 | salary = taxes * salary\n",
       "7 | if salary &gt; 100:\n",
       "8 |    if salary &lt; 500:\n",
       "9 |        taxes = 0\n",
       "10|    salary = taxes * salary<br><br></pre>\n",
       "<table border=\"1\">\n",
       "<tbody>\n",
       "<tr>\n",
       "<td>step</td>\n",
       "<td>line</td>\n",
       "<td>salary</td>\n",
       "<td>taxes</td>\n",
       "</tr>\n",
       "<tr>\n",
       "<td>1</td>\n",
       "<td>1</td>\n",
       "<td>1000</td>\n",
       "<td>X</td>\n",
       "</tr>\n",
       "<tr>\n",
       "<td>2</td>\n",
       "<td>2</td>\n",
       "<td>1000</td>\n",
       "<td>[taxes2]</td>\n",
       "</tr>\n",
       "<tr>\n",
       "<td>3</td>\n",
       "<td>[line3]</td>\n",
       "<td>1000</td>\n",
       "<td>[taxes3]</td>\n",
       "</tr>\n",
       "<tr>\n",
       "<td>4</td>\n",
       "<td>6</td>\n",
       "<td>[salary4]</td>\n",
       "<td>[taxes4]</td>\n",
       "</tr>\n",
       "<tr>\n",
       "<td>5</td>\n",
       "<td>[line5]</td>\n",
       "<td>[salary5]</td>\n",
       "<td>[taxes5]</td>\n",
       "</tr>\n",
       "<tr>\n",
       "<td>6</td>\n",
       "<td>[line6]</td>\n",
       "<td>[salary6]</td>\n",
       "<td>[taxes6]</td>\n",
       "</tr>\n",
       "<tr>\n",
       "<td>7</td>\n",
       "<td>[line7]</td>\n",
       "<td>[salary7]</td>\n",
       "<td>[taxes7]</td>\n",
       "</tr>\n",
       "</tbody>\n",
       "</table>\n",
       "</div>\n",
       "    <hr>\n",
       "    "
      ],
      "text/plain": [
       "<IPython.core.display.HTML object>"
      ]
     },
     "metadata": {},
     "output_type": "display_data"
    },
    {
     "data": {
      "text/html": [
       "\n",
       "    <h3>PossiblyUndefined</h3>\n",
       "    <super>Multiple Choice Question</super>\n",
       "    <div>Difficult: 0.84</div>\n",
       "    <div>Discrimination: 0.13</div>\n",
       "    <div>\n",
       "<p>What is the value of <code>number_of_users</code> after this program executes?</p>\n",
       "<pre>if False:\n",
       "    number_of_users = 5\n",
       "print(number_of_users))\n",
       "</pre>\n",
       "</div>\n",
       "    <hr>\n",
       "    "
      ],
      "text/plain": [
       "<IPython.core.display.HTML object>"
      ]
     },
     "metadata": {},
     "output_type": "display_data"
    },
    {
     "data": {
      "text/html": [
       "\n",
       "    <h3>EvaluateTruthinessExplanation</h3>\n",
       "    <super>Abstract Quiz Question Type</super>\n",
       "    <div>Difficult: 0.0</div>\n",
       "    <div>Discrimination: nan</div>\n",
       "    <div><p><span>Select each of the following if the expression evaluates to True, according to the rules of Truthiness in Python. The questions might change each time you take the quiz.</span></p></div>\n",
       "    <hr>\n",
       "    "
      ],
      "text/plain": [
       "<IPython.core.display.HTML object>"
      ]
     },
     "metadata": {},
     "output_type": "display_data"
    },
    {
     "data": {
      "text/html": [
       "\n",
       "    <h3>ET-AndFalse</h3>\n",
       "    <super>True/False Questions</super>\n",
       "    <div>Difficult: nan</div>\n",
       "    <div>Discrimination: nan</div>\n",
       "    <div><p><code>5 &lt; 4 and 3</code></p></div>\n",
       "    <hr>\n",
       "    "
      ],
      "text/plain": [
       "<IPython.core.display.HTML object>"
      ]
     },
     "metadata": {},
     "output_type": "display_data"
    },
    {
     "data": {
      "text/html": [
       "\n",
       "    <h3>ET-EmptyString</h3>\n",
       "    <super>True/False Questions</super>\n",
       "    <div>Difficult: nan</div>\n",
       "    <div>Discrimination: nan</div>\n",
       "    <div><p><code>\"\"</code></p></div>\n",
       "    <hr>\n",
       "    "
      ],
      "text/plain": [
       "<IPython.core.display.HTML object>"
      ]
     },
     "metadata": {},
     "output_type": "display_data"
    },
    {
     "data": {
      "text/html": [
       "\n",
       "    <h3>ET-MathInt</h3>\n",
       "    <super>True/False Questions</super>\n",
       "    <div>Difficult: nan</div>\n",
       "    <div>Discrimination: nan</div>\n",
       "    <div><p><code>8-4*2</code></p></div>\n",
       "    <hr>\n",
       "    "
      ],
      "text/plain": [
       "<IPython.core.display.HTML object>"
      ]
     },
     "metadata": {},
     "output_type": "display_data"
    },
    {
     "data": {
      "text/html": [
       "\n",
       "    <h3>ET-ZeroInt</h3>\n",
       "    <super>True/False Questions</super>\n",
       "    <div>Difficult: nan</div>\n",
       "    <div>Discrimination: nan</div>\n",
       "    <div><p><code>0</code></p></div>\n",
       "    <hr>\n",
       "    "
      ],
      "text/plain": [
       "<IPython.core.display.HTML object>"
      ]
     },
     "metadata": {},
     "output_type": "display_data"
    },
    {
     "data": {
      "text/html": [
       "\n",
       "    <h3>ET-ZeroString</h3>\n",
       "    <super>True/False Questions</super>\n",
       "    <div>Difficult: nan</div>\n",
       "    <div>Discrimination: nan</div>\n",
       "    <div><code>\"0\"</code></div>\n",
       "    <hr>\n",
       "    "
      ],
      "text/plain": [
       "<IPython.core.display.HTML object>"
      ]
     },
     "metadata": {},
     "output_type": "display_data"
    },
    {
     "data": {
      "text/html": [
       "\n",
       "    <h3>ET-NegativeFloat</h3>\n",
       "    <super>True/False Questions</super>\n",
       "    <div>Difficult: nan</div>\n",
       "    <div>Discrimination: nan</div>\n",
       "    <div><p><code>-5.0</code></p></div>\n",
       "    <hr>\n",
       "    "
      ],
      "text/plain": [
       "<IPython.core.display.HTML object>"
      ]
     },
     "metadata": {},
     "output_type": "display_data"
    },
    {
     "data": {
      "text/html": [
       "\n",
       "    <h3>ET-1Or0</h3>\n",
       "    <super>True/False Questions</super>\n",
       "    <div>Difficult: nan</div>\n",
       "    <div>Discrimination: nan</div>\n",
       "    <div><p><code>1 or 0</code></p></div>\n",
       "    <hr>\n",
       "    "
      ],
      "text/plain": [
       "<IPython.core.display.HTML object>"
      ]
     },
     "metadata": {},
     "output_type": "display_data"
    },
    {
     "data": {
      "text/html": [
       "\n",
       "    <h3>ET-MathDivision</h3>\n",
       "    <super>True/False Questions</super>\n",
       "    <div>Difficult: nan</div>\n",
       "    <div>Discrimination: nan</div>\n",
       "    <div><p><code>1/2</code></p></div>\n",
       "    <hr>\n",
       "    "
      ],
      "text/plain": [
       "<IPython.core.display.HTML object>"
      ]
     },
     "metadata": {},
     "output_type": "display_data"
    },
    {
     "data": {
      "text/html": [
       "\n",
       "    <h3>ET-QuoteString</h3>\n",
       "    <super>True/False Questions</super>\n",
       "    <div>Difficult: nan</div>\n",
       "    <div>Discrimination: nan</div>\n",
       "    <div><code>'\"'</code></div>\n",
       "    <hr>\n",
       "    "
      ],
      "text/plain": [
       "<IPython.core.display.HTML object>"
      ]
     },
     "metadata": {},
     "output_type": "display_data"
    },
    {
     "data": {
      "text/html": [
       "\n",
       "    <h3>ET-AndIsNotAddition</h3>\n",
       "    <super>True/False Questions</super>\n",
       "    <div>Difficult: nan</div>\n",
       "    <div>Discrimination: nan</div>\n",
       "    <div><p><code>-5 and 5</code></p></div>\n",
       "    <hr>\n",
       "    "
      ],
      "text/plain": [
       "<IPython.core.display.HTML object>"
      ]
     },
     "metadata": {},
     "output_type": "display_data"
    },
    {
     "data": {
      "text/html": [
       "\n",
       "    <h3>ET-FilledString</h3>\n",
       "    <super>True/False Questions</super>\n",
       "    <div>Difficult: nan</div>\n",
       "    <div>Discrimination: nan</div>\n",
       "    <div><code>\"Corgis are cute\"</code></div>\n",
       "    <hr>\n",
       "    "
      ],
      "text/plain": [
       "<IPython.core.display.HTML object>"
      ]
     },
     "metadata": {},
     "output_type": "display_data"
    },
    {
     "data": {
      "text/html": [
       "\n",
       "    <h3>ET-CompareString</h3>\n",
       "    <super>True/False Questions</super>\n",
       "    <div>Difficult: nan</div>\n",
       "    <div>Discrimination: nan</div>\n",
       "    <div><p><code>\"1 &gt; 5\"</code></p></div>\n",
       "    <hr>\n",
       "    "
      ],
      "text/plain": [
       "<IPython.core.display.HTML object>"
      ]
     },
     "metadata": {},
     "output_type": "display_data"
    },
    {
     "data": {
      "text/html": [
       "\n",
       "    <h3>ET-MathPlus</h3>\n",
       "    <super>True/False Questions</super>\n",
       "    <div>Difficult: nan</div>\n",
       "    <div>Discrimination: nan</div>\n",
       "    <div><p><code>1+0</code></p></div>\n",
       "    <hr>\n",
       "    "
      ],
      "text/plain": [
       "<IPython.core.display.HTML object>"
      ]
     },
     "metadata": {},
     "output_type": "display_data"
    },
    {
     "data": {
      "text/html": [
       "\n",
       "    <h3>ET-1And0</h3>\n",
       "    <super>True/False Questions</super>\n",
       "    <div>Difficult: nan</div>\n",
       "    <div>Discrimination: nan</div>\n",
       "    <div><p><code>1 and 0</code></p></div>\n",
       "    <hr>\n",
       "    "
      ],
      "text/plain": [
       "<IPython.core.display.HTML object>"
      ]
     },
     "metadata": {},
     "output_type": "display_data"
    },
    {
     "data": {
      "text/html": [
       "\n",
       "    <h3>ET-SubscriptFull</h3>\n",
       "    <super>True/False Questions</super>\n",
       "    <div>Difficult: nan</div>\n",
       "    <div>Discrimination: nan</div>\n",
       "    <div><p><code>\"Harry\"[1:-1]</code></p></div>\n",
       "    <hr>\n",
       "    "
      ],
      "text/plain": [
       "<IPython.core.display.HTML object>"
      ]
     },
     "metadata": {},
     "output_type": "display_data"
    },
    {
     "data": {
      "text/html": [
       "\n",
       "    <h3>ET-SmallFloat</h3>\n",
       "    <super>True/False Questions</super>\n",
       "    <div>Difficult: nan</div>\n",
       "    <div>Discrimination: nan</div>\n",
       "    <div><p><code>0.01</code></p></div>\n",
       "    <hr>\n",
       "    "
      ],
      "text/plain": [
       "<IPython.core.display.HTML object>"
      ]
     },
     "metadata": {},
     "output_type": "display_data"
    },
    {
     "data": {
      "text/html": [
       "\n",
       "    <h3>ET-EmptyMethod</h3>\n",
       "    <super>True/False Questions</super>\n",
       "    <div>Difficult: nan</div>\n",
       "    <div>Discrimination: nan</div>\n",
       "    <div><p><code>\"\".upper()</code></p></div>\n",
       "    <hr>\n",
       "    "
      ],
      "text/plain": [
       "<IPython.core.display.HTML object>"
      ]
     },
     "metadata": {},
     "output_type": "display_data"
    },
    {
     "data": {
      "text/html": [
       "\n",
       "    <h3>ET-NegativeZero</h3>\n",
       "    <super>True/False Questions</super>\n",
       "    <div>Difficult: nan</div>\n",
       "    <div>Discrimination: nan</div>\n",
       "    <div><p><code>-0</code></p></div>\n",
       "    <hr>\n",
       "    "
      ],
      "text/plain": [
       "<IPython.core.display.HTML object>"
      ]
     },
     "metadata": {},
     "output_type": "display_data"
    },
    {
     "data": {
      "text/html": [
       "\n",
       "    <h3>ET-TrueString</h3>\n",
       "    <super>True/False Questions</super>\n",
       "    <div>Difficult: nan</div>\n",
       "    <div>Discrimination: nan</div>\n",
       "    <div><p><code>\"True\"</code></p></div>\n",
       "    <hr>\n",
       "    "
      ],
      "text/plain": [
       "<IPython.core.display.HTML object>"
      ]
     },
     "metadata": {},
     "output_type": "display_data"
    },
    {
     "data": {
      "text/html": [
       "\n",
       "    <h3>ET-MethodItself</h3>\n",
       "    <super>True/False Questions</super>\n",
       "    <div>Difficult: nan</div>\n",
       "    <div>Discrimination: nan</div>\n",
       "    <div><p><code>\"\".upper</code></p></div>\n",
       "    <hr>\n",
       "    "
      ],
      "text/plain": [
       "<IPython.core.display.HTML object>"
      ]
     },
     "metadata": {},
     "output_type": "display_data"
    },
    {
     "data": {
      "text/html": [
       "\n",
       "    <h3>ET-Or1</h3>\n",
       "    <super>True/False Questions</super>\n",
       "    <div>Difficult: nan</div>\n",
       "    <div>Discrimination: nan</div>\n",
       "    <div><p><code>1 &gt; 5 or 3</code></p></div>\n",
       "    <hr>\n",
       "    "
      ],
      "text/plain": [
       "<IPython.core.display.HTML object>"
      ]
     },
     "metadata": {},
     "output_type": "display_data"
    },
    {
     "data": {
      "text/html": [
       "\n",
       "    <h3>ET-MediumInt</h3>\n",
       "    <super>True/False Questions</super>\n",
       "    <div>Difficult: nan</div>\n",
       "    <div>Discrimination: nan</div>\n",
       "    <div><code>144</code></div>\n",
       "    <hr>\n",
       "    "
      ],
      "text/plain": [
       "<IPython.core.display.HTML object>"
      ]
     },
     "metadata": {},
     "output_type": "display_data"
    },
    {
     "data": {
      "text/html": [
       "\n",
       "    <h3>ET-AndStrings</h3>\n",
       "    <super>True/False Questions</super>\n",
       "    <div>Difficult: nan</div>\n",
       "    <div>Discrimination: nan</div>\n",
       "    <div><p><code>\"Hi\" and \"Low\" and \"\"</code></p></div>\n",
       "    <hr>\n",
       "    "
      ],
      "text/plain": [
       "<IPython.core.display.HTML object>"
      ]
     },
     "metadata": {},
     "output_type": "display_data"
    },
    {
     "data": {
      "text/html": [
       "\n",
       "    <h3>ET-None</h3>\n",
       "    <super>True/False Questions</super>\n",
       "    <div>Difficult: nan</div>\n",
       "    <div>Discrimination: nan</div>\n",
       "    <div><p><code>None</code></p></div>\n",
       "    <hr>\n",
       "    "
      ],
      "text/plain": [
       "<IPython.core.display.HTML object>"
      ]
     },
     "metadata": {},
     "output_type": "display_data"
    },
    {
     "data": {
      "text/html": [
       "\n",
       "    <h3>ET-SpaceString</h3>\n",
       "    <super>True/False Questions</super>\n",
       "    <div>Difficult: nan</div>\n",
       "    <div>Discrimination: nan</div>\n",
       "    <div><code>\" \"</code></div>\n",
       "    <hr>\n",
       "    "
      ],
      "text/plain": [
       "<IPython.core.display.HTML object>"
      ]
     },
     "metadata": {},
     "output_type": "display_data"
    },
    {
     "data": {
      "text/html": [
       "\n",
       "    <h3>ET-LargeInt</h3>\n",
       "    <super>True/False Questions</super>\n",
       "    <div>Difficult: nan</div>\n",
       "    <div>Discrimination: nan</div>\n",
       "    <div><p><code>134342</code></p></div>\n",
       "    <hr>\n",
       "    "
      ],
      "text/plain": [
       "<IPython.core.display.HTML object>"
      ]
     },
     "metadata": {},
     "output_type": "display_data"
    },
    {
     "data": {
      "text/html": [
       "\n",
       "    <h3>ET-AndTrue</h3>\n",
       "    <super>True/False Questions</super>\n",
       "    <div>Difficult: nan</div>\n",
       "    <div>Discrimination: nan</div>\n",
       "    <div><p><code>-1 &lt; 4 and 0</code></p></div>\n",
       "    <hr>\n",
       "    "
      ],
      "text/plain": [
       "<IPython.core.display.HTML object>"
      ]
     },
     "metadata": {},
     "output_type": "display_data"
    },
    {
     "data": {
      "text/html": [
       "\n",
       "    <h3>ET-ZeroFloat</h3>\n",
       "    <super>True/False Questions</super>\n",
       "    <div>Difficult: nan</div>\n",
       "    <div>Discrimination: nan</div>\n",
       "    <div><p><code>0.0</code></p></div>\n",
       "    <hr>\n",
       "    "
      ],
      "text/plain": [
       "<IPython.core.display.HTML object>"
      ]
     },
     "metadata": {},
     "output_type": "display_data"
    },
    {
     "data": {
      "text/html": [
       "\n",
       "    <h3>ET-SubscriptEmpty</h3>\n",
       "    <super>True/False Questions</super>\n",
       "    <div>Difficult: nan</div>\n",
       "    <div>Discrimination: nan</div>\n",
       "    <div><p><code>\"Hermione\"[4:4]</code></p></div>\n",
       "    <hr>\n",
       "    "
      ],
      "text/plain": [
       "<IPython.core.display.HTML object>"
      ]
     },
     "metadata": {},
     "output_type": "display_data"
    },
    {
     "data": {
      "text/html": [
       "\n",
       "    <h3>ET-FalseString</h3>\n",
       "    <super>True/False Questions</super>\n",
       "    <div>Difficult: nan</div>\n",
       "    <div>Discrimination: nan</div>\n",
       "    <div><p><code>\"False\"</code></p></div>\n",
       "    <hr>\n",
       "    "
      ],
      "text/plain": [
       "<IPython.core.display.HTML object>"
      ]
     },
     "metadata": {},
     "output_type": "display_data"
    },
    {
     "data": {
      "text/html": [
       "\n",
       "    <h3>ET-NegativeInt</h3>\n",
       "    <super>True/False Questions</super>\n",
       "    <div>Difficult: nan</div>\n",
       "    <div>Discrimination: nan</div>\n",
       "    <div><p><code>-12332</code></p></div>\n",
       "    <hr>\n",
       "    "
      ],
      "text/plain": [
       "<IPython.core.display.HTML object>"
      ]
     },
     "metadata": {},
     "output_type": "display_data"
    },
    {
     "data": {
      "text/html": [
       "\n",
       "    <h3>ET-False</h3>\n",
       "    <super>True/False Questions</super>\n",
       "    <div>Difficult: nan</div>\n",
       "    <div>Discrimination: nan</div>\n",
       "    <div><p><code>False</code></p></div>\n",
       "    <hr>\n",
       "    "
      ],
      "text/plain": [
       "<IPython.core.display.HTML object>"
      ]
     },
     "metadata": {},
     "output_type": "display_data"
    },
    {
     "data": {
      "text/html": [
       "\n",
       "    <h3>ET-SmallInt</h3>\n",
       "    <super>True/False Questions</super>\n",
       "    <div>Difficult: nan</div>\n",
       "    <div>Discrimination: nan</div>\n",
       "    <div><p><code>1</code></p></div>\n",
       "    <hr>\n",
       "    "
      ],
      "text/plain": [
       "<IPython.core.display.HTML object>"
      ]
     },
     "metadata": {},
     "output_type": "display_data"
    },
    {
     "data": {
      "text/html": [
       "\n",
       "    <h3>ET-IndexCharacter</h3>\n",
       "    <super>True/False Questions</super>\n",
       "    <div>Difficult: nan</div>\n",
       "    <div>Discrimination: nan</div>\n",
       "    <div><p><code>\"Harry\"[0]</code></p></div>\n",
       "    <hr>\n",
       "    "
      ],
      "text/plain": [
       "<IPython.core.display.HTML object>"
      ]
     },
     "metadata": {},
     "output_type": "display_data"
    },
    {
     "data": {
      "text/html": [
       "\n",
       "    <h3>ET-EmptyStringSingle</h3>\n",
       "    <super>True/False Questions</super>\n",
       "    <div>Difficult: nan</div>\n",
       "    <div>Discrimination: nan</div>\n",
       "    <div><code>''</code></div>\n",
       "    <hr>\n",
       "    "
      ],
      "text/plain": [
       "<IPython.core.display.HTML object>"
      ]
     },
     "metadata": {},
     "output_type": "display_data"
    },
    {
     "data": {
      "text/html": [
       "\n",
       "    <h3>ET-FullMethod</h3>\n",
       "    <super>True/False Questions</super>\n",
       "    <div>Difficult: nan</div>\n",
       "    <div>Discrimination: nan</div>\n",
       "    <div><p><code>\"HI\".lower()</code></p></div>\n",
       "    <hr>\n",
       "    "
      ],
      "text/plain": [
       "<IPython.core.display.HTML object>"
      ]
     },
     "metadata": {},
     "output_type": "display_data"
    },
    {
     "data": {
      "text/html": [
       "\n",
       "    <h3>EquivalentIfs</h3>\n",
       "    <super>Multiple Answers Question</super>\n",
       "    <div>Difficult: 0.77</div>\n",
       "    <div>Discrimination: 0.04</div>\n",
       "    <div>Select the two snippets of code that are equivalent.</div>\n",
       "    <hr>\n",
       "    "
      ],
      "text/plain": [
       "<IPython.core.display.HTML object>"
      ]
     },
     "metadata": {},
     "output_type": "display_data"
    },
    {
     "data": {
      "text/html": [
       "\n",
       "    <h3>NestedWhitespace</h3>\n",
       "    <super>Short Answer Question</super>\n",
       "    <div>Difficult: 0.77</div>\n",
       "    <div>Discrimination: 0.13</div>\n",
       "    <div>If an <code>if</code> statement is nested inside another <code>if</code> statement, how many spaces will the body of the inner <code>if</code> statement have?</div>\n",
       "    <hr>\n",
       "    "
      ],
      "text/plain": [
       "<IPython.core.display.HTML object>"
      ]
     },
     "metadata": {},
     "output_type": "display_data"
    },
    {
     "data": {
      "text/html": [
       "\n",
       "    <h3>IfInFunctions</h3>\n",
       "    <super>True/False Questions</super>\n",
       "    <div>Difficult: 0.77</div>\n",
       "    <div>Discrimination: 0.14</div>\n",
       "    <div>You can nest <code>if</code> statements inside of other <code>if</code> statements, but not functions.</div>\n",
       "    <hr>\n",
       "    "
      ],
      "text/plain": [
       "<IPython.core.display.HTML object>"
      ]
     },
     "metadata": {},
     "output_type": "display_data"
    },
    {
     "data": {
      "text/html": [
       "\n",
       "    <h3>OptionalElseElif</h3>\n",
       "    <super>True/False Questions</super>\n",
       "    <div>Difficult: 0.77</div>\n",
       "    <div>Discrimination: 0.1</div>\n",
       "    <div>Every <code>if</code> statement must be followed by either an <code>else</code> or an <code>elif</code>.</div>\n",
       "    <hr>\n",
       "    "
      ],
      "text/plain": [
       "<IPython.core.display.HTML object>"
      ]
     },
     "metadata": {},
     "output_type": "display_data"
    },
    {
     "data": {
      "text/html": [
       "\n",
       "    <h3>EqualElif</h3>\n",
       "    <super>True/False Questions</super>\n",
       "    <div>Difficult: 0.77</div>\n",
       "    <div>Discrimination: -0.03</div>\n",
       "    <div>The <code>elif</code> is equivalent to an <code>else</code> with an <code>if</code> statement nested inside it.</div>\n",
       "    <hr>\n",
       "    "
      ],
      "text/plain": [
       "<IPython.core.display.HTML object>"
      ]
     },
     "metadata": {},
     "output_type": "display_data"
    },
    {
     "data": {
      "text/html": [
       "\n",
       "    <h3>EvaluatePrimitiveCompositeType</h3>\n",
       "    <super>Matching Question</super>\n",
       "    <div>Difficult: 0.92</div>\n",
       "    <div>Discrimination: 0.17</div>\n",
       "    <div>Identify each of the following as a Primitive Type, Composite Type, or Not a Type.</div>\n",
       "    <hr>\n",
       "    "
      ],
      "text/plain": [
       "<IPython.core.display.HTML object>"
      ]
     },
     "metadata": {},
     "output_type": "display_data"
    },
    {
     "data": {
      "text/html": [
       "\n",
       "    <h3>EvaluateListType</h3>\n",
       "    <super>Multiple Choice Question</super>\n",
       "    <div>Difficult: 0.93</div>\n",
       "    <div>Discrimination: 0.05</div>\n",
       "    <div>\n",
       "<p>What is the type of the following literal value?</p>\n",
       "<pre>[4.5, 3.2, 7.3]</pre>\n",
       "</div>\n",
       "    <hr>\n",
       "    "
      ],
      "text/plain": [
       "<IPython.core.display.HTML object>"
      ]
     },
     "metadata": {},
     "output_type": "display_data"
    },
    {
     "data": {
      "text/html": [
       "\n",
       "    <h3>EvaluateListSubtype</h3>\n",
       "    <super>Multiple Choice Question</super>\n",
       "    <div>Difficult: 0.93</div>\n",
       "    <div>Discrimination: 0.04</div>\n",
       "    <div>\n",
       "<p>What is the subtype of the following literal value?</p>\n",
       "<pre>[4.5, 3.2, 7.3]</pre>\n",
       "</div>\n",
       "    <hr>\n",
       "    "
      ],
      "text/plain": [
       "<IPython.core.display.HTML object>"
      ]
     },
     "metadata": {},
     "output_type": "display_data"
    },
    {
     "data": {
      "text/html": [
       "\n",
       "    <h3>ListArrayVector</h3>\n",
       "    <super>True/False Questions</super>\n",
       "    <div>Difficult: 0.93</div>\n",
       "    <div>Discrimination: 0.08</div>\n",
       "    <div>Lists can also be correctly referred to as \"Arrays\" or \"Vectors\".</div>\n",
       "    <hr>\n",
       "    "
      ],
      "text/plain": [
       "<IPython.core.display.HTML object>"
      ]
     },
     "metadata": {},
     "output_type": "display_data"
    },
    {
     "data": {
      "text/html": [
       "\n",
       "    <h3>PossibleListSubtype</h3>\n",
       "    <super>Multiple Answers Question</super>\n",
       "    <div>Difficult: 0.92</div>\n",
       "    <div>Discrimination: 0.16</div>\n",
       "    <div>Which of the following are possible subtypes for a list?</div>\n",
       "    <hr>\n",
       "    "
      ],
      "text/plain": [
       "<IPython.core.display.HTML object>"
      ]
     },
     "metadata": {},
     "output_type": "display_data"
    },
    {
     "data": {
      "text/html": [
       "\n",
       "    <h3>ListsAndStringsAreSequences</h3>\n",
       "    <super>True/False Questions</super>\n",
       "    <div>Difficult: 0.93</div>\n",
       "    <div>Discrimination: -0.04</div>\n",
       "    <div>Lists and strings are both sequences of data.</div>\n",
       "    <hr>\n",
       "    "
      ],
      "text/plain": [
       "<IPython.core.display.HTML object>"
      ]
     },
     "metadata": {},
     "output_type": "display_data"
    },
    {
     "data": {
      "text/html": [
       "\n",
       "    <h3>ListLiteralOrStringIndexing</h3>\n",
       "    <super>Matching Question</super>\n",
       "    <div>Difficult: 0.93</div>\n",
       "    <div>Discrimination: 0.2</div>\n",
       "    <div>Identify each of the following as either \"List literal\" or \"String indexing\".</div>\n",
       "    <hr>\n",
       "    "
      ],
      "text/plain": [
       "<IPython.core.display.HTML object>"
      ]
     },
     "metadata": {},
     "output_type": "display_data"
    },
    {
     "data": {
      "text/html": [
       "\n",
       "    <h3>ListIndexing</h3>\n",
       "    <super>Multiple Choice Question</super>\n",
       "    <div>Difficult: 0.65</div>\n",
       "    <div>Discrimination: 0.03</div>\n",
       "    <div>\n",
       "<p>What is the value stored in \"my_var\" after the following strange code is executed?</p>\n",
       "<pre>my_var = [1,2,3][1]</pre>\n",
       "<p> </p>\n",
       "</div>\n",
       "    <hr>\n",
       "    "
      ],
      "text/plain": [
       "<IPython.core.display.HTML object>"
      ]
     },
     "metadata": {},
     "output_type": "display_data"
    },
    {
     "data": {
      "text/html": [
       "\n",
       "    <h3>InvalidListComparison</h3>\n",
       "    <super>Multiple Choice Question</super>\n",
       "    <div>Difficult: 0.65</div>\n",
       "    <div>Discrimination: 0.02</div>\n",
       "    <div>\n",
       "<p>What is the value stored in \"my_var\" after the following code is executed?</p>\n",
       "<pre>my_var = [1,2,3] &lt; 5</pre>\n",
       "</div>\n",
       "    <hr>\n",
       "    "
      ],
      "text/plain": [
       "<IPython.core.display.HTML object>"
      ]
     },
     "metadata": {},
     "output_type": "display_data"
    },
    {
     "data": {
      "text/html": [
       "\n",
       "    <h3>ListMembership</h3>\n",
       "    <super>Multiple Choice Question</super>\n",
       "    <div>Difficult: 0.66</div>\n",
       "    <div>Discrimination: 0.11</div>\n",
       "    <div>\n",
       "<p>What is the value stored in \"my_var\" after the following code is executed?</p>\n",
       "<pre>my_var = 5 in [1,3,5]</pre>\n",
       "</div>\n",
       "    <hr>\n",
       "    "
      ],
      "text/plain": [
       "<IPython.core.display.HTML object>"
      ]
     },
     "metadata": {},
     "output_type": "display_data"
    },
    {
     "data": {
      "text/html": [
       "\n",
       "    <h3>InvalidListAddition</h3>\n",
       "    <super>Multiple Choice Question</super>\n",
       "    <div>Difficult: 0.66</div>\n",
       "    <div>Discrimination: 0.08</div>\n",
       "    <div>\n",
       "<p>What is the value stored in \"my_var\" after the following code is executed?</p>\n",
       "<pre>my_var = [1,2,3] + 4</pre>\n",
       "</div>\n",
       "    <hr>\n",
       "    "
      ],
      "text/plain": [
       "<IPython.core.display.HTML object>"
      ]
     },
     "metadata": {},
     "output_type": "display_data"
    },
    {
     "data": {
      "text/html": [
       "\n",
       "    <h3>ListAppend</h3>\n",
       "    <super>Multiple Choice Question</super>\n",
       "    <div>Difficult: 0.65</div>\n",
       "    <div>Discrimination: 0.16</div>\n",
       "    <div>\n",
       "<p>Which of the following demonstrates how to add something to the following list variable?</p>\n",
       "<pre>temperatures = [44, 36, 72]</pre>\n",
       "</div>\n",
       "    <hr>\n",
       "    "
      ],
      "text/plain": [
       "<IPython.core.display.HTML object>"
      ]
     },
     "metadata": {},
     "output_type": "display_data"
    },
    {
     "data": {
      "text/html": [
       "\n",
       "    <h3>Loop Components</h3>\n",
       "    <super>Matching Question</super>\n",
       "    <div>Difficult: 0.72</div>\n",
       "    <div>Discrimination: 0.19</div>\n",
       "    <div>Identify each of the components of the <code>for</code> loop:<br> <img src=\"https://vt.instructure.com/files/4813421/download?verifier=1kJNW07c5mDNKuEblSaAWICyLQZG9hdQym0cHzBy&amp;wrap=1\" alt=\"18-1-quiz-loop-parts.png\">\n",
       "</div>\n",
       "    <hr>\n",
       "    "
      ],
      "text/plain": [
       "<IPython.core.display.HTML object>"
      ]
     },
     "metadata": {},
     "output_type": "display_data"
    },
    {
     "data": {
      "text/html": [
       "\n",
       "    <h3>Colon Usage</h3>\n",
       "    <super>Short Answer Question</super>\n",
       "    <div>Difficult: 0.72</div>\n",
       "    <div>Discrimination: 0.12</div>\n",
       "    <div>Type the character used at the end of the first line of a <code>for</code> loop.</div>\n",
       "    <hr>\n",
       "    "
      ],
      "text/plain": [
       "<IPython.core.display.HTML object>"
      ]
     },
     "metadata": {},
     "output_type": "display_data"
    },
    {
     "data": {
      "text/html": [
       "\n",
       "    <h3>Iteration Variable Type</h3>\n",
       "    <super>Multiple Choice Question</super>\n",
       "    <div>Difficult: 0.72</div>\n",
       "    <div>Discrimination: 0.11</div>\n",
       "    <div>\n",
       "<p>What is the type of the Iteration Variable in this code?</p>\n",
       "<pre>groceries = [\"Apples\", \"Cookies\", \"Steaks\"]\n",
       "for grocery in groceries:\n",
       "    print(grocery)</pre>\n",
       "</div>\n",
       "    <hr>\n",
       "    "
      ],
      "text/plain": [
       "<IPython.core.display.HTML object>"
      ]
     },
     "metadata": {},
     "output_type": "display_data"
    },
    {
     "data": {
      "text/html": [
       "\n",
       "    <h3>Loop Facts</h3>\n",
       "    <super>Multiple Answers Question</super>\n",
       "    <div>Difficult: 0.71</div>\n",
       "    <div>Discrimination: 0.25</div>\n",
       "    <div>Mark each of the following statements about <code>for</code> loops that are true:</div>\n",
       "    <hr>\n",
       "    "
      ],
      "text/plain": [
       "<IPython.core.display.HTML object>"
      ]
     },
     "metadata": {},
     "output_type": "display_data"
    },
    {
     "data": {
      "text/html": [
       "\n",
       "    <h3>Loop Tracing</h3>\n",
       "    <super>Fill in Multiple Blanks</super>\n",
       "    <div>Difficult: 0.69</div>\n",
       "    <div>Discrimination: 0.29</div>\n",
       "    <div>\n",
       "<p>Trace the values of this code. If a variable is not yet defined, put an \"X\" (without quotes). </p>\n",
       "<pre>grades = [10, 20]\n",
       "total = 0\n",
       "for grade in grades:\n",
       "    adjusted = grade + 10\n",
       "    total = total + adjusted\n",
       "</pre>\n",
       "<table border=\"1\">\n",
       "<tbody>\n",
       "<tr>\n",
       "<td>step</td>\n",
       "<td>line</td>\n",
       "<td>grades</td>\n",
       "<td>grade</td>\n",
       "<td>adjusted</td>\n",
       "<td>total</td>\n",
       "</tr>\n",
       "<tr>\n",
       "<td>1</td>\n",
       "<td>1</td>\n",
       "<td>[10,20]</td>\n",
       "<td>X</td>\n",
       "<td>X</td>\n",
       "<td>X</td>\n",
       "</tr>\n",
       "<tr>\n",
       "<td>2</td>\n",
       "<td>2</td>\n",
       "<td><span>[10,20]</span></td>\n",
       "<td>[grade2]</td>\n",
       "<td>X</td>\n",
       "<td>[total2]</td>\n",
       "</tr>\n",
       "<tr>\n",
       "<td>3</td>\n",
       "<td>3</td>\n",
       "<td><span>[10,20]</span></td>\n",
       "<td>[grade3]</td>\n",
       "<td>X</td>\n",
       "<td>[total3]</td>\n",
       "</tr>\n",
       "<tr>\n",
       "<td>4</td>\n",
       "<td>4</td>\n",
       "<td><span>[10,20]</span></td>\n",
       "<td>[grade4]</td>\n",
       "<td>20</td>\n",
       "<td>[total4]</td>\n",
       "</tr>\n",
       "<tr>\n",
       "<td>5</td>\n",
       "<td>[line5]</td>\n",
       "<td><span>[10,20]</span></td>\n",
       "<td>[grade5]</td>\n",
       "<td>[adjusted5]</td>\n",
       "<td>[total5]</td>\n",
       "</tr>\n",
       "<tr>\n",
       "<td>6</td>\n",
       "<td>[line6]</td>\n",
       "<td><span>[grades6]</span></td>\n",
       "<td>[grade6]</td>\n",
       "<td>[adjusted6]</td>\n",
       "<td>[total6]</td>\n",
       "</tr>\n",
       "<tr>\n",
       "<td>7</td>\n",
       "<td>[line7]</td>\n",
       "<td><span>[10,20]</span></td>\n",
       "<td>[grade7]</td>\n",
       "<td>[adjusted7]</td>\n",
       "<td>[total7]</td>\n",
       "</tr>\n",
       "<tr>\n",
       "<td>8</td>\n",
       "<td>[line8]</td>\n",
       "<td><span>[10,20]</span></td>\n",
       "<td>[grade8]</td>\n",
       "<td>[adjusted8]</td>\n",
       "<td>50</td>\n",
       "</tr>\n",
       "</tbody>\n",
       "</table>\n",
       "</div>\n",
       "    <hr>\n",
       "    "
      ],
      "text/plain": [
       "<IPython.core.display.HTML object>"
      ]
     },
     "metadata": {},
     "output_type": "display_data"
    },
    {
     "data": {
      "text/html": [
       "\n",
       "    <h3>SumVariablePrediction</h3>\n",
       "    <super>Short Answer Question</super>\n",
       "    <div>Difficult: 0.68</div>\n",
       "    <div>Discrimination: 0.1</div>\n",
       "    <div>\n",
       "<p>After the third iteration of the loop, what is the value of <code>sum</code>?</p>\n",
       "<pre>sum = 0\n",
       "values = [4, 2, 6]\n",
       "for value in values:\n",
       "    sum = sum + value\n",
       "</pre>\n",
       "</div>\n",
       "    <hr>\n",
       "    "
      ],
      "text/plain": [
       "<IPython.core.display.HTML object>"
      ]
     },
     "metadata": {},
     "output_type": "display_data"
    },
    {
     "data": {
      "text/html": [
       "\n",
       "    <h3>UnderstandCountUpdate</h3>\n",
       "    <super>Multiple Choice Question</super>\n",
       "    <div>Difficult: 0.68</div>\n",
       "    <div>Discrimination: 0.09</div>\n",
       "    <div>\n",
       "<p>What does line 4 do?</p>\n",
       "<pre>count = 0\n",
       "values = [4,5,6]\n",
       "for value in values:\n",
       "    count = count + 1\n",
       "</pre>\n",
       "</div>\n",
       "    <hr>\n",
       "    "
      ],
      "text/plain": [
       "<IPython.core.display.HTML object>"
      ]
     },
     "metadata": {},
     "output_type": "display_data"
    },
    {
     "data": {
      "text/html": [
       "\n",
       "    <h3>FilterVsMaxPattern</h3>\n",
       "    <super>Multiple Choice Question</super>\n",
       "    <div>Difficult: 0.68</div>\n",
       "    <div>Discrimination: 0.05</div>\n",
       "    <div>\n",
       "<p>Which pattern does this code most resemble?</p>\n",
       "<pre>lowest = 100\n",
       "grades = [90, 64, 72, 50]\n",
       "for grade in grades:\n",
       "    if lowest &gt; grade:\n",
       "        lowest = grade\n",
       "print(lowest)\n",
       "</pre>\n",
       "</div>\n",
       "    <hr>\n",
       "    "
      ],
      "text/plain": [
       "<IPython.core.display.HTML object>"
      ]
     },
     "metadata": {},
     "output_type": "display_data"
    },
    {
     "data": {
      "text/html": [
       "\n",
       "    <h3>StatementInsideBody</h3>\n",
       "    <super>Multiple Choice Question</super>\n",
       "    <div>Difficult: 0.68</div>\n",
       "    <div>Discrimination: 0.05</div>\n",
       "    <div>\n",
       "<p>Is the <code>print</code> call before, inside, or after the <code>for</code> loop?</p>\n",
       "<pre>for name in names:\n",
       "    print(name)\n",
       "</pre>\n",
       "</div>\n",
       "    <hr>\n",
       "    "
      ],
      "text/plain": [
       "<IPython.core.display.HTML object>"
      ]
     },
     "metadata": {},
     "output_type": "display_data"
    },
    {
     "data": {
      "text/html": [
       "\n",
       "    <h3>PredictingBooleanAccumulation</h3>\n",
       "    <super>Short Answer Question</super>\n",
       "    <div>Difficult: 0.68</div>\n",
       "    <div>Discrimination: 0.16</div>\n",
       "    <div>\n",
       "<p>What is the value of <code>any</code> after the following code is executed?</p>\n",
       "<pre>conditions = [False, False, True, False]\n",
       "any = False\n",
       "for condition in conditions:\n",
       "    any = any or condition\n",
       "print(any)\n",
       "</pre>\n",
       "</div>\n",
       "    <hr>\n",
       "    "
      ],
      "text/plain": [
       "<IPython.core.display.HTML object>"
      ]
     },
     "metadata": {},
     "output_type": "display_data"
    },
    {
     "data": {
      "text/html": [
       "\n",
       "    <h3>PredictingStringAccumulation</h3>\n",
       "    <super>True/False Questions</super>\n",
       "    <div>Difficult: 0.68</div>\n",
       "    <div>Discrimination: 0.2</div>\n",
       "    <div>\n",
       "<p>True or false: the following code prints <code>True</code>. You can see this code execute <a href=\"https://goo.gl/axAGX7\" target=\"_blank\">here</a>.</p>\n",
       "<pre>names = [\"Alice\", \"Bob\", \"Carol\"]\n",
       "joined_names = \", \".join(names)\n",
       "added_names = \"\"\n",
       "for name in names:\n",
       "    added_names = added_names + name + \", \"\n",
       "print(added_names == joined_names)\n",
       "</pre>\n",
       "</div>\n",
       "    <hr>\n",
       "    "
      ],
      "text/plain": [
       "<IPython.core.display.HTML object>"
      ]
     },
     "metadata": {},
     "output_type": "display_data"
    },
    {
     "data": {
      "text/html": [
       "\n",
       "    <h3>Immutable or Mutable</h3>\n",
       "    <super>Matching Question</super>\n",
       "    <div>Difficult: 0.76</div>\n",
       "    <div>Discrimination: 0.09</div>\n",
       "    <div><p>Identify each of the following as mutable or immutable:</p></div>\n",
       "    <hr>\n",
       "    "
      ],
      "text/plain": [
       "<IPython.core.display.HTML object>"
      ]
     },
     "metadata": {},
     "output_type": "display_data"
    },
    {
     "data": {
      "text/html": [
       "\n",
       "    <h3>Methods Always Mutate</h3>\n",
       "    <super>True/False Questions</super>\n",
       "    <div>Difficult: 0.76</div>\n",
       "    <div>Discrimination: 0.18</div>\n",
       "    <div><p>When you call a method, it will always change the value of the variable you called it on. For example, the following code changes the value of the variable <code>name</code>:</p>\n",
       "<pre>name = \"Klaus\"\n",
       "name.lower()\n",
       "</pre></div>\n",
       "    <hr>\n",
       "    "
      ],
      "text/plain": [
       "<IPython.core.display.HTML object>"
      ]
     },
     "metadata": {},
     "output_type": "display_data"
    },
    {
     "data": {
      "text/html": [
       "\n",
       "    <h3>Result of Mutable Method</h3>\n",
       "    <super>Multiple Choice Question</super>\n",
       "    <div>Difficult: 0.76</div>\n",
       "    <div>Discrimination: 0.11</div>\n",
       "    <div><p>What value will the variable <code>longer_list</code> have after the following code runs?</p>\n",
       "<pre>longer_list = [1,2]\n",
       "longer_list = longer_list.append(3)</pre></div>\n",
       "    <hr>\n",
       "    "
      ],
      "text/plain": [
       "<IPython.core.display.HTML object>"
      ]
     },
     "metadata": {},
     "output_type": "display_data"
    },
    {
     "data": {
      "text/html": [
       "\n",
       "    <h3>Lists vs. Strings</h3>\n",
       "    <super>True/False Questions</super>\n",
       "    <div>Difficult: 0.61</div>\n",
       "    <div>Discrimination: 0.03</div>\n",
       "    <div>Strings are sequences of characters, and lists are sequences of any type.</div>\n",
       "    <hr>\n",
       "    "
      ],
      "text/plain": [
       "<IPython.core.display.HTML object>"
      ]
     },
     "metadata": {},
     "output_type": "display_data"
    },
    {
     "data": {
      "text/html": [
       "\n",
       "    <h3>Split Type</h3>\n",
       "    <super>Multiple Choice Question</super>\n",
       "    <div>Difficult: 0.61</div>\n",
       "    <div>Discrimination: 0.06</div>\n",
       "    <div>\n",
       "<p>What is the type of the result of the following expression?</p>\n",
       "<pre>\"1,2,3,4\".split(\",\")\n",
       "</pre>\n",
       "</div>\n",
       "    <hr>\n",
       "    "
      ],
      "text/plain": [
       "<IPython.core.display.HTML object>"
      ]
     },
     "metadata": {},
     "output_type": "display_data"
    },
    {
     "data": {
      "text/html": [
       "\n",
       "    <h3>Split Subtype</h3>\n",
       "    <super>Multiple Choice Question</super>\n",
       "    <div>Difficult: 0.61</div>\n",
       "    <div>Discrimination: 0.04</div>\n",
       "    <div>\n",
       "<p>What is the subtype of the result of the following expression?</p>\n",
       "<pre>\"1,2,3,4\".split(\",\")\n",
       "</pre>\n",
       "</div>\n",
       "    <hr>\n",
       "    "
      ],
      "text/plain": [
       "<IPython.core.display.HTML object>"
      ]
     },
     "metadata": {},
     "output_type": "display_data"
    },
    {
     "data": {
      "text/html": [
       "\n",
       "    <h3>Best Way to Iterate</h3>\n",
       "    <super>Multiple Choice Question</super>\n",
       "    <div>Difficult: 0.81</div>\n",
       "    <div>Discrimination: 0.26</div>\n",
       "    <div><p>Which of the following is the best way to print each element of a list in Python?</p></div>\n",
       "    <hr>\n",
       "    "
      ],
      "text/plain": [
       "<IPython.core.display.HTML object>"
      ]
     },
     "metadata": {},
     "output_type": "display_data"
    },
    {
     "data": {
      "text/html": [
       "\n",
       "    <h3>Reasons for Avoiding Indexes</h3>\n",
       "    <super>Multiple Answers Question</super>\n",
       "    <div>Difficult: 0.81</div>\n",
       "    <div>Discrimination: 0.19</div>\n",
       "    <div><p>Which of the following are reasons to avoid using indexes to process a list?</p></div>\n",
       "    <hr>\n",
       "    "
      ],
      "text/plain": [
       "<IPython.core.display.HTML object>"
      ]
     },
     "metadata": {},
     "output_type": "display_data"
    },
    {
     "data": {
      "text/html": [
       "\n",
       "    <h3>Always Avoid Indexing</h3>\n",
       "    <super>True/False Questions</super>\n",
       "    <div>Difficult: 0.81</div>\n",
       "    <div>Discrimination: 0.03</div>\n",
       "    <div><p>You should ALWAYS avoid using index iteration to process a list. There are no advantages to it.</p></div>\n",
       "    <hr>\n",
       "    "
      ],
      "text/plain": [
       "<IPython.core.display.HTML object>"
      ]
     },
     "metadata": {},
     "output_type": "display_data"
    },
    {
     "data": {
      "text/html": [
       "\n",
       "    <h3>Enumerate Indexes</h3>\n",
       "    <super>Short Answer Question</super>\n",
       "    <div>Difficult: 0.78</div>\n",
       "    <div>Discrimination: 0.05</div>\n",
       "    <div><p>The <code>enumerate</code> function consumes a list and returns each element paired with its index. When the following code is run, what is printed on the first line?</p>\n",
       "<pre>values=[1,2,3]\n",
       "for i, value in enumerate(values):\n",
       "    print(i, value)</pre>\n",
       "<p>If you are not sure, consider trying the code out - you don't have to guess!</p></div>\n",
       "    <hr>\n",
       "    "
      ],
      "text/plain": [
       "<IPython.core.display.HTML object>"
      ]
     },
     "metadata": {},
     "output_type": "display_data"
    },
    {
     "data": {
      "text/html": [
       "\n",
       "    <h3>ComprehensionParts</h3>\n",
       "    <super>Matching Question</super>\n",
       "    <div>Difficult: 0.92</div>\n",
       "    <div>Discrimination: 0.23</div>\n",
       "    <div>\n",
       "<p>Identify each of the components of the list comprehension:</p>\n",
       "<p><img src=\"https://vt.instructure.com/files/4939113/download?verifier=SReM7u6nPkiaXhJQnZqdbMwW19OnQb3BwzwAQAGo&amp;wrap=1\" alt=\"20-comprehension-quizGraphics.png\"></p>\n",
       "</div>\n",
       "    <hr>\n",
       "    "
      ],
      "text/plain": [
       "<IPython.core.display.HTML object>"
      ]
     },
     "metadata": {},
     "output_type": "display_data"
    },
    {
     "data": {
      "text/html": [
       "\n",
       "    <h3>ListComprehensionFacts</h3>\n",
       "    <super>Multiple Answers Question</super>\n",
       "    <div>Difficult: 0.93</div>\n",
       "    <div>Discrimination: -0.1</div>\n",
       "    <div>Mark all that are true:</div>\n",
       "    <hr>\n",
       "    "
      ],
      "text/plain": [
       "<IPython.core.display.HTML object>"
      ]
     },
     "metadata": {},
     "output_type": "display_data"
    },
    {
     "data": {
      "text/html": [
       "\n",
       "    <h3>ComprehensionLength</h3>\n",
       "    <super>Multiple Choice Question</super>\n",
       "    <div>Difficult: 0.93</div>\n",
       "    <div>Discrimination: 0.07</div>\n",
       "    <div>\n",
       "<p>How many elements will the result of this list comprehension have?</p>\n",
       "<pre>old = [1,2,3]\n",
       "new = [old*2 for i in old]\n",
       "</pre>\n",
       "</div>\n",
       "    <hr>\n",
       "    "
      ],
      "text/plain": [
       "<IPython.core.display.HTML object>"
      ]
     },
     "metadata": {},
     "output_type": "display_data"
    },
    {
     "data": {
      "text/html": [
       "\n",
       "    <h3>FilterLength</h3>\n",
       "    <super>Multiple Choice Question</super>\n",
       "    <div>Difficult: 0.93</div>\n",
       "    <div>Discrimination: 0.04</div>\n",
       "    <div>\n",
       "<p>How many elements will the result of this list comprehension have?</p>\n",
       "<pre>old = [1,2,3]\n",
       "new = [old*2 for i in old if i &gt; 1]\n",
       "</pre>\n",
       "</div>\n",
       "    <hr>\n",
       "    "
      ],
      "text/plain": [
       "<IPython.core.display.HTML object>"
      ]
     },
     "metadata": {},
     "output_type": "display_data"
    },
    {
     "data": {
      "text/html": [
       "\n",
       "    <h3>ComprehensionVsLoop</h3>\n",
       "    <super>Multiple Answers Question</super>\n",
       "    <div>Difficult: 0.91</div>\n",
       "    <div>Discrimination: 0.31</div>\n",
       "    <div>Which of the following code snippets are equivalent?</div>\n",
       "    <hr>\n",
       "    "
      ],
      "text/plain": [
       "<IPython.core.display.HTML object>"
      ]
     },
     "metadata": {},
     "output_type": "display_data"
    },
    {
     "data": {
      "text/html": [
       "\n",
       "    <h3>LabelWhile</h3>\n",
       "    <super>Matching Question</super>\n",
       "    <div>Difficult: 0.9</div>\n",
       "    <div>Discrimination: 0.09</div>\n",
       "    <div>\n",
       "<p>Identify each part of the while loop shown:</p>\n",
       "<p><img src=\"https://canvas.vt.edu/files/4961030/download?verifier=NszNCgwJTor7BzC3ompOb43oPbcWIXnf2j0pkkan&amp;wrap=1\" alt=\"25-while-quizGraphics.png\"></p>\n",
       "</div>\n",
       "    <hr>\n",
       "    "
      ],
      "text/plain": [
       "<IPython.core.display.HTML object>"
      ]
     },
     "metadata": {},
     "output_type": "display_data"
    },
    {
     "data": {
      "text/html": [
       "\n",
       "    <h3>WhileVsFor</h3>\n",
       "    <super>True/False Questions</super>\n",
       "    <div>Difficult: 0.9</div>\n",
       "    <div>Discrimination: 0.05</div>\n",
       "    <div>Syntactically, <code>while</code> loops look just like <code>for</code> loops.</div>\n",
       "    <hr>\n",
       "    "
      ],
      "text/plain": [
       "<IPython.core.display.HTML object>"
      ]
     },
     "metadata": {},
     "output_type": "display_data"
    },
    {
     "data": {
      "text/html": [
       "\n",
       "    <h3>WhileExecutesOnce</h3>\n",
       "    <super>True/False Questions</super>\n",
       "    <div>Difficult: 0.9</div>\n",
       "    <div>Discrimination: 0.11</div>\n",
       "    <div>A While loop will always execute at least once.</div>\n",
       "    <hr>\n",
       "    "
      ],
      "text/plain": [
       "<IPython.core.display.HTML object>"
      ]
     },
     "metadata": {},
     "output_type": "display_data"
    },
    {
     "data": {
      "text/html": [
       "\n",
       "    <h3>LoopEndDecrement</h3>\n",
       "    <super>True/False Questions</super>\n",
       "    <div>Difficult: 0.9</div>\n",
       "    <div>Discrimination: 0.12</div>\n",
       "    <div>\n",
       "<p>The program below will NOT loop forever.</p>\n",
       "<pre>count = 10\n",
       "while count &gt;= 0:\n",
       "    count = count - 1\n",
       "print(count)\n",
       "</pre>\n",
       "</div>\n",
       "    <hr>\n",
       "    "
      ],
      "text/plain": [
       "<IPython.core.display.HTML object>"
      ]
     },
     "metadata": {},
     "output_type": "display_data"
    },
    {
     "data": {
      "text/html": [
       "\n",
       "    <h3>LoopEndIncrement</h3>\n",
       "    <super>True/False Questions</super>\n",
       "    <div>Difficult: 0.89</div>\n",
       "    <div>Discrimination: 0.02</div>\n",
       "    <div>\n",
       "<p>The program below will NOT loop forever.</p>\n",
       "<pre>count = 0\n",
       "while count &gt; 0:\n",
       "    count = count + 1\n",
       "print(count)\n",
       "</pre>\n",
       "</div>\n",
       "    <hr>\n",
       "    "
      ],
      "text/plain": [
       "<IPython.core.display.HTML object>"
      ]
     },
     "metadata": {},
     "output_type": "display_data"
    },
    {
     "data": {
      "text/html": [
       "\n",
       "    <h3>LoopForever</h3>\n",
       "    <super>True/False Questions</super>\n",
       "    <div>Difficult: 0.9</div>\n",
       "    <div>Discrimination: 0.14</div>\n",
       "    <div>\n",
       "<p>The program below will NOT loop forever.</p>\n",
       "<pre>while True:\n",
       "    print(\"Loop again\")\n",
       "</pre>\n",
       "</div>\n",
       "    <hr>\n",
       "    "
      ],
      "text/plain": [
       "<IPython.core.display.HTML object>"
      ]
     },
     "metadata": {},
     "output_type": "display_data"
    },
    {
     "data": {
      "text/html": [
       "\n",
       "    <h3>LoopConvenience</h3>\n",
       "    <super>True/False Questions</super>\n",
       "    <div>Difficult: 0.9</div>\n",
       "    <div>Discrimination: 0.18</div>\n",
       "    <div>\n",
       "<code>while</code> loops are more common in Python than <code>for</code> loops because they are safer.</div>\n",
       "    <hr>\n",
       "    "
      ],
      "text/plain": [
       "<IPython.core.display.HTML object>"
      ]
     },
     "metadata": {},
     "output_type": "display_data"
    },
    {
     "data": {
      "text/html": [
       "\n",
       "    <h3>LoopLength</h3>\n",
       "    <super>True/False Questions</super>\n",
       "    <div>Difficult: 0.9</div>\n",
       "    <div>Discrimination: 0.11</div>\n",
       "    <div>A <code>while</code> loop will execute once for each expression in the conditional.</div>\n",
       "    <hr>\n",
       "    "
      ],
      "text/plain": [
       "<IPython.core.display.HTML object>"
      ]
     },
     "metadata": {},
     "output_type": "display_data"
    },
    {
     "data": {
      "text/html": [
       "\n",
       "    <h3>ControlStructureBodies</h3>\n",
       "    <super>Multiple Answers Question</super>\n",
       "    <div>Difficult: 0.89</div>\n",
       "    <div>Discrimination: 0.09</div>\n",
       "    <div>Which of the following have a body?</div>\n",
       "    <hr>\n",
       "    "
      ],
      "text/plain": [
       "<IPython.core.display.HTML object>"
      ]
     },
     "metadata": {},
     "output_type": "display_data"
    },
    {
     "data": {
      "text/html": [
       "\n",
       "    <h3>InputLimit</h3>\n",
       "    <super>Multiple Choice Question</super>\n",
       "    <div>Difficult: 0.89</div>\n",
       "    <div>Discrimination: 0.05</div>\n",
       "    <div>\n",
       "<p>How many times does the loop body below execute?</p>\n",
       "<pre>command = \"\"\n",
       "words = []\n",
       "while command != \"quit\":\n",
       "    command = input(\"Type a word:\")\n",
       "    words.append(command)\n",
       "print(words)\n",
       "</pre>\n",
       "</div>\n",
       "    <hr>\n",
       "    "
      ],
      "text/plain": [
       "<IPython.core.display.HTML object>"
      ]
     },
     "metadata": {},
     "output_type": "display_data"
    },
    {
     "data": {
      "text/html": [
       "\n",
       "    <h3>DictionariesParts</h3>\n",
       "    <super>Matching Question</super>\n",
       "    <div>Difficult: 0.89</div>\n",
       "    <div>Discrimination: 0.34</div>\n",
       "    <div>\n",
       "<p>Identify each of the components of the Dictionary literal below:</p>\n",
       "<p><img src=\"https://vt.instructure.com/files/4939440/download?verifier=Dnh3nVBwrcL0SNi4si3iSVk7KMKfypg3w9h1WU0h&amp;wrap=1\" alt=\"20-dictionaries-quizGraphics.png\"></p>\n",
       "</div>\n",
       "    <hr>\n",
       "    "
      ],
      "text/plain": [
       "<IPython.core.display.HTML object>"
      ]
     },
     "metadata": {},
     "output_type": "display_data"
    },
    {
     "data": {
      "text/html": [
       "\n",
       "    <h3>DefinitionSequence</h3>\n",
       "    <super>True/False Questions</super>\n",
       "    <div>Difficult: 0.89</div>\n",
       "    <div>Discrimination: 0.24</div>\n",
       "    <div>Dictionaries are a sequence of key-value pairs.</div>\n",
       "    <hr>\n",
       "    "
      ],
      "text/plain": [
       "<IPython.core.display.HTML object>"
      ]
     },
     "metadata": {},
     "output_type": "display_data"
    },
    {
     "data": {
      "text/html": [
       "\n",
       "    <h3>EmptyDictionary</h3>\n",
       "    <super>True/False Questions</super>\n",
       "    <div>Difficult: 0.88</div>\n",
       "    <div>Discrimination: 0.04</div>\n",
       "    <div>Dictionaries will always have at least one key and one value.</div>\n",
       "    <hr>\n",
       "    "
      ],
      "text/plain": [
       "<IPython.core.display.HTML object>"
      ]
     },
     "metadata": {},
     "output_type": "display_data"
    },
    {
     "data": {
      "text/html": [
       "\n",
       "    <h3>DuplicateKeys</h3>\n",
       "    <super>True/False Questions</super>\n",
       "    <div>Difficult: 0.89</div>\n",
       "    <div>Discrimination: 0.12</div>\n",
       "    <div>Dictionaries are useful because you can have duplicate keys.</div>\n",
       "    <hr>\n",
       "    "
      ],
      "text/plain": [
       "<IPython.core.display.HTML object>"
      ]
     },
     "metadata": {},
     "output_type": "display_data"
    },
    {
     "data": {
      "text/html": [
       "\n",
       "    <h3>StringKeys</h3>\n",
       "    <super>True/False Questions</super>\n",
       "    <div>Difficult: 0.89</div>\n",
       "    <div>Discrimination: 0.25</div>\n",
       "    <div>Dictionary keys are always strings.</div>\n",
       "    <hr>\n",
       "    "
      ],
      "text/plain": [
       "<IPython.core.display.HTML object>"
      ]
     },
     "metadata": {},
     "output_type": "display_data"
    },
    {
     "data": {
      "text/html": [
       "\n",
       "    <h3>DictionarySynonyms</h3>\n",
       "    <super>Multiple Answers Question</super>\n",
       "    <div>Difficult: 0.89</div>\n",
       "    <div>Discrimination: 0.22</div>\n",
       "    <div>Select each synonym for a Python \"dictionary\":</div>\n",
       "    <hr>\n",
       "    "
      ],
      "text/plain": [
       "<IPython.core.display.HTML object>"
      ]
     },
     "metadata": {},
     "output_type": "display_data"
    },
    {
     "data": {
      "text/html": [
       "\n",
       "    <h3>KeyValueTypes</h3>\n",
       "    <super>Matching Question</super>\n",
       "    <div>Difficult: 0.88</div>\n",
       "    <div>Discrimination: 0.29</div>\n",
       "    <div>\n",
       "<p>Given this dictionary...</p>\n",
       "<pre>animal = {\"Name\": \"Klaus\", \"Age\": 17, \"Small?\": True}</pre>\n",
       "</div>\n",
       "    <hr>\n",
       "    "
      ],
      "text/plain": [
       "<IPython.core.display.HTML object>"
      ]
     },
     "metadata": {},
     "output_type": "display_data"
    },
    {
     "data": {
      "text/html": [
       "\n",
       "    <h3>LookupSyntax</h3>\n",
       "    <super>Multiple Choice Question</super>\n",
       "    <div>Difficult: 0.87</div>\n",
       "    <div>Discrimination: 0.32</div>\n",
       "    <div>Which of the following demonstrates proper syntax for accessing a dictionary's value?</div>\n",
       "    <hr>\n",
       "    "
      ],
      "text/plain": [
       "<IPython.core.display.HTML object>"
      ]
     },
     "metadata": {},
     "output_type": "display_data"
    },
    {
     "data": {
      "text/html": [
       "\n",
       "    <h3>ValidLookups</h3>\n",
       "    <super>Multiple Answers Question</super>\n",
       "    <div>Difficult: 0.86</div>\n",
       "    <div>Discrimination: 0.31</div>\n",
       "    <div>\n",
       "<p>Given the following code,</p>\n",
       "<pre>dict = {\"Key\": \"Value\",\n",
       "        5: 10,\n",
       "        True: \"Hello\"}\n",
       "key = 5\n",
       "</pre>\n",
       "<p>Which of the following are valid expressions?</p>\n",
       "</div>\n",
       "    <hr>\n",
       "    "
      ],
      "text/plain": [
       "<IPython.core.display.HTML object>"
      ]
     },
     "metadata": {},
     "output_type": "display_data"
    },
    {
     "data": {
      "text/html": [
       "\n",
       "    <h3>LookupCalculation</h3>\n",
       "    <super>Fill in Multiple Blanks</super>\n",
       "    <div>Difficult: 0.87</div>\n",
       "    <div>Discrimination: 0.26</div>\n",
       "    <div>\n",
       "<p>Given the following dictionary,</p>\n",
       "<pre>scores = { 5: 10,\n",
       "           10: 5 }\n",
       "</pre>\n",
       "<p>What is the value of the following expressions?</p>\n",
       "<ul>\n",
       "<li>\n",
       "<img src=\"https://vt.instructure.com/files/4939694/download?verifier=cS68S9cIW7IoHrbZ0TorYPtbKfJSgxasbkkJRzKa&amp;wrap=1\" alt=\"21-quizGraphics-dictionaries-lookupCalculation-1.png\">: [regular]</li>\n",
       "<li>\n",
       "<img src=\"https://vt.instructure.com/files/4939697/download?verifier=z47hU9cHdrLJwQPtquZdrSssajUzl1OLG2Q0Fw7u&amp;wrap=1\" alt=\"21-quizGraphics-dictionaries-lookupCalculation-2.png\">: [inner]</li>\n",
       "<li>\n",
       "<img src=\"https://vt.instructure.com/files/4939699/download?verifier=FFBalsGOXCGItPso0MnSV7N3b5sMxZOsB2D6TepD&amp;wrap=1\" alt=\"21-quizGraphics-dictionaries-lookupCalculation-3.png\">: [outer]</li>\n",
       "</ul>\n",
       "</div>\n",
       "    <hr>\n",
       "    "
      ],
      "text/plain": [
       "<IPython.core.display.HTML object>"
      ]
     },
     "metadata": {},
     "output_type": "display_data"
    },
    {
     "data": {
      "text/html": [
       "\n",
       "    <h3>KeySubtype</h3>\n",
       "    <super>Matching Question</super>\n",
       "    <div>Difficult: 0.86</div>\n",
       "    <div>Discrimination: 0.15</div>\n",
       "    <div>For each pattern, identify the subtype of the dictionaries' keys.</div>\n",
       "    <hr>\n",
       "    "
      ],
      "text/plain": [
       "<IPython.core.display.HTML object>"
      ]
     },
     "metadata": {},
     "output_type": "display_data"
    },
    {
     "data": {
      "text/html": [
       "\n",
       "    <h3>ValueSubtype</h3>\n",
       "    <super>Matching Question</super>\n",
       "    <div>Difficult: 0.86</div>\n",
       "    <div>Discrimination: 0.23</div>\n",
       "    <div>For each pattern, identify the subtype of the dictionaries' values.</div>\n",
       "    <hr>\n",
       "    "
      ],
      "text/plain": [
       "<IPython.core.display.HTML object>"
      ]
     },
     "metadata": {},
     "output_type": "display_data"
    },
    {
     "data": {
      "text/html": [
       "\n",
       "    <h3>RecordPatternUsefulness</h3>\n",
       "    <super>True/False Questions</super>\n",
       "    <div>Difficult: 0.87</div>\n",
       "    <div>Discrimination: 0.09</div>\n",
       "    <div>The Record Pattern is useful for representing complex real-world things.</div>\n",
       "    <hr>\n",
       "    "
      ],
      "text/plain": [
       "<IPython.core.display.HTML object>"
      ]
     },
     "metadata": {},
     "output_type": "display_data"
    },
    {
     "data": {
      "text/html": [
       "\n",
       "    <h3>CountingCategories</h3>\n",
       "    <super>True/False Questions</super>\n",
       "    <div>Difficult: 0.87</div>\n",
       "    <div>Discrimination: 0.04</div>\n",
       "    <div>The Dictionary Counting Pattern is only useful if you know exactly what categories of things you have in advance.</div>\n",
       "    <hr>\n",
       "    "
      ],
      "text/plain": [
       "<IPython.core.display.HTML object>"
      ]
     },
     "metadata": {},
     "output_type": "display_data"
    },
    {
     "data": {
      "text/html": [
       "\n",
       "    <h3>CountingInitialization</h3>\n",
       "    <super>Multiple Choice Question</super>\n",
       "    <div>Difficult: 0.86</div>\n",
       "    <div>Discrimination: 0.13</div>\n",
       "    <div>What does the accumulator variable in the dictionary counting pattern initialize to?</div>\n",
       "    <hr>\n",
       "    "
      ],
      "text/plain": [
       "<IPython.core.display.HTML object>"
      ]
     },
     "metadata": {},
     "output_type": "display_data"
    },
    {
     "data": {
      "text/html": [
       "\n",
       "    <h3>VariableKeys</h3>\n",
       "    <super>True/False Questions</super>\n",
       "    <div>Difficult: 0.87</div>\n",
       "    <div>Discrimination: 0.01</div>\n",
       "    <div>Variables cannot be used as the keys of a dictionary</div>\n",
       "    <hr>\n",
       "    "
      ],
      "text/plain": [
       "<IPython.core.display.HTML object>"
      ]
     },
     "metadata": {},
     "output_type": "display_data"
    },
    {
     "data": {
      "text/html": [
       "\n",
       "    <h3>DynamicKeys</h3>\n",
       "    <super>True/False Questions</super>\n",
       "    <div>Difficult: 0.87</div>\n",
       "    <div>Discrimination: 0.14</div>\n",
       "    <div>Keys cannot be added to a dictionary after the dictionary has been created.</div>\n",
       "    <hr>\n",
       "    "
      ],
      "text/plain": [
       "<IPython.core.display.HTML object>"
      ]
     },
     "metadata": {},
     "output_type": "display_data"
    },
    {
     "data": {
      "text/html": [
       "\n",
       "    <h3>DictionaryUpdate</h3>\n",
       "    <super>Multiple Choice Question</super>\n",
       "    <div>Difficult: 0.86</div>\n",
       "    <div>Discrimination: 0.2</div>\n",
       "    <div>\n",
       "<p>What will be printed after this code is run?</p>\n",
       "<pre>points = {\"Virginia Tech\": 5}\n",
       "points[\"Virginia Tech\"] = 3\n",
       "print(points[\"Virginia Tech\"])</pre>\n",
       "</div>\n",
       "    <hr>\n",
       "    "
      ],
      "text/plain": [
       "<IPython.core.display.HTML object>"
      ]
     },
     "metadata": {},
     "output_type": "display_data"
    },
    {
     "data": {
      "text/html": [
       "\n",
       "    <h3>Lookup and Find Analogy</h3>\n",
       "    <super>Matching Question</super>\n",
       "    <div>Difficult: 0.63</div>\n",
       "    <div>Discrimination: 0.14</div>\n",
       "    <div><p>You need to find a book in the library. Match the data structure's operation to the analogous approach:</p></div>\n",
       "    <hr>\n",
       "    "
      ],
      "text/plain": [
       "<IPython.core.display.HTML object>"
      ]
     },
     "metadata": {},
     "output_type": "display_data"
    },
    {
     "data": {
      "text/html": [
       "\n",
       "    <h3>For Each on a Dictionary</h3>\n",
       "    <super>True/False Questions</super>\n",
       "    <div>Difficult: 0.63</div>\n",
       "    <div>Discrimination: 0.02</div>\n",
       "    <div><p>Summing all the elements of a dictionary is faster than summing all the elements of a list because you can lookup items instantly.</p></div>\n",
       "    <hr>\n",
       "    "
      ],
      "text/plain": [
       "<IPython.core.display.HTML object>"
      ]
     },
     "metadata": {},
     "output_type": "display_data"
    },
    {
     "data": {
      "text/html": [
       "\n",
       "    <h3>Question</h3>\n",
       "    <super>Multiple Choice Question</super>\n",
       "    <div>Difficult: 0.63</div>\n",
       "    <div>Discrimination: 0.16</div>\n",
       "    <div><p>Assume that a dictionary variable has been initialized with the inventory of a supermarket (with the rest of the items typed out):</p>\n",
       "<pre>inventory = {\"Apples\": 50, \"Bananas\": 35, \"Cauliflower\": 0, ..., \"Zucchini\": 72}</pre>\n",
       "<p>The following algorithms all attempt to perform the same task of checking how many \"Zucchini\" will be in stock. Which of the correct algorithms do you expect to be the fastest?</p></div>\n",
       "    <hr>\n",
       "    "
      ],
      "text/plain": [
       "<IPython.core.display.HTML object>"
      ]
     },
     "metadata": {},
     "output_type": "display_data"
    },
    {
     "data": {
      "text/html": [
       "\n",
       "    <h3>PythonTypes</h3>\n",
       "    <super>Matching Question</super>\n",
       "    <div>Difficult: 0.74</div>\n",
       "    <div>Discrimination: 0.11</div>\n",
       "    <div>\n",
       "<p>Label each of the following as a \"Primitive type\", \"Composite type\", or \"Not a type\":</p>\n",
       "<p> </p>\n",
       "</div>\n",
       "    <hr>\n",
       "    "
      ],
      "text/plain": [
       "<IPython.core.display.HTML object>"
      ]
     },
     "metadata": {},
     "output_type": "display_data"
    },
    {
     "data": {
      "text/html": [
       "\n",
       "    <h3>ListsOfDictionaries</h3>\n",
       "    <super>True/False Questions</super>\n",
       "    <div>Difficult: 0.73</div>\n",
       "    <div>Discrimination: 0.14</div>\n",
       "    <div>Lists can be composed of Dictionaries.</div>\n",
       "    <hr>\n",
       "    "
      ],
      "text/plain": [
       "<IPython.core.display.HTML object>"
      ]
     },
     "metadata": {},
     "output_type": "display_data"
    },
    {
     "data": {
      "text/html": [
       "\n",
       "    <h3>DictionariesOfLists</h3>\n",
       "    <super>True/False Questions</super>\n",
       "    <div>Difficult: 0.73</div>\n",
       "    <div>Discrimination: 0.15</div>\n",
       "    <div>Dictionaries cannot be composed of Lists.</div>\n",
       "    <hr>\n",
       "    "
      ],
      "text/plain": [
       "<IPython.core.display.HTML object>"
      ]
     },
     "metadata": {},
     "output_type": "display_data"
    },
    {
     "data": {
      "text/html": [
       "\n",
       "    <h3>StringsOfLists</h3>\n",
       "    <super>True/False Questions</super>\n",
       "    <div>Difficult: 0.74</div>\n",
       "    <div>Discrimination: 0.12</div>\n",
       "    <div>Strings can be composed of Lists.</div>\n",
       "    <hr>\n",
       "    "
      ],
      "text/plain": [
       "<IPython.core.display.HTML object>"
      ]
     },
     "metadata": {},
     "output_type": "display_data"
    },
    {
     "data": {
      "text/html": [
       "\n",
       "    <h3>ListOfList</h3>\n",
       "    <super>Multiple Choice Question</super>\n",
       "    <div>Difficult: 0.73</div>\n",
       "    <div>Discrimination: 0.09</div>\n",
       "    <div>\n",
       "<p>What is the type of the following expression?</p>\n",
       "<p>[[0]]</p>\n",
       "</div>\n",
       "    <hr>\n",
       "    "
      ],
      "text/plain": [
       "<IPython.core.display.HTML object>"
      ]
     },
     "metadata": {},
     "output_type": "display_data"
    },
    {
     "data": {
      "text/html": [
       "\n",
       "    <h3>LengthOfLOD</h3>\n",
       "    <super>Multiple Choice Question</super>\n",
       "    <div>Difficult: 0.72</div>\n",
       "    <div>Discrimination: 0.19</div>\n",
       "    <div>\n",
       "<p>How many elements are in the following list?</p>\n",
       "<pre>animals = [{\"Name\": \"Klaus\", \"Age\": 17, \"Type\": \"Dog\"},\n",
       "           {\"Name\": \"Tigger\", \"Age\": 12, \"Type\": \"Cat\"},\n",
       "           {\"Name\": \"Wrex\", \"Age\": 2, \"Type\": \"Hamster\"}]</pre>\n",
       "</div>\n",
       "    <hr>\n",
       "    "
      ],
      "text/plain": [
       "<IPython.core.display.HTML object>"
      ]
     },
     "metadata": {},
     "output_type": "display_data"
    },
    {
     "data": {
      "text/html": [
       "\n",
       "    <h3>ComplexExpressions</h3>\n",
       "    <super>Matching Question</super>\n",
       "    <div>Difficult: 0.72</div>\n",
       "    <div>Discrimination: 0.19</div>\n",
       "    <div>\n",
       "<p>Given the following code:</p>\n",
       "<pre>movies = [\n",
       "    {\"Name\": \"Jurassic Park\", \"Length\": 127, \n",
       "     \"Cast\": [\"Goldblum\", \"Neill\", \"Dern\"]},\n",
       "    {\"Name\": \"Castle in the Sky\", \"Length\": 140,\n",
       "     \"Cast\": [\"Paquin\", \"Beek\", \"Leachman\"]},\n",
       "    {\"Name\": \"It\", \"Length\": 135,\n",
       "     \"Cast\": [\"Curry\", \"Green\", \"Brandis\"]}]</pre>\n",
       "<p>What is the value of the following expressions?</p>\n",
       "</div>\n",
       "    <hr>\n",
       "    "
      ],
      "text/plain": [
       "<IPython.core.display.HTML object>"
      ]
     },
     "metadata": {},
     "output_type": "display_data"
    },
    {
     "data": {
      "text/html": [
       "\n",
       "    <h3>KeyInFor</h3>\n",
       "    <super>Fill in Multiple Blanks</super>\n",
       "    <div>Difficult: 0.69</div>\n",
       "    <div>Discrimination: 0.23</div>\n",
       "    <div>\n",
       "<p>Fill in the blanks of the following code in order to print out each movie title followed by the names of its cast members:</p>\n",
       "<pre>movies = [\n",
       "    {\"Name\": \"Jurassic Park\", \"Length\": 127, \n",
       "     \"Cast\": [\"Goldblum\", \"Neill\", \"Dern\"]},\n",
       "    {\"Name\": \"Castle in the Sky\", \"Length\": 140,\n",
       "     \"Cast\": [\"Paquin\", \"Beek\", \"Leachman\"]},\n",
       "    {\"Name\": \"It\", \"Length\": 135,\n",
       "     \"Cast\": [\"Curry\", \"Green\", \"Brandis\"]}]\n",
       "for movie in movies:\n",
       "    print(movie[\"<u>__1__</u>\"])\n",
       "    for member in movie[\"<u>__2__</u>\"]:\n",
       "        print(member)\n",
       "</pre>\n",
       "<ol>\n",
       "<li>[name]</li>\n",
       "<li>[cast]</li>\n",
       "</ol>\n",
       "</div>\n",
       "    <hr>\n",
       "    "
      ],
      "text/plain": [
       "<IPython.core.display.HTML object>"
      ]
     },
     "metadata": {},
     "output_type": "display_data"
    },
    {
     "data": {
      "text/html": [
       "\n",
       "    <h3>AppendTuple</h3>\n",
       "    <super>True/False Questions</super>\n",
       "    <div>Difficult: 0.93</div>\n",
       "    <div>Discrimination: 0.18</div>\n",
       "    <div>You can use the append method to add elements to tuples.</div>\n",
       "    <hr>\n",
       "    "
      ],
      "text/plain": [
       "<IPython.core.display.HTML object>"
      ]
     },
     "metadata": {},
     "output_type": "display_data"
    },
    {
     "data": {
      "text/html": [
       "\n",
       "    <h3>TupleParentheses</h3>\n",
       "    <super>True/False Questions</super>\n",
       "    <div>Difficult: 0.93</div>\n",
       "    <div>Discrimination: 0.21</div>\n",
       "    <div>Parentheses are necessary in creating a tuple.</div>\n",
       "    <hr>\n",
       "    "
      ],
      "text/plain": [
       "<IPython.core.display.HTML object>"
      ]
     },
     "metadata": {},
     "output_type": "display_data"
    },
    {
     "data": {
      "text/html": [
       "\n",
       "    <h3>ImmutableTuples</h3>\n",
       "    <super>True/False Questions</super>\n",
       "    <div>Difficult: 0.93</div>\n",
       "    <div>Discrimination: 0.02</div>\n",
       "    <div>Tuples are immutable - they cannot be changed after being created.</div>\n",
       "    <hr>\n",
       "    "
      ],
      "text/plain": [
       "<IPython.core.display.HTML object>"
      ]
     },
     "metadata": {},
     "output_type": "display_data"
    },
    {
     "data": {
      "text/html": [
       "\n",
       "    <h3>TuplesVsDictionaries</h3>\n",
       "    <super>True/False Questions</super>\n",
       "    <div>Difficult: 0.93</div>\n",
       "    <div>Discrimination: 0.17</div>\n",
       "    <div>Tuples are composed of key/value pairs.</div>\n",
       "    <hr>\n",
       "    "
      ],
      "text/plain": [
       "<IPython.core.display.HTML object>"
      ]
     },
     "metadata": {},
     "output_type": "display_data"
    },
    {
     "data": {
      "text/html": [
       "\n",
       "    <h3>ZippingTuples</h3>\n",
       "    <super>True/False Questions</super>\n",
       "    <div>Difficult: 0.93</div>\n",
       "    <div>Discrimination: -0.02</div>\n",
       "    <div>The zip function converts a list to a tuple.</div>\n",
       "    <hr>\n",
       "    "
      ],
      "text/plain": [
       "<IPython.core.display.HTML object>"
      ]
     },
     "metadata": {},
     "output_type": "display_data"
    },
    {
     "data": {
      "text/html": [
       "\n",
       "    <h3>MultipleAssignment</h3>\n",
       "    <super>Multiple Answers Question</super>\n",
       "    <div>Difficult: 0.91</div>\n",
       "    <div>Discrimination: 0.06</div>\n",
       "    <div>Which of the following expressions creates two new variables?</div>\n",
       "    <hr>\n",
       "    "
      ],
      "text/plain": [
       "<IPython.core.display.HTML object>"
      ]
     },
     "metadata": {},
     "output_type": "display_data"
    },
    {
     "data": {
      "text/html": [
       "\n",
       "    <h3>LookupTypes</h3>\n",
       "    <super>Matching Question</super>\n",
       "    <div>Difficult: 0.92</div>\n",
       "    <div>Discrimination: 0.2</div>\n",
       "    <div>\n",
       "<p>Given the following code, what is the type of each of the expressions</p>\n",
       "<pre>animal = (\"Klaus\", 17, True)</pre>\n",
       "</div>\n",
       "    <hr>\n",
       "    "
      ],
      "text/plain": [
       "<IPython.core.display.HTML object>"
      ]
     },
     "metadata": {},
     "output_type": "display_data"
    },
    {
     "data": {
      "text/html": [
       "\n",
       "    <h3>CdUp</h3>\n",
       "    <super>Short Answer Question</super>\n",
       "    <div>Difficult: 0.89</div>\n",
       "    <div>Discrimination: -0.01</div>\n",
       "    <div>Write the command for moving up a directory.</div>\n",
       "    <hr>\n",
       "    "
      ],
      "text/plain": [
       "<IPython.core.display.HTML object>"
      ]
     },
     "metadata": {},
     "output_type": "display_data"
    },
    {
     "data": {
      "text/html": [
       "\n",
       "    <h3>CdFolder</h3>\n",
       "    <super>Short Answer Question</super>\n",
       "    <div>Difficult: 0.87</div>\n",
       "    <div>Discrimination: 0.04</div>\n",
       "    <div>Write the command for moving to a folder named <code>\"homework\"</code> that is in the current directory.</div>\n",
       "    <hr>\n",
       "    "
      ],
      "text/plain": [
       "<IPython.core.display.HTML object>"
      ]
     },
     "metadata": {},
     "output_type": "display_data"
    },
    {
     "data": {
      "text/html": [
       "\n",
       "    <h3>Pwd</h3>\n",
       "    <super>Short Answer Question</super>\n",
       "    <div>Difficult: 0.93</div>\n",
       "    <div>Discrimination: 0.05</div>\n",
       "    <div>Write the command for printing the current directory.</div>\n",
       "    <hr>\n",
       "    "
      ],
      "text/plain": [
       "<IPython.core.display.HTML object>"
      ]
     },
     "metadata": {},
     "output_type": "display_data"
    },
    {
     "data": {
      "text/html": [
       "\n",
       "    <h3>Ls</h3>\n",
       "    <super>Short Answer Question</super>\n",
       "    <div>Difficult: 0.92</div>\n",
       "    <div>Discrimination: 0.08</div>\n",
       "    <div>Write the command for listing files in the current directory.</div>\n",
       "    <hr>\n",
       "    "
      ],
      "text/plain": [
       "<IPython.core.display.HTML object>"
      ]
     },
     "metadata": {},
     "output_type": "display_data"
    },
    {
     "data": {
      "text/html": [
       "\n",
       "    <h3>FindLocations</h3>\n",
       "    <super>Multiple Drop-Down Question</super>\n",
       "    <div>Difficult: 0.93</div>\n",
       "    <div>Discrimination: 0.07</div>\n",
       "    <div><p>Given the following map of a filesystem...</p>\n",
       "<pre>/root/\n",
       "    anaconda/\n",
       "        readme.rst\n",
       "        python.exe\n",
       "        qt.conf\n",
       "    classes/\n",
       "        cs1064/\n",
       "            adventure_game.py\n",
       "            assignment2.txt\n",
       "            ethics_submission.pdf\n",
       "        dog1223/\n",
       "            readings.pdf\n",
       "            project1.docx\n",
       "            DCIM-1221.jpg\n",
       "    data/\n",
       "        survey_results.csv\n",
       "        state_names.json\n",
       "        f15_student_logs.txt\n",
       "</pre>\n",
       "<p>Answer the following:</p>\n",
       "<ul>\n",
       "<li>What is the full path to the folder \"data/\"? [data-full]</li>\n",
       "<li>What is the full path to the file \"DCIM-1221.jpg\"? [dcim-full]</li>\n",
       "<li>If you are currently in directory <code>data/</code>, which of the following is NOT a path to the <code>readings.pdf</code> file? [readings-relative]</li>\n",
       "<li>If you are currently in directory <code>cs1064/</code>, which of the following is NOT a path to the <code>survey_results.csv</code> file? [survey-relative]</li>\n",
       "</ul></div>\n",
       "    <hr>\n",
       "    "
      ],
      "text/plain": [
       "<IPython.core.display.HTML object>"
      ]
     },
     "metadata": {},
     "output_type": "display_data"
    },
    {
     "data": {
      "text/html": [
       "\n",
       "    <h3>WhyForward</h3>\n",
       "    <super>Multiple Answers Question</super>\n",
       "    <div>Difficult: 0.93</div>\n",
       "    <div>Discrimination: 0.12</div>\n",
       "    <div>Why should you tend to use forward slashes in Python?</div>\n",
       "    <hr>\n",
       "    "
      ],
      "text/plain": [
       "<IPython.core.display.HTML object>"
      ]
     },
     "metadata": {},
     "output_type": "display_data"
    },
    {
     "data": {
      "text/html": [
       "\n",
       "    <h3>TerminalCommands</h3>\n",
       "    <super>True/False Questions</super>\n",
       "    <div>Difficult: 0.94</div>\n",
       "    <div>Discrimination: -0.12</div>\n",
       "    <div><p>The <code>pwd</code> command works in every Python environment, including ones like Spyder and BlockPy.</p></div>\n",
       "    <hr>\n",
       "    "
      ],
      "text/plain": [
       "<IPython.core.display.HTML object>"
      ]
     },
     "metadata": {},
     "output_type": "display_data"
    },
    {
     "data": {
      "text/html": [
       "\n",
       "    <h3>OpenClose</h3>\n",
       "    <super>True/False Questions</super>\n",
       "    <div>Difficult: 0.91</div>\n",
       "    <div>Discrimination: 0.13</div>\n",
       "    <div>After opening a file, you should always close a file.</div>\n",
       "    <hr>\n",
       "    "
      ],
      "text/plain": [
       "<IPython.core.display.HTML object>"
      ]
     },
     "metadata": {},
     "output_type": "display_data"
    },
    {
     "data": {
      "text/html": [
       "\n",
       "    <h3>ForFile</h3>\n",
       "    <super>True/False Questions</super>\n",
       "    <div>Difficult: 0.91</div>\n",
       "    <div>Discrimination: 0.19</div>\n",
       "    <div>A <code>for</code> loop will process a file sentence-by-sentence.</div>\n",
       "    <hr>\n",
       "    "
      ],
      "text/plain": [
       "<IPython.core.display.HTML object>"
      ]
     },
     "metadata": {},
     "output_type": "display_data"
    },
    {
     "data": {
      "text/html": [
       "\n",
       "    <h3>OpenFile</h3>\n",
       "    <super>True/False Questions</super>\n",
       "    <div>Difficult: 0.91</div>\n",
       "    <div>Discrimination: 0.06</div>\n",
       "    <div>The <code>open</code> function consumes a string representing a path and returns a string of the file's data.</div>\n",
       "    <hr>\n",
       "    "
      ],
      "text/plain": [
       "<IPython.core.display.HTML object>"
      ]
     },
     "metadata": {},
     "output_type": "display_data"
    },
    {
     "data": {
      "text/html": [
       "\n",
       "    <h3>TypeReading</h3>\n",
       "    <super>Multiple Choice Question</super>\n",
       "    <div>Difficult: 0.91</div>\n",
       "    <div>Discrimination: 0.12</div>\n",
       "    <div>\n",
       "<p>Given the file named <code>grades.txt</code> with the following contents:</p>\n",
       "<pre>90, 85, 100\n",
       "</pre>\n",
       "<p>And the following python code:</p>\n",
       "<pre>grade_file = open(\"grades.txt\")\n",
       "grade_data = grade_file.read()\n",
       "</pre>\n",
       "<p>What will be the type of <code>grade_data</code>?</p>\n",
       "</div>\n",
       "    <hr>\n",
       "    "
      ],
      "text/plain": [
       "<IPython.core.display.HTML object>"
      ]
     },
     "metadata": {},
     "output_type": "display_data"
    },
    {
     "data": {
      "text/html": [
       "\n",
       "    <h3>FileNotFoundError</h3>\n",
       "    <super>Multiple Answers Question</super>\n",
       "    <div>Difficult: 0.91</div>\n",
       "    <div>Discrimination: 0.04</div>\n",
       "    <div>Which of the following are causes of a <code>FileNotFoundError</code>?</div>\n",
       "    <hr>\n",
       "    "
      ],
      "text/plain": [
       "<IPython.core.display.HTML object>"
      ]
     },
     "metadata": {},
     "output_type": "display_data"
    },
    {
     "data": {
      "text/html": [
       "\n",
       "    <h3>ImportFunction</h3>\n",
       "    <super>True/False Questions</super>\n",
       "    <div>Difficult: 0.9</div>\n",
       "    <div>Discrimination: 0.05</div>\n",
       "    <div>\n",
       "<code>import</code> is a function that takes in the name of a module and loads the functions, variables, and other definitions.</div>\n",
       "    <hr>\n",
       "    "
      ],
      "text/plain": [
       "<IPython.core.display.HTML object>"
      ]
     },
     "metadata": {},
     "output_type": "display_data"
    },
    {
     "data": {
      "text/html": [
       "\n",
       "    <h3>MathModuleContents</h3>\n",
       "    <super>Multiple Answers Question</super>\n",
       "    <div>Difficult: 0.9</div>\n",
       "    <div>Discrimination: 0.16</div>\n",
       "    <div>Review the <a href=\"https://docs.python.org/3/library/math.html\">documentation</a> for the built-in <code>math</code> module. Which of the following are functions available from it?</div>\n",
       "    <hr>\n",
       "    "
      ],
      "text/plain": [
       "<IPython.core.display.HTML object>"
      ]
     },
     "metadata": {},
     "output_type": "display_data"
    },
    {
     "data": {
      "text/html": [
       "\n",
       "    <h3>ExplainImport</h3>\n",
       "    <super>Multiple Choice Question</super>\n",
       "    <div>Difficult: 0.91</div>\n",
       "    <div>Discrimination: 0.05</div>\n",
       "    <div>\n",
       "<p>Which of the following is the best description of this line of code?</p>\n",
       "<pre>from math import sqrt as square_root\n",
       "</pre>\n",
       "</div>\n",
       "    <hr>\n",
       "    "
      ],
      "text/plain": [
       "<IPython.core.display.HTML object>"
      ]
     },
     "metadata": {},
     "output_type": "display_data"
    },
    {
     "data": {
      "text/html": [
       "\n",
       "    <h3>ModulePackageVariablesDefinitions</h3>\n",
       "    <super>Matching Question</super>\n",
       "    <div>Difficult: 0.89</div>\n",
       "    <div>Discrimination: 0.19</div>\n",
       "    <div>A <u> 1 </u> contains <u> 2 </u>, which in turn can provide functions, <u> 3 </u>, and more after being imported</div>\n",
       "    <hr>\n",
       "    "
      ],
      "text/plain": [
       "<IPython.core.display.HTML object>"
      ]
     },
     "metadata": {},
     "output_type": "display_data"
    },
    {
     "data": {
      "text/html": [
       "\n",
       "    <h3>KeywordArgument</h3>\n",
       "    <super>Multiple Choice Question</super>\n",
       "    <div>Difficult: 0.88</div>\n",
       "    <div>Discrimination: 0.17</div>\n",
       "    <div>Which of the following is the proper syntax for a keyword argument?</div>\n",
       "    <hr>\n",
       "    "
      ],
      "text/plain": [
       "<IPython.core.display.HTML object>"
      ]
     },
     "metadata": {},
     "output_type": "display_data"
    },
    {
     "data": {
      "text/html": [
       "\n",
       "    <h3>ImportBeforeUse</h3>\n",
       "    <super>True/False Questions</super>\n",
       "    <div>Difficult: 0.9</div>\n",
       "    <div>Discrimination: 0.05</div>\n",
       "    <div>You must import the <code>json</code> module before you can use the <code>load</code> function.</div>\n",
       "    <hr>\n",
       "    "
      ],
      "text/plain": [
       "<IPython.core.display.HTML object>"
      ]
     },
     "metadata": {},
     "output_type": "display_data"
    },
    {
     "data": {
      "text/html": [
       "\n",
       "    <h3>EqualLoad</h3>\n",
       "    <super>Multiple Answers Question</super>\n",
       "    <div>Difficult: 0.88</div>\n",
       "    <div>Discrimination: 0.11</div>\n",
       "    <div>Which of the following two snippets of code are equivalent and correct?</div>\n",
       "    <hr>\n",
       "    "
      ],
      "text/plain": [
       "<IPython.core.display.HTML object>"
      ]
     },
     "metadata": {},
     "output_type": "display_data"
    },
    {
     "data": {
      "text/html": [
       "\n",
       "    <h3>JsonLoadArgument</h3>\n",
       "    <super>True/False Questions</super>\n",
       "    <div>Difficult: 0.89</div>\n",
       "    <div>Discrimination: -0.03</div>\n",
       "    <div>The <code>load</code> method from the <code>json</code> module consumes a string representing a filename.</div>\n",
       "    <hr>\n",
       "    "
      ],
      "text/plain": [
       "<IPython.core.display.HTML object>"
      ]
     },
     "metadata": {},
     "output_type": "display_data"
    },
    {
     "data": {
      "text/html": [
       "\n",
       "    <h3>JsonType</h3>\n",
       "    <super>Multiple Choice Question</super>\n",
       "    <div>Difficult: 0.89</div>\n",
       "    <div>Discrimination: 0.07</div>\n",
       "    <div>\n",
       "<p>Given the file <code>scores.json</code> with the following contents:</p>\n",
       "<pre>[44, 45, 23, 33]\n",
       "</pre>\n",
       "<p>And the following code:</p>\n",
       "<pre>import json\n",
       "scores = json.load(open('scores.json'))\n",
       "</pre>\n",
       "<p>What is the type of <code>scores</code>?</p>\n",
       "</div>\n",
       "    <hr>\n",
       "    "
      ],
      "text/plain": [
       "<IPython.core.display.HTML object>"
      ]
     },
     "metadata": {},
     "output_type": "display_data"
    },
    {
     "data": {
      "text/html": [
       "\n",
       "    <h3>JSONTypes</h3>\n",
       "    <super>Multiple Answers Question</super>\n",
       "    <div>Difficult: 0.89</div>\n",
       "    <div>Discrimination: 0.07</div>\n",
       "    <div>The built-in <code>json</code> module can load and dump only certain kinds of data by default. According to <a href=\"https://docs.python.org/3.6/library/json.html#json.JSONDecoder\">this table in the documentation</a>, which of the following types can be represented in the JSON format?</div>\n",
       "    <hr>\n",
       "    "
      ],
      "text/plain": [
       "<IPython.core.display.HTML object>"
      ]
     },
     "metadata": {},
     "output_type": "display_data"
    },
    {
     "data": {
      "text/html": [
       "\n",
       "    <h3>StringURL</h3>\n",
       "    <super>True/False Questions</super>\n",
       "    <div>Difficult: 0.86</div>\n",
       "    <div>Discrimination: -0.09</div>\n",
       "    <div>A URL is easily stored as a string.</div>\n",
       "    <hr>\n",
       "    "
      ],
      "text/plain": [
       "<IPython.core.display.HTML object>"
      ]
     },
     "metadata": {},
     "output_type": "display_data"
    },
    {
     "data": {
      "text/html": [
       "\n",
       "    <h3>GetReturns</h3>\n",
       "    <super>True/False Questions</super>\n",
       "    <div>Difficult: 0.86</div>\n",
       "    <div>Discrimination: -0.02</div>\n",
       "    <div>The <code>get</code> function from the <code>requests</code> module consumes a string URL and returns a string representing the contents of the website.</div>\n",
       "    <hr>\n",
       "    "
      ],
      "text/plain": [
       "<IPython.core.display.HTML object>"
      ]
     },
     "metadata": {},
     "output_type": "display_data"
    },
    {
     "data": {
      "text/html": [
       "\n",
       "    <h3>ResponseText</h3>\n",
       "    <super>True/False Questions</super>\n",
       "    <div>Difficult: 0.86</div>\n",
       "    <div>Discrimination: -0.05</div>\n",
       "    <div>\n",
       "<p>After the following code is executed to retrieve a Text file,</p>\n",
       "<pre>import requests\n",
       "response = requests.get(\"www.example.com/data.txt\")</pre>\n",
       "<p>You can print the text of the website with the following code:</p>\n",
       "<pre>print(response.text)</pre>\n",
       "</div>\n",
       "    <hr>\n",
       "    "
      ],
      "text/plain": [
       "<IPython.core.display.HTML object>"
      ]
     },
     "metadata": {},
     "output_type": "display_data"
    },
    {
     "data": {
      "text/html": [
       "\n",
       "    <h3>ResponseJSON</h3>\n",
       "    <super>True/False Questions</super>\n",
       "    <div>Difficult: 0.86</div>\n",
       "    <div>Discrimination: 0.13</div>\n",
       "    <div>\n",
       "<p>After the following code is executed to retrieve a JSON file,</p>\n",
       "<pre>import requests\n",
       "response = requests.get(\"www.example.com/data.json\")</pre>\n",
       "<p>You can print a JSON representation of the website with the following code:</p>\n",
       "<pre>print(response.json)</pre>\n",
       "</div>\n",
       "    <hr>\n",
       "    "
      ],
      "text/plain": [
       "<IPython.core.display.HTML object>"
      ]
     },
     "metadata": {},
     "output_type": "display_data"
    },
    {
     "data": {
      "text/html": [
       "\n",
       "    <h3>SpecificURL</h3>\n",
       "    <super>Multiple Choice Question</super>\n",
       "    <div>Difficult: 0.86</div>\n",
       "    <div>Discrimination: 0.22</div>\n",
       "    <div>Your instructor gives you the following URL to access: <code>https://jsonplaceholder.typicode.com/posts</code>. Which of the following is the correct way to access it?</div>\n",
       "    <hr>\n",
       "    "
      ],
      "text/plain": [
       "<IPython.core.display.HTML object>"
      ]
     },
     "metadata": {},
     "output_type": "display_data"
    },
    {
     "data": {
      "text/html": [
       "\n",
       "    <h3>WebHazards</h3>\n",
       "    <super>Multiple Answers Question</super>\n",
       "    <div>Difficult: 0.86</div>\n",
       "    <div>Discrimination: 0.09</div>\n",
       "    <div>Which of the following are hazards of using web data?</div>\n",
       "    <hr>\n",
       "    "
      ],
      "text/plain": [
       "<IPython.core.display.HTML object>"
      ]
     },
     "metadata": {},
     "output_type": "display_data"
    },
    {
     "data": {
      "text/html": [
       "\n",
       "    <h3>GraphQuestions</h3>\n",
       "    <super>Matching Question</super>\n",
       "    <div>Difficult: 0.7</div>\n",
       "    <div>Discrimination: 0.07</div>\n",
       "    <div>Match the type of graph with the kind of question it is most suited to.</div>\n",
       "    <hr>\n",
       "    "
      ],
      "text/plain": [
       "<IPython.core.display.HTML object>"
      ]
     },
     "metadata": {},
     "output_type": "display_data"
    },
    {
     "data": {
      "text/html": [
       "\n",
       "    <h3>ShowingGraphs</h3>\n",
       "    <super>True/False Questions</super>\n",
       "    <div>Difficult: 0.71</div>\n",
       "    <div>Discrimination: -0.01</div>\n",
       "    <div>To make a plot appear, the <code>show</code> function is necessary.</div>\n",
       "    <hr>\n",
       "    "
      ],
      "text/plain": [
       "<IPython.core.display.HTML object>"
      ]
     },
     "metadata": {},
     "output_type": "display_data"
    },
    {
     "data": {
      "text/html": [
       "\n",
       "    <h3>MergingGraphs</h3>\n",
       "    <super>Multiple Choice Question</super>\n",
       "    <div>Difficult: 0.71</div>\n",
       "    <div>Discrimination: 0.06</div>\n",
       "    <div>\n",
       "<p>How many graphs will the following code create?</p>\n",
       "<pre>import matplotlib.pyplot as plt\n",
       "plt.hist([1,2,3])\n",
       "plt.hist([1,2,3])\n",
       "plt.show()\n",
       "</pre>\n",
       "</div>\n",
       "    <hr>\n",
       "    "
      ],
      "text/plain": [
       "<IPython.core.display.HTML object>"
      ]
     },
     "metadata": {},
     "output_type": "display_data"
    },
    {
     "data": {
      "text/html": [
       "\n",
       "    <h3>ImportingMatPlotLib</h3>\n",
       "    <super>Multiple Choice Question</super>\n",
       "    <div>Difficult: 0.71</div>\n",
       "    <div>Discrimination: 0.2</div>\n",
       "    <div>How many times do you need to import MatPlotLib?</div>\n",
       "    <hr>\n",
       "    "
      ],
      "text/plain": [
       "<IPython.core.display.HTML object>"
      ]
     },
     "metadata": {},
     "output_type": "display_data"
    },
    {
     "data": {
      "text/html": [
       "\n",
       "    <h3>HistogramsBarGraphs</h3>\n",
       "    <super>True/False Questions</super>\n",
       "    <div>Difficult: 0.71</div>\n",
       "    <div>Discrimination: 0.1</div>\n",
       "    <div>Bar graphs and Histograms are the same thing.</div>\n",
       "    <hr>\n",
       "    "
      ],
      "text/plain": [
       "<IPython.core.display.HTML object>"
      ]
     },
     "metadata": {},
     "output_type": "display_data"
    },
    {
     "data": {
      "text/html": [
       "\n",
       "    <h3>InterpretingHistograms</h3>\n",
       "    <super>Multiple Choice Question</super>\n",
       "    <div>Difficult: 0.71</div>\n",
       "    <div>Discrimination: 0.03</div>\n",
       "    <div>\n",
       "<p>The following code</p>\n",
       "<pre>import matplotlib.pyplot as plt\n",
       "import json\n",
       "grades = json.load(open(\"student_grades.json\"))\n",
       "plt.hist(grades)\n",
       "plt.show()</pre>\n",
       "<p>Was used to generate this Histogram.</p>\n",
       "<p><img src=\"https://vt.instructure.com/files/5193818/download?verifier=jltuRbdsaiwYYnzCxBrjXkkUc7egZOOgR2OaGrJH&amp;wrap=1\" alt=\"29-plotting-quizGraphics-plot.png\"></p>\n",
       "<p>What is the correct interpretation of the graph?</p>\n",
       "</div>\n",
       "    <hr>\n",
       "    "
      ],
      "text/plain": [
       "<IPython.core.display.HTML object>"
      ]
     },
     "metadata": {},
     "output_type": "display_data"
    },
    {
     "data": {
      "text/html": [
       "\n",
       "    <h3>MarkdownPython</h3>\n",
       "    <super>True/False Questions</super>\n",
       "    <div>Difficult: 0.93</div>\n",
       "    <div>Discrimination: 0.1</div>\n",
       "    <div>Markdown is a type of Python code.</div>\n",
       "    <hr>\n",
       "    "
      ],
      "text/plain": [
       "<IPython.core.display.HTML object>"
      ]
     },
     "metadata": {},
     "output_type": "display_data"
    },
    {
     "data": {
      "text/html": [
       "\n",
       "    <h3>JupyterComposition</h3>\n",
       "    <super>True/False Questions</super>\n",
       "    <div>Difficult: 0.93</div>\n",
       "    <div>Discrimination: 0.05</div>\n",
       "    <div>A Jupyter Notebook is composed of Markdown, Code, and the results of running that Code.</div>\n",
       "    <hr>\n",
       "    "
      ],
      "text/plain": [
       "<IPython.core.display.HTML object>"
      ]
     },
     "metadata": {},
     "output_type": "display_data"
    },
    {
     "data": {
      "text/html": [
       "\n",
       "    <h3>JupytersUse</h3>\n",
       "    <super>True/False Questions</super>\n",
       "    <div>Difficult: 0.93</div>\n",
       "    <div>Discrimination: 0.1</div>\n",
       "    <div>Jupter Notebooks are strictly a tool for educational purposes.</div>\n",
       "    <hr>\n",
       "    "
      ],
      "text/plain": [
       "<IPython.core.display.HTML object>"
      ]
     },
     "metadata": {},
     "output_type": "display_data"
    },
    {
     "data": {
      "text/html": [
       "\n",
       "    <h3>JupyterPackaging</h3>\n",
       "    <super>True/False Questions</super>\n",
       "    <div>Difficult: 0.93</div>\n",
       "    <div>Discrimination: 0.04</div>\n",
       "    <div>Jupyter Notebooks are a basic part of a Python installation.</div>\n",
       "    <hr>\n",
       "    "
      ],
      "text/plain": [
       "<IPython.core.display.HTML object>"
      ]
     },
     "metadata": {},
     "output_type": "display_data"
    },
    {
     "data": {
      "text/html": [
       "\n",
       "    <h3>MarkdownFormat</h3>\n",
       "    <super>Multiple Choice Question</super>\n",
       "    <div>Difficult: 0.92</div>\n",
       "    <div>Discrimination: 0.07</div>\n",
       "    <div>Which of the following creates a section header in Markdown?</div>\n",
       "    <hr>\n",
       "    "
      ],
      "text/plain": [
       "<IPython.core.display.HTML object>"
      ]
     },
     "metadata": {},
     "output_type": "display_data"
    },
    {
     "data": {
      "text/html": [
       "\n",
       "    <h3>SharingJupyter</h3>\n",
       "    <super>True/False Questions</super>\n",
       "    <div>Difficult: 0.93</div>\n",
       "    <div>Discrimination: 0.03</div>\n",
       "    <div><p>When you are done creating a Jupyter Notebook, you can share it as Python code, a HTML, and several other useful formats.</p></div>\n",
       "    <hr>\n",
       "    "
      ],
      "text/plain": [
       "<IPython.core.display.HTML object>"
      ]
     },
     "metadata": {},
     "output_type": "display_data"
    },
    {
     "data": {
      "text/html": [
       "\n",
       "    <h3>JupyterFormat</h3>\n",
       "    <super>True/False Questions</super>\n",
       "    <div>Difficult: 0.93</div>\n",
       "    <div>Discrimination: 0.05</div>\n",
       "    <div>Jupyter Notebooks is a useful file format for sharing data, like JSON or CSV.</div>\n",
       "    <hr>\n",
       "    "
      ],
      "text/plain": [
       "<IPython.core.display.HTML object>"
      ]
     },
     "metadata": {},
     "output_type": "display_data"
    },
    {
     "data": {
      "text/html": [
       "\n",
       "    <h3>DataScienceDefinition</h3>\n",
       "    <super>True/False Questions</super>\n",
       "    <div>Difficult: 0.61</div>\n",
       "    <div>Discrimination: 0.04</div>\n",
       "    <div>Data Science involves extracting meaning from data.</div>\n",
       "    <hr>\n",
       "    "
      ],
      "text/plain": [
       "<IPython.core.display.HTML object>"
      ]
     },
     "metadata": {},
     "output_type": "display_data"
    },
    {
     "data": {
      "text/html": [
       "\n",
       "    <h3>NonlinearWorkflow</h3>\n",
       "    <super>True/False Questions</super>\n",
       "    <div>Difficult: 0.61</div>\n",
       "    <div>Discrimination: 0.12</div>\n",
       "    <div>Data Science is a straight-forward process with no iterative design.</div>\n",
       "    <hr>\n",
       "    "
      ],
      "text/plain": [
       "<IPython.core.display.HTML object>"
      ]
     },
     "metadata": {},
     "output_type": "display_data"
    },
    {
     "data": {
      "text/html": [
       "\n",
       "    <h3>DataScienceVsComputerScienceDefinitions</h3>\n",
       "    <super>True/False Questions</super>\n",
       "    <div>Difficult: 0.61</div>\n",
       "    <div>Discrimination: 0.16</div>\n",
       "    <div>Data Science is another name for Computer Science.</div>\n",
       "    <hr>\n",
       "    "
      ],
      "text/plain": [
       "<IPython.core.display.HTML object>"
      ]
     },
     "metadata": {},
     "output_type": "display_data"
    },
    {
     "data": {
      "text/html": [
       "\n",
       "    <h3>WorkflowOrder</h3>\n",
       "    <super>Matching Question</super>\n",
       "    <div>Difficult: 0.59</div>\n",
       "    <div>Discrimination: 0.02</div>\n",
       "    <div>Put these steps in order of a typical Data Science workflow:</div>\n",
       "    <hr>\n",
       "    "
      ],
      "text/plain": [
       "<IPython.core.display.HTML object>"
      ]
     },
     "metadata": {},
     "output_type": "display_data"
    },
    {
     "data": {
      "text/html": [
       "\n",
       "    <h3>Functions Overview</h3>\n",
       "    <super>Fill in Multiple Blanks</super>\n",
       "    <div>Difficult: 0.81</div>\n",
       "    <div>Discrimination: 0.15</div>\n",
       "    <div><table class=\"table\" border=\"1px\" cellpadding=\"5\">\n",
       "<tbody>\n",
       "<tr>\n",
       "<th>#</th>\n",
       "<th>Function Name</th>\n",
       "<th>Number of Parameters</th>\n",
       "<th>Takes input?</th>\n",
       "<th>Prints?</th>\n",
       "<th>Return Type</th>\n",
       "</tr>\n",
       "<tr>\n",
       "<td>1)</td>\n",
       "<td><code>main</code></td>\n",
       "<td>0</td>\n",
       "<td>No</td>\n",
       "<td>No</td>\n",
       "<td><code>None</code></td>\n",
       "</tr>\n",
       "<tr>\n",
       "<td>2)</td>\n",
       "<td><code>print_introduction</code></td>\n",
       "<td>0</td>\n",
       "<td>No</td>\n",
       "<td>Yes</td>\n",
       "<td><code>None</code></td>\n",
       "</tr>\n",
       "<tr>\n",
       "<td>3)</td>\n",
       "<td><code>input_name</code></td>\n",
       "<td>[3_params]</td>\n",
       "<td>[3_input]</td>\n",
       "<td>[3_prints]</td>\n",
       "<td>[3_return]</td>\n",
       "</tr>\n",
       "<tr>\n",
       "<td>4)</td>\n",
       "<td><code>calculate_rating</code></td>\n",
       "<td>1</td>\n",
       "<td>No</td>\n",
       "<td>No</td>\n",
       "<td><code>int</code></td>\n",
       "</tr>\n",
       "<tr>\n",
       "<td>5)</td>\n",
       "<td><code>print_rating</code></td>\n",
       "<td>[5_params]</td>\n",
       "<td>[5_input]</td>\n",
       "<td>[5_prints]</td>\n",
       "<td>[5_return]</td>\n",
       "</tr>\n",
       "<tr>\n",
       "<td>6)</td>\n",
       "<td><code>input_loan_amount</code></td>\n",
       "<td>[6_params]</td>\n",
       "<td>[6_input]</td>\n",
       "<td>[6_prints]</td>\n",
       "<td>[6_return]</td>\n",
       "</tr>\n",
       "<tr>\n",
       "<td>7)</td>\n",
       "<td><code>print_loan_availability</code></td>\n",
       "<td>[7_params]</td>\n",
       "<td>[7_input]</td>\n",
       "<td>[7_prints]</td>\n",
       "<td>[7_return]</td>\n",
       "</tr>\n",
       "<tr>\n",
       "<td>8)</td>\n",
       "<td><code>test_loan</code></td>\n",
       "<td>[8_params]</td>\n",
       "<td>[8_input]</td>\n",
       "<td>[8_prints]</td>\n",
       "<td>[8_return]</td>\n",
       "</tr>\n",
       "<tr>\n",
       "<td>9)</td>\n",
       "<td><code>print_conclusion</code></td>\n",
       "<td>[9_params]</td>\n",
       "<td>[9_input]</td>\n",
       "<td>[9_prints]</td>\n",
       "<td>[9_return]</td>\n",
       "</tr>\n",
       "</tbody>\n",
       "</table></div>\n",
       "    <hr>\n",
       "    "
      ],
      "text/plain": [
       "<IPython.core.display.HTML object>"
      ]
     },
     "metadata": {},
     "output_type": "display_data"
    }
   ],
   "source": [
    "from IPython.display import HTML, display\n",
    "for problem in df.itertuples():\n",
    "    display(HTML(\"\"\"\n",
    "    <h3>{question_name}</h3>\n",
    "    <super>{name}</super>\n",
    "    <div>Difficult: {difficulty}</div>\n",
    "    <div>Discrimination: {discrimination}</div>\n",
    "    <div>{text}</div>\n",
    "    <hr>\n",
    "    \"\"\".format(question_name=problem.question_name, text=problem.text, name=problem.name,\n",
    "              difficulty=round(problem._2, 2), \n",
    "               discrimination=round(problem._5, 2)\n",
    "              )))"
   ]
  },
  {
   "cell_type": "code",
   "execution_count": 25,
   "metadata": {},
   "outputs": [
    {
     "data": {
      "text/plain": [
       "True/False Questions           138\n",
       "Multiple Choice Question        54\n",
       "Multiple Answers Question       41\n",
       "Matching Question               39\n",
       "Short Answer Question           32\n",
       "Fill in Multiple Blanks         10\n",
       "Multiple Drop-Down Question      2\n",
       "Abstract Quiz Question Type      1\n",
       "Name: name, dtype: int64"
      ]
     },
     "execution_count": 25,
     "metadata": {},
     "output_type": "execute_result"
    }
   ],
   "source": [
    "df[~df.anonymous].name.value_counts()"
   ]
  },
  {
   "cell_type": "code",
   "execution_count": 29,
   "metadata": {},
   "outputs": [
    {
     "data": {
      "text/plain": [
       "array([ '<p><span>Select each of the following if the expression evaluates to True, according to the rules of Truthiness in Python. The questions might change each time you take the quiz.</span></p>'], dtype=object)"
      ]
     },
     "execution_count": 29,
     "metadata": {},
     "output_type": "execute_result"
    }
   ],
   "source": [
    "df[df.name==\"Abstract Quiz Question Type\"].text.values"
   ]
  }
 ],
 "metadata": {
  "kernelspec": {
   "display_name": "Python [conda env:Anaconda3]",
   "language": "python",
   "name": "conda-env-Anaconda3-py"
  },
  "language_info": {
   "codemirror_mode": {
    "name": "ipython",
    "version": 3
   },
   "file_extension": ".py",
   "mimetype": "text/x-python",
   "name": "python",
   "nbconvert_exporter": "python",
   "pygments_lexer": "ipython3",
   "version": "3.5.4"
  }
 },
 "nbformat": 4,
 "nbformat_minor": 2
}
